{
 "cells": [
  {
   "cell_type": "markdown",
   "id": "60a3963f1feda463",
   "metadata": {
    "collapsed": false
   },
   "source": [
    "## Founder Idea Fit\n",
    "\n",
    "### Steps: Load Data -> Calculate Score -> Get Features -> Train Network"
   ]
  },
  {
   "cell_type": "markdown",
   "id": "399a5b455da1119b",
   "metadata": {
    "collapsed": false
   },
   "source": [
    "### Load Data First\n",
    "\n",
    "##### Features: GPT3.5 -> 500 per each"
   ]
  },
  {
   "cell_type": "code",
   "execution_count": 2,
   "id": "b98d39b81ff117c8",
   "metadata": {
    "ExecuteTime": {
     "end_time": "2024-03-22T14:53:44.752489Z",
     "start_time": "2024-03-22T14:53:44.748229Z"
    },
    "collapsed": false
   },
   "outputs": [],
   "source": [
    "import pandas as pd"
   ]
  },
  {
   "cell_type": "code",
   "execution_count": 3,
   "id": "c5d8c880fc7af468",
   "metadata": {
    "ExecuteTime": {
     "end_time": "2024-03-22T14:53:46.679168Z",
     "start_time": "2024-03-22T14:53:46.524248Z"
    },
    "collapsed": false
   },
   "outputs": [],
   "source": [
    "successful = pd.read_csv(\"/Users/wangxiang/Desktop/VelaInternship/data/successful/categorical_successful_profiles_gpt-3.5-turbo_7_100_100.csv\")\n",
    "unsuccessful = pd.read_csv(\"/Users/wangxiang/Desktop/VelaInternship/data/Unsuccessful/categorical_unsuccessful_profiles_gpt-3.5-turbo_7_100_100.csv\")"
   ]
  },
  {
   "cell_type": "code",
   "execution_count": 4,
   "id": "2dd9a3097842800e",
   "metadata": {
    "ExecuteTime": {
     "end_time": "2024-03-22T14:53:47.244389Z",
     "start_time": "2024-03-22T14:53:47.225034Z"
    },
    "collapsed": false
   },
   "outputs": [
    {
     "data": {
      "text/html": [
       "<div>\n",
       "<style scoped>\n",
       "    .dataframe tbody tr th:only-of-type {\n",
       "        vertical-align: middle;\n",
       "    }\n",
       "\n",
       "    .dataframe tbody tr th {\n",
       "        vertical-align: top;\n",
       "    }\n",
       "\n",
       "    .dataframe thead th {\n",
       "        text-align: right;\n",
       "    }\n",
       "</style>\n",
       "<table border=\"1\" class=\"dataframe\">\n",
       "  <thead>\n",
       "    <tr style=\"text-align: right;\">\n",
       "      <th></th>\n",
       "      <th>Unnamed: 0</th>\n",
       "      <th>org_name</th>\n",
       "      <th>org_uuid</th>\n",
       "      <th>founder_linkedin_url</th>\n",
       "      <th>json_string</th>\n",
       "      <th>structured_info</th>\n",
       "      <th>paragraph</th>\n",
       "      <th>domain</th>\n",
       "      <th>status</th>\n",
       "      <th>founded_on</th>\n",
       "      <th>category_list</th>\n",
       "      <th>category_groups_list</th>\n",
       "      <th>country_code</th>\n",
       "      <th>city</th>\n",
       "      <th>short_description</th>\n",
       "      <th>long_description</th>\n",
       "      <th>integrated_info</th>\n",
       "      <th>categories</th>\n",
       "    </tr>\n",
       "  </thead>\n",
       "  <tbody>\n",
       "    <tr>\n",
       "      <th>0</th>\n",
       "      <td>100</td>\n",
       "      <td>Afterpay</td>\n",
       "      <td>73dcd501-3e89-471b-9c34-b7a77ecabb1f</td>\n",
       "      <td>https://www.linkedin.com/in/anthony-eisen-a861...</td>\n",
       "      <td>{\"version\": 1, \"hits\": 1, \"results\": 1, \"kgver...</td>\n",
       "      <td>{'name': 'Anthony Eisen', 'gender': 'Male', 'b...</td>\n",
       "      <td>Anthony Eisen is known for their contribution ...</td>\n",
       "      <td>afterpay.com</td>\n",
       "      <td>acquired</td>\n",
       "      <td>1/1/14</td>\n",
       "      <td>E-Commerce,FinTech,Payments,Retail Technology</td>\n",
       "      <td>Commerce and Shopping,Financial Services,Hardw...</td>\n",
       "      <td>AUS</td>\n",
       "      <td>Melbourne</td>\n",
       "      <td>Afterpay allows shoppers to receive products i...</td>\n",
       "      <td>Afterpay Limited has transformed the way peopl...</td>\n",
       "      <td>Organisation's Name: Afterpay Founder's Info: ...</td>\n",
       "      <td>{\\n    \"startup_analysis_responses\": {\\n      ...</td>\n",
       "    </tr>\n",
       "    <tr>\n",
       "      <th>1</th>\n",
       "      <td>101</td>\n",
       "      <td>Agile Robots AG</td>\n",
       "      <td>20885962-6777-4fd3-a4bc-c39e36e658da</td>\n",
       "      <td>https://www.linkedin.com/in/zhaopeng-chen-b828...</td>\n",
       "      <td>{\"version\": 1, \"hits\": 1, \"results\": 1, \"kgver...</td>\n",
       "      <td>{'name': 'Zhaopeng Chen', 'gender': '', 'birth...</td>\n",
       "      <td>Zhaopeng Chen is known for their contribution ...</td>\n",
       "      <td>agile-robots.com</td>\n",
       "      <td>operating</td>\n",
       "      <td>1/1/18</td>\n",
       "      <td>Artificial Intelligence,Industrial Automation,...</td>\n",
       "      <td>Artificial Intelligence,Data and Analytics,Har...</td>\n",
       "      <td>DEU</td>\n",
       "      <td>Gilching</td>\n",
       "      <td>Agile Robots is an intelligent robot system de...</td>\n",
       "      <td>Agile Robots is an intelligent robot system de...</td>\n",
       "      <td>Organisation's Name: Agile Robots AG Founder's...</td>\n",
       "      <td>{\\n  \"startup_analysis_responses\": {\\n    \"ind...</td>\n",
       "    </tr>\n",
       "    <tr>\n",
       "      <th>2</th>\n",
       "      <td>102</td>\n",
       "      <td>Agility Robotics</td>\n",
       "      <td>d3280aba-4b61-6e7d-655d-0988cc3bbd40</td>\n",
       "      <td>https://www.linkedin.com/in/jonathan-hurst-b90...</td>\n",
       "      <td>{\"version\": 1, \"hits\": 1, \"results\": 1, \"kgver...</td>\n",
       "      <td>{'name': 'Jonathan Hurst', 'gender': 'Male', '...</td>\n",
       "      <td>Jonathan Hurst is known for their contribution...</td>\n",
       "      <td>agilityrobotics.com</td>\n",
       "      <td>operating</td>\n",
       "      <td>1/1/15</td>\n",
       "      <td>Industrial Engineering,Mechanical Engineering,...</td>\n",
       "      <td>Hardware,Manufacturing,Science and Engineering...</td>\n",
       "      <td>USA</td>\n",
       "      <td>Albany</td>\n",
       "      <td>Agility Robotics builds highly efficient, agil...</td>\n",
       "      <td>Agility Robotic's legged locomotion expertise ...</td>\n",
       "      <td>Organisation's Name: Agility Robotics Founder'...</td>\n",
       "      <td>{\\n  \"startup_analysis_responses\": {\\n    \"ind...</td>\n",
       "    </tr>\n",
       "    <tr>\n",
       "      <th>3</th>\n",
       "      <td>103</td>\n",
       "      <td>Agora.io</td>\n",
       "      <td>c5fda600-96e3-3a3d-4e1a-112e994a5f9b</td>\n",
       "      <td>https://www.linkedin.com/in/listerine/</td>\n",
       "      <td>{\"version\": 1, \"hits\": 2, \"results\": 1, \"kgver...</td>\n",
       "      <td>{'name': 'Tony Wang', 'gender': 'Male', 'birth...</td>\n",
       "      <td>Tony Wang is known for their contribution as F...</td>\n",
       "      <td>agora.io</td>\n",
       "      <td>ipo</td>\n",
       "      <td>1/1/12</td>\n",
       "      <td>Developer APIs,Developer Tools,PaaS,Real Time</td>\n",
       "      <td>Other,Software</td>\n",
       "      <td>USA</td>\n",
       "      <td>Santa Clara</td>\n",
       "      <td>Agora.io enables developers to add HD interact...</td>\n",
       "      <td>Agora is a high-growth Communications-Platform...</td>\n",
       "      <td>Organisation's Name: Agora.io Founder's Info: ...</td>\n",
       "      <td>{\\n  \"startup_analysis_responses\": {\\n    \"ind...</td>\n",
       "    </tr>\n",
       "    <tr>\n",
       "      <th>4</th>\n",
       "      <td>104</td>\n",
       "      <td>Agora.io</td>\n",
       "      <td>c5fda600-96e3-3a3d-4e1a-112e994a5f9b</td>\n",
       "      <td>https://www.linkedin.com/in/tozhao/</td>\n",
       "      <td>{\"version\": 1, \"hits\": 1, \"results\": 1, \"kgver...</td>\n",
       "      <td>{'name': 'Tony Zhao', 'gender': 'Male', 'birth...</td>\n",
       "      <td>Tony Zhao is known for their contribution as C...</td>\n",
       "      <td>agora.io</td>\n",
       "      <td>ipo</td>\n",
       "      <td>1/1/12</td>\n",
       "      <td>Developer APIs,Developer Tools,PaaS,Real Time</td>\n",
       "      <td>Other,Software</td>\n",
       "      <td>USA</td>\n",
       "      <td>Santa Clara</td>\n",
       "      <td>Agora.io enables developers to add HD interact...</td>\n",
       "      <td>Agora is a high-growth Communications-Platform...</td>\n",
       "      <td>Organisation's Name: Agora.io Founder's Info: ...</td>\n",
       "      <td>{\\n  \"startup_analysis_responses\": {\\n    \"ind...</td>\n",
       "    </tr>\n",
       "  </tbody>\n",
       "</table>\n",
       "</div>"
      ],
      "text/plain": [
       "   Unnamed: 0          org_name                              org_uuid  \\\n",
       "0         100          Afterpay  73dcd501-3e89-471b-9c34-b7a77ecabb1f   \n",
       "1         101   Agile Robots AG  20885962-6777-4fd3-a4bc-c39e36e658da   \n",
       "2         102  Agility Robotics  d3280aba-4b61-6e7d-655d-0988cc3bbd40   \n",
       "3         103          Agora.io  c5fda600-96e3-3a3d-4e1a-112e994a5f9b   \n",
       "4         104          Agora.io  c5fda600-96e3-3a3d-4e1a-112e994a5f9b   \n",
       "\n",
       "                                founder_linkedin_url  \\\n",
       "0  https://www.linkedin.com/in/anthony-eisen-a861...   \n",
       "1  https://www.linkedin.com/in/zhaopeng-chen-b828...   \n",
       "2  https://www.linkedin.com/in/jonathan-hurst-b90...   \n",
       "3             https://www.linkedin.com/in/listerine/   \n",
       "4                https://www.linkedin.com/in/tozhao/   \n",
       "\n",
       "                                         json_string  \\\n",
       "0  {\"version\": 1, \"hits\": 1, \"results\": 1, \"kgver...   \n",
       "1  {\"version\": 1, \"hits\": 1, \"results\": 1, \"kgver...   \n",
       "2  {\"version\": 1, \"hits\": 1, \"results\": 1, \"kgver...   \n",
       "3  {\"version\": 1, \"hits\": 2, \"results\": 1, \"kgver...   \n",
       "4  {\"version\": 1, \"hits\": 1, \"results\": 1, \"kgver...   \n",
       "\n",
       "                                     structured_info  \\\n",
       "0  {'name': 'Anthony Eisen', 'gender': 'Male', 'b...   \n",
       "1  {'name': 'Zhaopeng Chen', 'gender': '', 'birth...   \n",
       "2  {'name': 'Jonathan Hurst', 'gender': 'Male', '...   \n",
       "3  {'name': 'Tony Wang', 'gender': 'Male', 'birth...   \n",
       "4  {'name': 'Tony Zhao', 'gender': 'Male', 'birth...   \n",
       "\n",
       "                                           paragraph               domain  \\\n",
       "0  Anthony Eisen is known for their contribution ...         afterpay.com   \n",
       "1  Zhaopeng Chen is known for their contribution ...     agile-robots.com   \n",
       "2  Jonathan Hurst is known for their contribution...  agilityrobotics.com   \n",
       "3  Tony Wang is known for their contribution as F...             agora.io   \n",
       "4  Tony Zhao is known for their contribution as C...             agora.io   \n",
       "\n",
       "      status founded_on                                      category_list  \\\n",
       "0   acquired     1/1/14      E-Commerce,FinTech,Payments,Retail Technology   \n",
       "1  operating     1/1/18  Artificial Intelligence,Industrial Automation,...   \n",
       "2  operating     1/1/15  Industrial Engineering,Mechanical Engineering,...   \n",
       "3        ipo     1/1/12      Developer APIs,Developer Tools,PaaS,Real Time   \n",
       "4        ipo     1/1/12      Developer APIs,Developer Tools,PaaS,Real Time   \n",
       "\n",
       "                                category_groups_list country_code  \\\n",
       "0  Commerce and Shopping,Financial Services,Hardw...          AUS   \n",
       "1  Artificial Intelligence,Data and Analytics,Har...          DEU   \n",
       "2  Hardware,Manufacturing,Science and Engineering...          USA   \n",
       "3                                     Other,Software          USA   \n",
       "4                                     Other,Software          USA   \n",
       "\n",
       "          city                                  short_description  \\\n",
       "0    Melbourne  Afterpay allows shoppers to receive products i...   \n",
       "1     Gilching  Agile Robots is an intelligent robot system de...   \n",
       "2       Albany  Agility Robotics builds highly efficient, agil...   \n",
       "3  Santa Clara  Agora.io enables developers to add HD interact...   \n",
       "4  Santa Clara  Agora.io enables developers to add HD interact...   \n",
       "\n",
       "                                    long_description  \\\n",
       "0  Afterpay Limited has transformed the way peopl...   \n",
       "1  Agile Robots is an intelligent robot system de...   \n",
       "2  Agility Robotic's legged locomotion expertise ...   \n",
       "3  Agora is a high-growth Communications-Platform...   \n",
       "4  Agora is a high-growth Communications-Platform...   \n",
       "\n",
       "                                     integrated_info  \\\n",
       "0  Organisation's Name: Afterpay Founder's Info: ...   \n",
       "1  Organisation's Name: Agile Robots AG Founder's...   \n",
       "2  Organisation's Name: Agility Robotics Founder'...   \n",
       "3  Organisation's Name: Agora.io Founder's Info: ...   \n",
       "4  Organisation's Name: Agora.io Founder's Info: ...   \n",
       "\n",
       "                                          categories  \n",
       "0  {\\n    \"startup_analysis_responses\": {\\n      ...  \n",
       "1  {\\n  \"startup_analysis_responses\": {\\n    \"ind...  \n",
       "2  {\\n  \"startup_analysis_responses\": {\\n    \"ind...  \n",
       "3  {\\n  \"startup_analysis_responses\": {\\n    \"ind...  \n",
       "4  {\\n  \"startup_analysis_responses\": {\\n    \"ind...  "
      ]
     },
     "execution_count": 4,
     "metadata": {},
     "output_type": "execute_result"
    }
   ],
   "source": [
    "successful.head()"
   ]
  },
  {
   "cell_type": "code",
   "execution_count": 5,
   "id": "abf1549e9a6af895",
   "metadata": {
    "ExecuteTime": {
     "end_time": "2024-03-22T14:53:50.867817Z",
     "start_time": "2024-03-22T14:53:47.681817Z"
    },
    "collapsed": false
   },
   "outputs": [],
   "source": [
    "# Load the Segmentation Data \n",
    "\n",
    "# Load the data\n",
    "\n",
    "import pandas as pd\n",
    "import os\n",
    "\n",
    "PATH = os.getcwd()\n",
    "\n",
    "successful_dataset_name = 'finalised_segmented_profiles_successful.csv'\n",
    "successful_dataset = pd.read_csv(os.path.join(PATH,'data','successful',successful_dataset_name))\n",
    "\n",
    "unsuccessful_dataset_name = ('finalised_segmented_profiles_unsuccessful.csv')\n",
    "unsuccessful_dataset = pd.read_csv(os.path.join(PATH,'data','Unsuccessful',unsuccessful_dataset_name))"
   ]
  },
  {
   "cell_type": "code",
   "execution_count": 6,
   "id": "c9b7d7d39b0fde08",
   "metadata": {
    "ExecuteTime": {
     "end_time": "2024-03-22T14:53:50.875324Z",
     "start_time": "2024-03-22T14:53:50.869250Z"
    },
    "collapsed": false
   },
   "outputs": [
    {
     "data": {
      "text/html": [
       "<div>\n",
       "<style scoped>\n",
       "    .dataframe tbody tr th:only-of-type {\n",
       "        vertical-align: middle;\n",
       "    }\n",
       "\n",
       "    .dataframe tbody tr th {\n",
       "        vertical-align: top;\n",
       "    }\n",
       "\n",
       "    .dataframe thead th {\n",
       "        text-align: right;\n",
       "    }\n",
       "</style>\n",
       "<table border=\"1\" class=\"dataframe\">\n",
       "  <thead>\n",
       "    <tr style=\"text-align: right;\">\n",
       "      <th></th>\n",
       "      <th>founder_linkedin_url</th>\n",
       "      <th>json_string</th>\n",
       "      <th>structured_info</th>\n",
       "      <th>paragraph</th>\n",
       "      <th>segment</th>\n",
       "    </tr>\n",
       "  </thead>\n",
       "  <tbody>\n",
       "    <tr>\n",
       "      <th>0</th>\n",
       "      <td>https://www.linkedin.com/in/ryan-johns-sf/</td>\n",
       "      <td>{\"version\": 1, \"hits\": 2, \"results\": 1, \"kgver...</td>\n",
       "      <td>{'name': 'Ryan Johns', 'gender': 'Male', 'birt...</td>\n",
       "      <td>Ryan Johns is known for their contribution as ...</td>\n",
       "      <td>L4</td>\n",
       "    </tr>\n",
       "    <tr>\n",
       "      <th>1</th>\n",
       "      <td>http://www.linkedin.com/in/smakani</td>\n",
       "      <td>{\"version\": 1, \"hits\": 1, \"results\": 1, \"kgver...</td>\n",
       "      <td>{'name': 'Shoaib Makani', 'gender': 'Male', 'b...</td>\n",
       "      <td>Shoaib Makani is known for their contribution ...</td>\n",
       "      <td>L4</td>\n",
       "    </tr>\n",
       "    <tr>\n",
       "      <th>2</th>\n",
       "      <td>https://www.linkedin.com/in/obaid-khan-b77b4357/</td>\n",
       "      <td>{\"version\": 1, \"hits\": 1, \"results\": 1, \"kgver...</td>\n",
       "      <td>{'name': 'Obaid Khan', 'gender': 'Male', 'birt...</td>\n",
       "      <td>Obaid Khan is known for their contribution as ...</td>\n",
       "      <td>L4</td>\n",
       "    </tr>\n",
       "    <tr>\n",
       "      <th>3</th>\n",
       "      <td>https://www.linkedin.com/in/alexbuttle</td>\n",
       "      <td>{\"version\": 1, \"hits\": 1, \"results\": 1, \"kgver...</td>\n",
       "      <td>{'name': 'Alex Buttle', 'gender': 'Male', 'bir...</td>\n",
       "      <td>Alex Buttle is known for their contribution as...</td>\n",
       "      <td>L4</td>\n",
       "    </tr>\n",
       "    <tr>\n",
       "      <th>4</th>\n",
       "      <td>http://www.linkedin.com/in/jonesharry</td>\n",
       "      <td>{\"version\": 1, \"hits\": 1, \"results\": 1, \"kgver...</td>\n",
       "      <td>{'name': 'Harry Jones', 'gender': 'Male', 'bir...</td>\n",
       "      <td>Harry Jones is known for their contribution as...</td>\n",
       "      <td>L4</td>\n",
       "    </tr>\n",
       "  </tbody>\n",
       "</table>\n",
       "</div>"
      ],
      "text/plain": [
       "                               founder_linkedin_url  \\\n",
       "0        https://www.linkedin.com/in/ryan-johns-sf/   \n",
       "1                http://www.linkedin.com/in/smakani   \n",
       "2  https://www.linkedin.com/in/obaid-khan-b77b4357/   \n",
       "3            https://www.linkedin.com/in/alexbuttle   \n",
       "4             http://www.linkedin.com/in/jonesharry   \n",
       "\n",
       "                                         json_string  \\\n",
       "0  {\"version\": 1, \"hits\": 2, \"results\": 1, \"kgver...   \n",
       "1  {\"version\": 1, \"hits\": 1, \"results\": 1, \"kgver...   \n",
       "2  {\"version\": 1, \"hits\": 1, \"results\": 1, \"kgver...   \n",
       "3  {\"version\": 1, \"hits\": 1, \"results\": 1, \"kgver...   \n",
       "4  {\"version\": 1, \"hits\": 1, \"results\": 1, \"kgver...   \n",
       "\n",
       "                                     structured_info  \\\n",
       "0  {'name': 'Ryan Johns', 'gender': 'Male', 'birt...   \n",
       "1  {'name': 'Shoaib Makani', 'gender': 'Male', 'b...   \n",
       "2  {'name': 'Obaid Khan', 'gender': 'Male', 'birt...   \n",
       "3  {'name': 'Alex Buttle', 'gender': 'Male', 'bir...   \n",
       "4  {'name': 'Harry Jones', 'gender': 'Male', 'bir...   \n",
       "\n",
       "                                           paragraph segment  \n",
       "0  Ryan Johns is known for their contribution as ...      L4  \n",
       "1  Shoaib Makani is known for their contribution ...      L4  \n",
       "2  Obaid Khan is known for their contribution as ...      L4  \n",
       "3  Alex Buttle is known for their contribution as...      L4  \n",
       "4  Harry Jones is known for their contribution as...      L4  "
      ]
     },
     "execution_count": 6,
     "metadata": {},
     "output_type": "execute_result"
    }
   ],
   "source": [
    "successful_dataset.head()"
   ]
  },
  {
   "cell_type": "code",
   "execution_count": 7,
   "id": "f22e67ff79d1fe9e",
   "metadata": {
    "ExecuteTime": {
     "end_time": "2024-03-22T14:53:50.889637Z",
     "start_time": "2024-03-22T14:53:50.876288Z"
    },
    "collapsed": false
   },
   "outputs": [
    {
     "name": "stdout",
     "output_type": "stream",
     "text": [
      "Successful Startups - Normalized PFS:\n",
      "  segment  FIS\n",
      "0      L4  0.4\n",
      "1      L4  0.4\n",
      "2      L4  0.4\n",
      "3      L4  0.4\n",
      "4      L4  0.4\n",
      "\n",
      "Unsuccessful Startups - Normalized PFS:\n",
      "  segment  FIS\n",
      "0      L4 -0.8\n",
      "1      L5 -1.0\n",
      "2      L2 -0.4\n",
      "3      L3 -0.6\n",
      "4      L4 -0.8\n"
     ]
    }
   ],
   "source": [
    "import pandas as pd\n",
    "\n",
    "# Assuming successful_dataset and unsuccessful_dataset are defined somewhere above\n",
    "\n",
    "# Function to extract level from segment (e.g., \"L2\" -> 2)\n",
    "def extract_level(segment):\n",
    "    # Convert segment to string to ensure compatibility with .startswith\n",
    "    segment_str = str(segment)\n",
    "    # Check if the segment is in the expected format (e.g., \"L2\") and extract the level; else, return NaN or a default value\n",
    "    if segment_str.startswith('L') and len(segment_str) > 1 and segment_str[1].isdigit():\n",
    "        return int(segment_str[1])\n",
    "    else:\n",
    "        return float('nan')  # Return NaN or you can choose a default value, like 0 or 1, depending on your data's needs\n",
    "\n",
    "# Apply the function to extract levels\n",
    "successful_dataset['level'] = successful_dataset['segment'].apply(extract_level)\n",
    "unsuccessful_dataset['level'] = unsuccessful_dataset['segment'].apply(extract_level)\n",
    "\n",
    "# Function to calculate PFS\n",
    "def calculate_pfs(level, outcome):\n",
    "    return (6 - level) * outcome - level * (1 - outcome)\n",
    "\n",
    "# Calculate PFS for successful and unsuccessful startups\n",
    "# For successful startups, outcome = 1; for unsuccessful startups, outcome = 0\n",
    "successful_dataset['PFS'] = successful_dataset['level'].apply(lambda x: calculate_pfs(x, 1))\n",
    "unsuccessful_dataset['PFS'] = unsuccessful_dataset['level'].apply(lambda x: calculate_pfs(x, 0))\n",
    "\n",
    "# Normalize PFS to range [-1, 1]\n",
    "successful_dataset['FIS'] = successful_dataset['PFS'] / 5\n",
    "unsuccessful_dataset['FIS'] = unsuccessful_dataset['PFS'] / 5\n",
    "\n",
    "# Display the results\n",
    "print(\"Successful Startups - Normalized PFS:\")\n",
    "print(successful_dataset[['segment', 'FIS']].head())\n",
    "\n",
    "print(\"\\nUnsuccessful Startups - Normalized PFS:\")\n",
    "print(unsuccessful_dataset[['segment', 'FIS']].head())\n"
   ]
  },
  {
   "cell_type": "markdown",
   "id": "bfb38023f2bea4e4",
   "metadata": {
    "collapsed": false
   },
   "source": [
    "### Let's Now Do Feature Engineering"
   ]
  },
  {
   "cell_type": "code",
   "execution_count": 8,
   "id": "615c064df4d620ac",
   "metadata": {
    "ExecuteTime": {
     "end_time": "2024-03-22T14:53:51.461048Z",
     "start_time": "2024-03-22T14:53:50.891097Z"
    },
    "collapsed": false
   },
   "outputs": [],
   "source": [
    "from openai import OpenAI\n",
    "\n",
    "client = OpenAI(api_key='', )\n",
    "\n",
    "def getResponse( System_Content, User_Content, input_model):\n",
    "    completion = client.chat.completions.create(\n",
    "    model=input_model,\n",
    "    messages=[\n",
    "        {\"role\": \"system\", \"content\": System_Content},\n",
    "        {\"role\": \"user\", \"content\": User_Content}\n",
    "    ],\n",
    "    #response_format={\"type\": \"json_object\"}\n",
    "    )\n",
    "    return completion.choices[0].message.content"
   ]
  },
  {
   "cell_type": "code",
   "execution_count": 9,
   "id": "122f4c298f094976",
   "metadata": {
    "ExecuteTime": {
     "end_time": "2024-03-22T14:53:51.465959Z",
     "start_time": "2024-03-22T14:53:51.462003Z"
    },
    "collapsed": false
   },
   "outputs": [],
   "source": [
    "# Nice! Now let's design the prompt to ask for quantitative scores\n",
    "\n",
    "Powerful_Prompt = \"\"\"\n",
    "Given a startup description, convert it into a detailed JSON structure where various aspects of the startup are evaluated on a scale from 1 to 10, with 10 being the best and 1 being the lowest. Alongside each score, provide a brief justification or summary explaining the score. Here are the aspects to include:\n",
    "\n",
    "- name: The official name of the startup. [Score: NaN, Justification: Not applicable]\n",
    "- description: A brief overview of what the startup does. [Score: NaN, Justification: Not applicable]\n",
    "- market_size: The size of the market the startup is targeting. [Score, Justification]\n",
    "- growth_rate: The growth rate of the market. [Score, Justification]\n",
    "- competition: Level of competition in the space. [Score, Justification]\n",
    "- market_trends: Current trends within the market. [Score, Justification]\n",
    "- go_to_market_strategy: The startup's plan for entering the market. [Score, Justification]\n",
    "- product_details: Details about the startup's product or service. [Score, Justification]\n",
    "- technology_stack: Technologies used in the product. [Score, Justification]\n",
    "- scalability: How the product can scale. [Score, Justification]\n",
    "- user_feedback: Any feedback received from users. [Score, Justification]\n",
    "- product_fit: How well the product fits the target market. [Score, Justification]\n",
    "- founder_backgrounds: Background information on the founders. [Score, Justification]\n",
    "- track_records: The track records of the founders. [Score, Justification]\n",
    "- leadership_skills: Leadership skills of the team. [Score, Justification]\n",
    "- vision_alignment: How the team's vision aligns with the product. [Score, Justification]\n",
    "- team_dynamics: The dynamics within the startup team. [Score, Justification]\n",
    "- web_traffic_growth: Information on the growth of web traffic to the startup's site. [Score, Justification]\n",
    "- social_media_presence: The startup's presence on social media. [Score, Justification]\n",
    "- investment_rounds: Details of any investment rounds. [Score, Justification]\n",
    "- regulatory_approvals: Any regulatory approvals obtained. [Score, Justification]\n",
    "- patents: Details of any patents held by the startup. [Score, Justification]\n",
    "\n",
    "For example, given the description: \"Startup ABC is revolutionizing the fintech industry with its blockchain-based payment solution. The platform enables instant, secure, and fee-free transactions. Founded by a team of blockchain experts and fintech veterans, Startup ABC aims to disrupt traditional banking services.\"\n",
    "\n",
    "The JSON structure should look like this:\n",
    "{\n",
    "    \"name\": \"Startup ABC\", [NaN, \"Not applicable\"]\n",
    "    \"description\": \"Revolutionizing the fintech industry with a blockchain-based payment solution.\", [NaN, \"Not applicable\"]\n",
    "    \"market_size\": \"Estimated at $5 billion\", [7, \"Quite big market potential.\"]\n",
    "    \"growth_rate\": \"20% annually\", [9, \"Very fast growing market.\"]\n",
    "    \"competition\": \"Traditional banks and other fintech startups\", [5, \"Various competitions but strong positioning.\"]\n",
    "    \"market_trends\": \"Increasing adoption of blockchain technology\", [8, \"Highly favorable trend towards blockchain.\"]\n",
    "    ...\n",
    "    \"patents\": \"2 patents on blockchain transaction algorithms\", [7, \"Innovative, but more development needed.\"]\n",
    "}\n",
    "\"\"\"\n",
    "\n",
    "# But this is abandonded"
   ]
  },
  {
   "cell_type": "markdown",
   "id": "c0cc4f9ce60845a8",
   "metadata": {
    "collapsed": false
   },
   "source": [
    "### Now let's merge dataset & calculate embeddings"
   ]
  },
  {
   "cell_type": "code",
   "execution_count": 10,
   "id": "662c2972e7389355",
   "metadata": {
    "ExecuteTime": {
     "end_time": "2024-03-22T14:53:59.005945Z",
     "start_time": "2024-03-22T14:53:52.968553Z"
    },
    "collapsed": false
   },
   "outputs": [],
   "source": [
    "PATH = os.getcwd()\n",
    "DATA_DIRPATH = os.path.join(os.getcwd(), 'data')\n",
    "premerge_succ_name = \"successful/Merged_Successful_V2.csv\"\n",
    "premerge_unsucc_name = 'Unsuccessful/Merged_Unsuccessful_V2.csv'\n",
    "\n",
    "premerge_succ = pd.read_csv(os.path.join(DATA_DIRPATH, premerge_succ_name))\n",
    "premerge_unsucc = pd.read_csv(os.path.join(DATA_DIRPATH, premerge_unsucc_name))"
   ]
  },
  {
   "cell_type": "code",
   "execution_count": 10,
   "id": "e99239d6e584df1a",
   "metadata": {
    "ExecuteTime": {
     "end_time": "2024-03-22T14:53:59.009818Z",
     "start_time": "2024-03-22T14:53:59.007952Z"
    },
    "collapsed": false
   },
   "outputs": [],
   "source": []
  },
  {
   "cell_type": "code",
   "execution_count": 11,
   "id": "5336f8b5695edfc2",
   "metadata": {
    "ExecuteTime": {
     "end_time": "2024-03-22T14:53:59.027294Z",
     "start_time": "2024-03-22T14:53:59.010850Z"
    },
    "collapsed": false
   },
   "outputs": [
    {
     "name": "stdout",
     "output_type": "stream",
     "text": [
      "<class 'pandas.core.frame.DataFrame'>\n",
      "RangeIndex: 4034 entries, 0 to 4033\n",
      "Data columns (total 17 columns):\n",
      " #   Column                Non-Null Count  Dtype \n",
      "---  ------                --------------  ----- \n",
      " 0   Unnamed: 0            4034 non-null   int64 \n",
      " 1   org_name              4034 non-null   object\n",
      " 2   org_uuid              4034 non-null   object\n",
      " 3   founder_linkedin_url  4034 non-null   object\n",
      " 4   json_string           4034 non-null   object\n",
      " 5   structured_info       4034 non-null   object\n",
      " 6   paragraph             4034 non-null   object\n",
      " 7   domain                4031 non-null   object\n",
      " 8   status                4034 non-null   object\n",
      " 9   founded_on            4034 non-null   object\n",
      " 10  category_list         4024 non-null   object\n",
      " 11  category_groups_list  4024 non-null   object\n",
      " 12  country_code          4027 non-null   object\n",
      " 13  city                  4027 non-null   object\n",
      " 14  short_description     4034 non-null   object\n",
      " 15  long_description      4034 non-null   object\n",
      " 16  integrated_info       4020 non-null   object\n",
      "dtypes: int64(1), object(16)\n",
      "memory usage: 535.9+ KB\n"
     ]
    }
   ],
   "source": [
    "premerge_succ.info()"
   ]
  },
  {
   "cell_type": "code",
   "execution_count": 12,
   "id": "5140d88579340d96",
   "metadata": {
    "ExecuteTime": {
     "end_time": "2024-03-22T14:53:59.071695Z",
     "start_time": "2024-03-22T14:53:59.028727Z"
    },
    "collapsed": false
   },
   "outputs": [
    {
     "name": "stdout",
     "output_type": "stream",
     "text": [
      "<class 'pandas.core.frame.DataFrame'>\n",
      "RangeIndex: 4065 entries, 0 to 4064\n",
      "Data columns (total 8 columns):\n",
      " #   Column                Non-Null Count  Dtype  \n",
      "---  ------                --------------  -----  \n",
      " 0   founder_linkedin_url  4065 non-null   object \n",
      " 1   json_string           4065 non-null   object \n",
      " 2   structured_info       4065 non-null   object \n",
      " 3   paragraph             4065 non-null   object \n",
      " 4   segment               1001 non-null   object \n",
      " 5   level                 1001 non-null   float64\n",
      " 6   PFS                   1001 non-null   float64\n",
      " 7   FIS                   1001 non-null   float64\n",
      "dtypes: float64(3), object(5)\n",
      "memory usage: 254.2+ KB\n"
     ]
    }
   ],
   "source": [
    "successful_dataset.info() "
   ]
  },
  {
   "cell_type": "code",
   "execution_count": 16,
   "id": "bdc1282b2b061e5e",
   "metadata": {
    "ExecuteTime": {
     "end_time": "2024-03-22T14:55:05.433963Z",
     "start_time": "2024-03-22T14:55:05.291504Z"
    },
    "collapsed": false
   },
   "outputs": [],
   "source": [
    "merged_unsuccessful_to_use = pd.merge(unsuccessful_dataset, premerge_unsucc, on='founder_linkedin_url', how='inner')"
   ]
  },
  {
   "cell_type": "code",
   "execution_count": 17,
   "id": "48f6b0bc158e5f10",
   "metadata": {
    "ExecuteTime": {
     "end_time": "2024-03-22T14:55:05.971211Z",
     "start_time": "2024-03-22T14:55:05.858709Z"
    },
    "collapsed": false
   },
   "outputs": [
    {
     "name": "stdout",
     "output_type": "stream",
     "text": [
      "                               founder_linkedin_url  \\\n",
      "0        https://www.linkedin.com/in/ryan-johns-sf/   \n",
      "1                http://www.linkedin.com/in/smakani   \n",
      "2  https://www.linkedin.com/in/obaid-khan-b77b4357/   \n",
      "3            https://www.linkedin.com/in/alexbuttle   \n",
      "4             http://www.linkedin.com/in/jonesharry   \n",
      "\n",
      "                                       json_string_x  \\\n",
      "0  {\"version\": 1, \"hits\": 2, \"results\": 1, \"kgver...   \n",
      "1  {\"version\": 1, \"hits\": 1, \"results\": 1, \"kgver...   \n",
      "2  {\"version\": 1, \"hits\": 1, \"results\": 1, \"kgver...   \n",
      "3  {\"version\": 1, \"hits\": 1, \"results\": 1, \"kgver...   \n",
      "4  {\"version\": 1, \"hits\": 1, \"results\": 1, \"kgver...   \n",
      "\n",
      "                                   structured_info_x  \\\n",
      "0  {'name': 'Ryan Johns', 'gender': 'Male', 'birt...   \n",
      "1  {'name': 'Shoaib Makani', 'gender': 'Male', 'b...   \n",
      "2  {'name': 'Obaid Khan', 'gender': 'Male', 'birt...   \n",
      "3  {'name': 'Alex Buttle', 'gender': 'Male', 'bir...   \n",
      "4  {'name': 'Harry Jones', 'gender': 'Male', 'bir...   \n",
      "\n",
      "                                         paragraph_x segment  level  PFS  FIS  \\\n",
      "0  Ryan Johns is known for their contribution as ...      L4    4.0  2.0  0.4   \n",
      "1  Shoaib Makani is known for their contribution ...      L4    4.0  2.0  0.4   \n",
      "2  Obaid Khan is known for their contribution as ...      L4    4.0  2.0  0.4   \n",
      "3  Alex Buttle is known for their contribution as...      L4    4.0  2.0  0.4   \n",
      "4  Harry Jones is known for their contribution as...      L4    4.0  2.0  0.4   \n",
      "\n",
      "   Unnamed: 0  org_name  ...          domain     status founded_on  \\\n",
      "0        2275    Motive  ...    gomotive.com  operating     1/1/13   \n",
      "1        2276    Motive  ...    gomotive.com  operating     1/1/13   \n",
      "2        2277    Motive  ...    gomotive.com  operating     1/1/13   \n",
      "3        2278  Motorway  ...  motorway.co.uk  operating     1/1/17   \n",
      "4        2279  Motorway  ...  motorway.co.uk  operating     1/1/17   \n",
      "\n",
      "                                       category_list  \\\n",
      "0  Artificial Intelligence,Logistics,SaaS,Transpo...   \n",
      "1  Artificial Intelligence,Logistics,SaaS,Transpo...   \n",
      "2  Artificial Intelligence,Logistics,SaaS,Transpo...   \n",
      "3  Automotive,Consumer Reviews,E-Commerce,Electri...   \n",
      "4  Automotive,Consumer Reviews,E-Commerce,Electri...   \n",
      "\n",
      "                                category_groups_list country_code  \\\n",
      "0  Artificial Intelligence,Data and Analytics,Sci...          USA   \n",
      "1  Artificial Intelligence,Data and Analytics,Sci...          USA   \n",
      "2  Artificial Intelligence,Data and Analytics,Sci...          USA   \n",
      "3               Commerce and Shopping,Transportation          GBR   \n",
      "4               Commerce and Shopping,Transportation          GBR   \n",
      "\n",
      "            city                                  short_description  \\\n",
      "0  San Francisco  Motive builds technology to improve the safety...   \n",
      "1  San Francisco  Motive builds technology to improve the safety...   \n",
      "2  San Francisco  Motive builds technology to improve the safety...   \n",
      "3         London  Motorway is an online used-car marketplace con...   \n",
      "4         London  Motorway is an online used-car marketplace con...   \n",
      "\n",
      "                                    long_description  \\\n",
      "0  Motive is a remote-first company that serves m...   \n",
      "1  Motive is a remote-first company that serves m...   \n",
      "2  Motive is a remote-first company that serves m...   \n",
      "3  With so many ways to sell your car, it can be ...   \n",
      "4  With so many ways to sell your car, it can be ...   \n",
      "\n",
      "                                     integrated_info  \n",
      "0  Organisation's Name: Motive Founder's Info: Ry...  \n",
      "1  Organisation's Name: Motive Founder's Info: Sh...  \n",
      "2  Organisation's Name: Motive Founder's Info: Ob...  \n",
      "3  Organisation's Name: Motorway Founder's Info: ...  \n",
      "4  Organisation's Name: Motorway Founder's Info: ...  \n",
      "\n",
      "[5 rows x 24 columns]\n",
      "<class 'pandas.core.frame.DataFrame'>\n",
      "RangeIndex: 944 entries, 0 to 943\n",
      "Data columns (total 24 columns):\n",
      " #   Column                Non-Null Count  Dtype  \n",
      "---  ------                --------------  -----  \n",
      " 0   founder_linkedin_url  944 non-null    object \n",
      " 1   json_string_x         944 non-null    object \n",
      " 2   structured_info_x     944 non-null    object \n",
      " 3   paragraph_x           944 non-null    object \n",
      " 4   segment               944 non-null    object \n",
      " 5   level                 944 non-null    int64  \n",
      " 6   PFS                   944 non-null    int64  \n",
      " 7   FIS                   944 non-null    float64\n",
      " 8   Unnamed: 0            944 non-null    int64  \n",
      " 9   org_name              944 non-null    object \n",
      " 10  org_uuid              944 non-null    object \n",
      " 11  json_string_y         944 non-null    object \n",
      " 12  structured_info_y     944 non-null    object \n",
      " 13  paragraph_y           944 non-null    object \n",
      " 14  domain                943 non-null    object \n",
      " 15  status                944 non-null    object \n",
      " 16  founded_on            944 non-null    object \n",
      " 17  category_list         943 non-null    object \n",
      " 18  category_groups_list  943 non-null    object \n",
      " 19  country_code          944 non-null    object \n",
      " 20  city                  944 non-null    object \n",
      " 21  short_description     944 non-null    object \n",
      " 22  long_description      944 non-null    object \n",
      " 23  integrated_info       943 non-null    object \n",
      "dtypes: float64(1), int64(3), object(20)\n",
      "memory usage: 177.1+ KB\n"
     ]
    }
   ],
   "source": [
    "## Merging the data for use\n",
    "# Merge the datasets on 'founder_linkedin_url'\n",
    "merged_successful_to_use = pd.merge(successful_dataset, premerge_succ, on='founder_linkedin_url', how='inner')\n",
    "merged_unsuccessful_to_use = pd.merge(unsuccessful_dataset, premerge_unsucc, on='founder_linkedin_url', how='inner')\n",
    "\n",
    "# Check the first few rows of the merged dataset\n",
    "print(merged_successful_to_use.head())\n",
    "\n",
    "# Info about the merged dataset to understand its structure\n",
    "merged_unsuccessful_to_use.info()"
   ]
  },
  {
   "cell_type": "code",
   "execution_count": 18,
   "id": "970e97f7fa0ce0d4",
   "metadata": {
    "ExecuteTime": {
     "end_time": "2024-03-22T14:55:06.432633Z",
     "start_time": "2024-03-22T14:55:06.422664Z"
    },
    "collapsed": false
   },
   "outputs": [
    {
     "name": "stdout",
     "output_type": "stream",
     "text": [
      "<class 'pandas.core.frame.DataFrame'>\n",
      "RangeIndex: 4034 entries, 0 to 4033\n",
      "Data columns (total 24 columns):\n",
      " #   Column                Non-Null Count  Dtype  \n",
      "---  ------                --------------  -----  \n",
      " 0   founder_linkedin_url  4034 non-null   object \n",
      " 1   json_string_x         4034 non-null   object \n",
      " 2   structured_info_x     4034 non-null   object \n",
      " 3   paragraph_x           4034 non-null   object \n",
      " 4   segment               994 non-null    object \n",
      " 5   level                 994 non-null    float64\n",
      " 6   PFS                   994 non-null    float64\n",
      " 7   FIS                   994 non-null    float64\n",
      " 8   Unnamed: 0            4034 non-null   int64  \n",
      " 9   org_name              4034 non-null   object \n",
      " 10  org_uuid              4034 non-null   object \n",
      " 11  json_string_y         4034 non-null   object \n",
      " 12  structured_info_y     4034 non-null   object \n",
      " 13  paragraph_y           4034 non-null   object \n",
      " 14  domain                4031 non-null   object \n",
      " 15  status                4034 non-null   object \n",
      " 16  founded_on            4034 non-null   object \n",
      " 17  category_list         4024 non-null   object \n",
      " 18  category_groups_list  4024 non-null   object \n",
      " 19  country_code          4027 non-null   object \n",
      " 20  city                  4027 non-null   object \n",
      " 21  short_description     4034 non-null   object \n",
      " 22  long_description      4034 non-null   object \n",
      " 23  integrated_info       4020 non-null   object \n",
      "dtypes: float64(3), int64(1), object(20)\n",
      "memory usage: 756.5+ KB\n"
     ]
    }
   ],
   "source": [
    "merged_successful_to_use[['segment','paragraph_x','paragraph_y']][:3]\n",
    "merged_successful_to_use.info()"
   ]
  },
  {
   "cell_type": "code",
   "execution_count": 19,
   "id": "3c06d281384bc477",
   "metadata": {
    "ExecuteTime": {
     "end_time": "2024-03-22T14:55:22.108482Z",
     "start_time": "2024-03-22T14:55:08.683864Z"
    },
    "collapsed": false
   },
   "outputs": [],
   "source": [
    "# Nice! Let's also save a version\n",
    "# Merge the datasets on 'founder_linkedin_url'\n",
    "\n",
    "merged_successful_to_save = pd.merge(successful_dataset, premerge_succ, on='founder_linkedin_url', how='outer')\n",
    "merged_unsuccessful_to_save = pd.merge(unsuccessful_dataset, premerge_unsucc, on='founder_linkedin_url', how='outer')\n",
    "\n",
    "merged_successful_to_save.to_csv(os.path.join(PATH,'data','successful','merged_successful_to_save.csv'))\n",
    "merged_successful_to_save.to_csv(os.path.join(PATH,'data','Unsuccessful','merged_unsuccessful_to_save.csv'))"
   ]
  },
  {
   "cell_type": "markdown",
   "id": "83ea717998c60429",
   "metadata": {
    "collapsed": false
   },
   "source": [
    "## Dataset done! Let's work for embeddings"
   ]
  },
  {
   "cell_type": "code",
   "execution_count": 20,
   "id": "d7a5e563ff7f9f5c",
   "metadata": {
    "ExecuteTime": {
     "end_time": "2024-03-22T14:55:27.687200Z",
     "start_time": "2024-03-22T14:55:27.682067Z"
    },
    "collapsed": false
   },
   "outputs": [],
   "source": [
    "from openai import OpenAI\n",
    "\n",
    "def getEmbeddings(input_text):\n",
    "    response = client.embeddings.create(\n",
    "        input=input_text,\n",
    "        model=\"text-embedding-3-large\",\n",
    "        dimensions = 100\n",
    "    )\n",
    "    return(response.data[0].embedding)"
   ]
  },
  {
   "cell_type": "code",
   "execution_count": 21,
   "id": "2ddbdc3ff76f223e",
   "metadata": {
    "ExecuteTime": {
     "end_time": "2024-03-22T14:55:30.123797Z",
     "start_time": "2024-03-22T14:55:30.029914Z"
    },
    "collapsed": false
   },
   "outputs": [],
   "source": [
    "# Drop the Null Values\n",
    "merged_successful_to_use = merged_successful_to_use.loc[pd.notna(merged_successful_to_use['segment'])]"
   ]
  },
  {
   "cell_type": "code",
   "execution_count": 22,
   "id": "c37d8ba92520347a",
   "metadata": {
    "ExecuteTime": {
     "end_time": "2024-03-22T14:55:31.015394Z",
     "start_time": "2024-03-22T14:55:31.007333Z"
    },
    "collapsed": false
   },
   "outputs": [
    {
     "name": "stdout",
     "output_type": "stream",
     "text": [
      "<class 'pandas.core.frame.DataFrame'>\n",
      "Index: 994 entries, 0 to 993\n",
      "Data columns (total 24 columns):\n",
      " #   Column                Non-Null Count  Dtype  \n",
      "---  ------                --------------  -----  \n",
      " 0   founder_linkedin_url  994 non-null    object \n",
      " 1   json_string_x         994 non-null    object \n",
      " 2   structured_info_x     994 non-null    object \n",
      " 3   paragraph_x           994 non-null    object \n",
      " 4   segment               994 non-null    object \n",
      " 5   level                 994 non-null    float64\n",
      " 6   PFS                   994 non-null    float64\n",
      " 7   FIS                   994 non-null    float64\n",
      " 8   Unnamed: 0            994 non-null    int64  \n",
      " 9   org_name              994 non-null    object \n",
      " 10  org_uuid              994 non-null    object \n",
      " 11  json_string_y         994 non-null    object \n",
      " 12  structured_info_y     994 non-null    object \n",
      " 13  paragraph_y           994 non-null    object \n",
      " 14  domain                994 non-null    object \n",
      " 15  status                994 non-null    object \n",
      " 16  founded_on            994 non-null    object \n",
      " 17  category_list         994 non-null    object \n",
      " 18  category_groups_list  994 non-null    object \n",
      " 19  country_code          991 non-null    object \n",
      " 20  city                  991 non-null    object \n",
      " 21  short_description     994 non-null    object \n",
      " 22  long_description      994 non-null    object \n",
      " 23  integrated_info       991 non-null    object \n",
      "dtypes: float64(3), int64(1), object(20)\n",
      "memory usage: 194.1+ KB\n"
     ]
    }
   ],
   "source": [
    "merged_successful_to_use.info()"
   ]
  },
  {
   "cell_type": "code",
   "execution_count": 23,
   "id": "6b98c7b520073d27",
   "metadata": {
    "ExecuteTime": {
     "end_time": "2024-03-22T15:06:19.530531Z",
     "start_time": "2024-03-22T14:55:48.100960Z"
    },
    "collapsed": false
   },
   "outputs": [],
   "source": [
    "# getEmbeddings\n",
    "\n",
    "merged_successful_to_use['embedding_founder_info'] = merged_successful_to_use['paragraph_x'].apply(getEmbeddings)\n",
    "\n",
    "merged_successful_to_use['embedding_startup_info_long'] = merged_successful_to_use['long_description'].apply(getEmbeddings)\n",
    "\n",
    "#merged_successful_to_use['embedding_integrated'] = merged_successful_to_use['integrated_info'].apply(getEmbeddings)\n"
   ]
  },
  {
   "cell_type": "code",
   "execution_count": 70,
   "id": "514887ba3b679649",
   "metadata": {
    "ExecuteTime": {
     "end_time": "2024-03-19T23:14:17.241200Z",
     "start_time": "2024-03-19T23:02:04.604607Z"
    },
    "collapsed": false
   },
   "outputs": [
    {
     "ename": "BadRequestError",
     "evalue": "Error code: 400 - {'error': {'message': \"We could not parse the JSON body of your request. (HINT: This likely means you aren't using your HTTP library correctly. The OpenAI API expects a JSON payload, but what was sent was not valid JSON. If you have trouble figuring out how to fix this, please contact us through our help center at help.openai.com.)\", 'type': 'invalid_request_error', 'param': None, 'code': None}}",
     "output_type": "error",
     "traceback": [
      "\u001b[0;31m---------------------------------------------------------------------------\u001b[0m",
      "\u001b[0;31mBadRequestError\u001b[0m                           Traceback (most recent call last)",
      "Cell \u001b[0;32mIn[70], line 5\u001b[0m\n\u001b[1;32m      1\u001b[0m merged_unsuccessful_to_use[\u001b[38;5;124m'\u001b[39m\u001b[38;5;124membedding_founder_info\u001b[39m\u001b[38;5;124m'\u001b[39m] \u001b[38;5;241m=\u001b[39m merged_unsuccessful_to_use[\u001b[38;5;124m'\u001b[39m\u001b[38;5;124mparagraph_x\u001b[39m\u001b[38;5;124m'\u001b[39m]\u001b[38;5;241m.\u001b[39mapply(getEmbeddings)\n\u001b[1;32m      3\u001b[0m merged_unsuccessful_to_use[\u001b[38;5;124m'\u001b[39m\u001b[38;5;124membedding_startup_info_long\u001b[39m\u001b[38;5;124m'\u001b[39m] \u001b[38;5;241m=\u001b[39m merged_unsuccessful_to_use[\u001b[38;5;124m'\u001b[39m\u001b[38;5;124mlong_description\u001b[39m\u001b[38;5;124m'\u001b[39m]\u001b[38;5;241m.\u001b[39mapply(getEmbeddings)\n\u001b[0;32m----> 5\u001b[0m merged_unsuccessful_to_use[\u001b[38;5;124m'\u001b[39m\u001b[38;5;124membedding_integrated\u001b[39m\u001b[38;5;124m'\u001b[39m] \u001b[38;5;241m=\u001b[39m \u001b[43mmerged_unsuccessful_to_use\u001b[49m\u001b[43m[\u001b[49m\u001b[38;5;124;43m'\u001b[39;49m\u001b[38;5;124;43mintegrated_info\u001b[39;49m\u001b[38;5;124;43m'\u001b[39;49m\u001b[43m]\u001b[49m\u001b[38;5;241;43m.\u001b[39;49m\u001b[43mapply\u001b[49m\u001b[43m(\u001b[49m\u001b[43mgetEmbeddings\u001b[49m\u001b[43m)\u001b[49m \n",
      "File \u001b[0;32m~/Desktop/VelaInternship/venv/lib/python3.9/site-packages/pandas/core/series.py:4908\u001b[0m, in \u001b[0;36mSeries.apply\u001b[0;34m(self, func, convert_dtype, args, by_row, **kwargs)\u001b[0m\n\u001b[1;32m   4780\u001b[0m \u001b[38;5;28;01mdef\u001b[39;00m \u001b[38;5;21mapply\u001b[39m(\n\u001b[1;32m   4781\u001b[0m     \u001b[38;5;28mself\u001b[39m,\n\u001b[1;32m   4782\u001b[0m     func: AggFuncType,\n\u001b[0;32m   (...)\u001b[0m\n\u001b[1;32m   4787\u001b[0m     \u001b[38;5;241m*\u001b[39m\u001b[38;5;241m*\u001b[39mkwargs,\n\u001b[1;32m   4788\u001b[0m ) \u001b[38;5;241m-\u001b[39m\u001b[38;5;241m>\u001b[39m DataFrame \u001b[38;5;241m|\u001b[39m Series:\n\u001b[1;32m   4789\u001b[0m \u001b[38;5;250m    \u001b[39m\u001b[38;5;124;03m\"\"\"\u001b[39;00m\n\u001b[1;32m   4790\u001b[0m \u001b[38;5;124;03m    Invoke function on values of Series.\u001b[39;00m\n\u001b[1;32m   4791\u001b[0m \n\u001b[0;32m   (...)\u001b[0m\n\u001b[1;32m   4906\u001b[0m \u001b[38;5;124;03m    dtype: float64\u001b[39;00m\n\u001b[1;32m   4907\u001b[0m \u001b[38;5;124;03m    \"\"\"\u001b[39;00m\n\u001b[0;32m-> 4908\u001b[0m     \u001b[38;5;28;01mreturn\u001b[39;00m \u001b[43mSeriesApply\u001b[49m\u001b[43m(\u001b[49m\n\u001b[1;32m   4909\u001b[0m \u001b[43m        \u001b[49m\u001b[38;5;28;43mself\u001b[39;49m\u001b[43m,\u001b[49m\n\u001b[1;32m   4910\u001b[0m \u001b[43m        \u001b[49m\u001b[43mfunc\u001b[49m\u001b[43m,\u001b[49m\n\u001b[1;32m   4911\u001b[0m \u001b[43m        \u001b[49m\u001b[43mconvert_dtype\u001b[49m\u001b[38;5;241;43m=\u001b[39;49m\u001b[43mconvert_dtype\u001b[49m\u001b[43m,\u001b[49m\n\u001b[1;32m   4912\u001b[0m \u001b[43m        \u001b[49m\u001b[43mby_row\u001b[49m\u001b[38;5;241;43m=\u001b[39;49m\u001b[43mby_row\u001b[49m\u001b[43m,\u001b[49m\n\u001b[1;32m   4913\u001b[0m \u001b[43m        \u001b[49m\u001b[43margs\u001b[49m\u001b[38;5;241;43m=\u001b[39;49m\u001b[43margs\u001b[49m\u001b[43m,\u001b[49m\n\u001b[1;32m   4914\u001b[0m \u001b[43m        \u001b[49m\u001b[43mkwargs\u001b[49m\u001b[38;5;241;43m=\u001b[39;49m\u001b[43mkwargs\u001b[49m\u001b[43m,\u001b[49m\n\u001b[1;32m   4915\u001b[0m \u001b[43m    \u001b[49m\u001b[43m)\u001b[49m\u001b[38;5;241;43m.\u001b[39;49m\u001b[43mapply\u001b[49m\u001b[43m(\u001b[49m\u001b[43m)\u001b[49m\n",
      "File \u001b[0;32m~/Desktop/VelaInternship/venv/lib/python3.9/site-packages/pandas/core/apply.py:1427\u001b[0m, in \u001b[0;36mSeriesApply.apply\u001b[0;34m(self)\u001b[0m\n\u001b[1;32m   1424\u001b[0m     \u001b[38;5;28;01mreturn\u001b[39;00m \u001b[38;5;28mself\u001b[39m\u001b[38;5;241m.\u001b[39mapply_compat()\n\u001b[1;32m   1426\u001b[0m \u001b[38;5;66;03m# self.func is Callable\u001b[39;00m\n\u001b[0;32m-> 1427\u001b[0m \u001b[38;5;28;01mreturn\u001b[39;00m \u001b[38;5;28;43mself\u001b[39;49m\u001b[38;5;241;43m.\u001b[39;49m\u001b[43mapply_standard\u001b[49m\u001b[43m(\u001b[49m\u001b[43m)\u001b[49m\n",
      "File \u001b[0;32m~/Desktop/VelaInternship/venv/lib/python3.9/site-packages/pandas/core/apply.py:1507\u001b[0m, in \u001b[0;36mSeriesApply.apply_standard\u001b[0;34m(self)\u001b[0m\n\u001b[1;32m   1501\u001b[0m \u001b[38;5;66;03m# row-wise access\u001b[39;00m\n\u001b[1;32m   1502\u001b[0m \u001b[38;5;66;03m# apply doesn't have a `na_action` keyword and for backward compat reasons\u001b[39;00m\n\u001b[1;32m   1503\u001b[0m \u001b[38;5;66;03m# we need to give `na_action=\"ignore\"` for categorical data.\u001b[39;00m\n\u001b[1;32m   1504\u001b[0m \u001b[38;5;66;03m# TODO: remove the `na_action=\"ignore\"` when that default has been changed in\u001b[39;00m\n\u001b[1;32m   1505\u001b[0m \u001b[38;5;66;03m#  Categorical (GH51645).\u001b[39;00m\n\u001b[1;32m   1506\u001b[0m action \u001b[38;5;241m=\u001b[39m \u001b[38;5;124m\"\u001b[39m\u001b[38;5;124mignore\u001b[39m\u001b[38;5;124m\"\u001b[39m \u001b[38;5;28;01mif\u001b[39;00m \u001b[38;5;28misinstance\u001b[39m(obj\u001b[38;5;241m.\u001b[39mdtype, CategoricalDtype) \u001b[38;5;28;01melse\u001b[39;00m \u001b[38;5;28;01mNone\u001b[39;00m\n\u001b[0;32m-> 1507\u001b[0m mapped \u001b[38;5;241m=\u001b[39m \u001b[43mobj\u001b[49m\u001b[38;5;241;43m.\u001b[39;49m\u001b[43m_map_values\u001b[49m\u001b[43m(\u001b[49m\n\u001b[1;32m   1508\u001b[0m \u001b[43m    \u001b[49m\u001b[43mmapper\u001b[49m\u001b[38;5;241;43m=\u001b[39;49m\u001b[43mcurried\u001b[49m\u001b[43m,\u001b[49m\u001b[43m \u001b[49m\u001b[43mna_action\u001b[49m\u001b[38;5;241;43m=\u001b[39;49m\u001b[43maction\u001b[49m\u001b[43m,\u001b[49m\u001b[43m \u001b[49m\u001b[43mconvert\u001b[49m\u001b[38;5;241;43m=\u001b[39;49m\u001b[38;5;28;43mself\u001b[39;49m\u001b[38;5;241;43m.\u001b[39;49m\u001b[43mconvert_dtype\u001b[49m\n\u001b[1;32m   1509\u001b[0m \u001b[43m\u001b[49m\u001b[43m)\u001b[49m\n\u001b[1;32m   1511\u001b[0m \u001b[38;5;28;01mif\u001b[39;00m \u001b[38;5;28mlen\u001b[39m(mapped) \u001b[38;5;129;01mand\u001b[39;00m \u001b[38;5;28misinstance\u001b[39m(mapped[\u001b[38;5;241m0\u001b[39m], ABCSeries):\n\u001b[1;32m   1512\u001b[0m     \u001b[38;5;66;03m# GH#43986 Need to do list(mapped) in order to get treated as nested\u001b[39;00m\n\u001b[1;32m   1513\u001b[0m     \u001b[38;5;66;03m#  See also GH#25959 regarding EA support\u001b[39;00m\n\u001b[1;32m   1514\u001b[0m     \u001b[38;5;28;01mreturn\u001b[39;00m obj\u001b[38;5;241m.\u001b[39m_constructor_expanddim(\u001b[38;5;28mlist\u001b[39m(mapped), index\u001b[38;5;241m=\u001b[39mobj\u001b[38;5;241m.\u001b[39mindex)\n",
      "File \u001b[0;32m~/Desktop/VelaInternship/venv/lib/python3.9/site-packages/pandas/core/base.py:921\u001b[0m, in \u001b[0;36mIndexOpsMixin._map_values\u001b[0;34m(self, mapper, na_action, convert)\u001b[0m\n\u001b[1;32m    918\u001b[0m \u001b[38;5;28;01mif\u001b[39;00m \u001b[38;5;28misinstance\u001b[39m(arr, ExtensionArray):\n\u001b[1;32m    919\u001b[0m     \u001b[38;5;28;01mreturn\u001b[39;00m arr\u001b[38;5;241m.\u001b[39mmap(mapper, na_action\u001b[38;5;241m=\u001b[39mna_action)\n\u001b[0;32m--> 921\u001b[0m \u001b[38;5;28;01mreturn\u001b[39;00m \u001b[43malgorithms\u001b[49m\u001b[38;5;241;43m.\u001b[39;49m\u001b[43mmap_array\u001b[49m\u001b[43m(\u001b[49m\u001b[43marr\u001b[49m\u001b[43m,\u001b[49m\u001b[43m \u001b[49m\u001b[43mmapper\u001b[49m\u001b[43m,\u001b[49m\u001b[43m \u001b[49m\u001b[43mna_action\u001b[49m\u001b[38;5;241;43m=\u001b[39;49m\u001b[43mna_action\u001b[49m\u001b[43m,\u001b[49m\u001b[43m \u001b[49m\u001b[43mconvert\u001b[49m\u001b[38;5;241;43m=\u001b[39;49m\u001b[43mconvert\u001b[49m\u001b[43m)\u001b[49m\n",
      "File \u001b[0;32m~/Desktop/VelaInternship/venv/lib/python3.9/site-packages/pandas/core/algorithms.py:1743\u001b[0m, in \u001b[0;36mmap_array\u001b[0;34m(arr, mapper, na_action, convert)\u001b[0m\n\u001b[1;32m   1741\u001b[0m values \u001b[38;5;241m=\u001b[39m arr\u001b[38;5;241m.\u001b[39mastype(\u001b[38;5;28mobject\u001b[39m, copy\u001b[38;5;241m=\u001b[39m\u001b[38;5;28;01mFalse\u001b[39;00m)\n\u001b[1;32m   1742\u001b[0m \u001b[38;5;28;01mif\u001b[39;00m na_action \u001b[38;5;129;01mis\u001b[39;00m \u001b[38;5;28;01mNone\u001b[39;00m:\n\u001b[0;32m-> 1743\u001b[0m     \u001b[38;5;28;01mreturn\u001b[39;00m \u001b[43mlib\u001b[49m\u001b[38;5;241;43m.\u001b[39;49m\u001b[43mmap_infer\u001b[49m\u001b[43m(\u001b[49m\u001b[43mvalues\u001b[49m\u001b[43m,\u001b[49m\u001b[43m \u001b[49m\u001b[43mmapper\u001b[49m\u001b[43m,\u001b[49m\u001b[43m \u001b[49m\u001b[43mconvert\u001b[49m\u001b[38;5;241;43m=\u001b[39;49m\u001b[43mconvert\u001b[49m\u001b[43m)\u001b[49m\n\u001b[1;32m   1744\u001b[0m \u001b[38;5;28;01melse\u001b[39;00m:\n\u001b[1;32m   1745\u001b[0m     \u001b[38;5;28;01mreturn\u001b[39;00m lib\u001b[38;5;241m.\u001b[39mmap_infer_mask(\n\u001b[1;32m   1746\u001b[0m         values, mapper, mask\u001b[38;5;241m=\u001b[39misna(values)\u001b[38;5;241m.\u001b[39mview(np\u001b[38;5;241m.\u001b[39muint8), convert\u001b[38;5;241m=\u001b[39mconvert\n\u001b[1;32m   1747\u001b[0m     )\n",
      "File \u001b[0;32mlib.pyx:2972\u001b[0m, in \u001b[0;36mpandas._libs.lib.map_infer\u001b[0;34m()\u001b[0m\n",
      "Cell \u001b[0;32mIn[45], line 4\u001b[0m, in \u001b[0;36mgetEmbeddings\u001b[0;34m(input_text)\u001b[0m\n\u001b[1;32m      3\u001b[0m \u001b[38;5;28;01mdef\u001b[39;00m \u001b[38;5;21mgetEmbeddings\u001b[39m(input_text):\n\u001b[0;32m----> 4\u001b[0m     response \u001b[38;5;241m=\u001b[39m \u001b[43mclient\u001b[49m\u001b[38;5;241;43m.\u001b[39;49m\u001b[43membeddings\u001b[49m\u001b[38;5;241;43m.\u001b[39;49m\u001b[43mcreate\u001b[49m\u001b[43m(\u001b[49m\n\u001b[1;32m      5\u001b[0m \u001b[43m        \u001b[49m\u001b[38;5;28;43minput\u001b[39;49m\u001b[38;5;241;43m=\u001b[39;49m\u001b[43minput_text\u001b[49m\u001b[43m,\u001b[49m\n\u001b[1;32m      6\u001b[0m \u001b[43m        \u001b[49m\u001b[43mmodel\u001b[49m\u001b[38;5;241;43m=\u001b[39;49m\u001b[38;5;124;43m\"\u001b[39;49m\u001b[38;5;124;43mtext-embedding-3-large\u001b[39;49m\u001b[38;5;124;43m\"\u001b[39;49m\u001b[43m,\u001b[49m\n\u001b[1;32m      7\u001b[0m \u001b[43m        \u001b[49m\u001b[43mdimensions\u001b[49m\u001b[43m \u001b[49m\u001b[38;5;241;43m=\u001b[39;49m\u001b[43m \u001b[49m\u001b[38;5;241;43m100\u001b[39;49m\n\u001b[1;32m      8\u001b[0m \u001b[43m    \u001b[49m\u001b[43m)\u001b[49m\n\u001b[1;32m      9\u001b[0m     \u001b[38;5;28;01mreturn\u001b[39;00m(response\u001b[38;5;241m.\u001b[39mdata[\u001b[38;5;241m0\u001b[39m]\u001b[38;5;241m.\u001b[39membedding)\n",
      "File \u001b[0;32m~/Desktop/VelaInternship/venv/lib/python3.9/site-packages/openai/resources/embeddings.py:113\u001b[0m, in \u001b[0;36mEmbeddings.create\u001b[0;34m(self, input, model, dimensions, encoding_format, user, extra_headers, extra_query, extra_body, timeout)\u001b[0m\n\u001b[1;32m    107\u001b[0m         embedding\u001b[38;5;241m.\u001b[39membedding \u001b[38;5;241m=\u001b[39m np\u001b[38;5;241m.\u001b[39mfrombuffer(  \u001b[38;5;66;03m# type: ignore[no-untyped-call]\u001b[39;00m\n\u001b[1;32m    108\u001b[0m             base64\u001b[38;5;241m.\u001b[39mb64decode(data), dtype\u001b[38;5;241m=\u001b[39m\u001b[38;5;124m\"\u001b[39m\u001b[38;5;124mfloat32\u001b[39m\u001b[38;5;124m\"\u001b[39m\n\u001b[1;32m    109\u001b[0m         )\u001b[38;5;241m.\u001b[39mtolist()\n\u001b[1;32m    111\u001b[0m     \u001b[38;5;28;01mreturn\u001b[39;00m obj\n\u001b[0;32m--> 113\u001b[0m \u001b[38;5;28;01mreturn\u001b[39;00m \u001b[38;5;28;43mself\u001b[39;49m\u001b[38;5;241;43m.\u001b[39;49m\u001b[43m_post\u001b[49m\u001b[43m(\u001b[49m\n\u001b[1;32m    114\u001b[0m \u001b[43m    \u001b[49m\u001b[38;5;124;43m\"\u001b[39;49m\u001b[38;5;124;43m/embeddings\u001b[39;49m\u001b[38;5;124;43m\"\u001b[39;49m\u001b[43m,\u001b[49m\n\u001b[1;32m    115\u001b[0m \u001b[43m    \u001b[49m\u001b[43mbody\u001b[49m\u001b[38;5;241;43m=\u001b[39;49m\u001b[43mmaybe_transform\u001b[49m\u001b[43m(\u001b[49m\u001b[43mparams\u001b[49m\u001b[43m,\u001b[49m\u001b[43m \u001b[49m\u001b[43membedding_create_params\u001b[49m\u001b[38;5;241;43m.\u001b[39;49m\u001b[43mEmbeddingCreateParams\u001b[49m\u001b[43m)\u001b[49m\u001b[43m,\u001b[49m\n\u001b[1;32m    116\u001b[0m \u001b[43m    \u001b[49m\u001b[43moptions\u001b[49m\u001b[38;5;241;43m=\u001b[39;49m\u001b[43mmake_request_options\u001b[49m\u001b[43m(\u001b[49m\n\u001b[1;32m    117\u001b[0m \u001b[43m        \u001b[49m\u001b[43mextra_headers\u001b[49m\u001b[38;5;241;43m=\u001b[39;49m\u001b[43mextra_headers\u001b[49m\u001b[43m,\u001b[49m\n\u001b[1;32m    118\u001b[0m \u001b[43m        \u001b[49m\u001b[43mextra_query\u001b[49m\u001b[38;5;241;43m=\u001b[39;49m\u001b[43mextra_query\u001b[49m\u001b[43m,\u001b[49m\n\u001b[1;32m    119\u001b[0m \u001b[43m        \u001b[49m\u001b[43mextra_body\u001b[49m\u001b[38;5;241;43m=\u001b[39;49m\u001b[43mextra_body\u001b[49m\u001b[43m,\u001b[49m\n\u001b[1;32m    120\u001b[0m \u001b[43m        \u001b[49m\u001b[43mtimeout\u001b[49m\u001b[38;5;241;43m=\u001b[39;49m\u001b[43mtimeout\u001b[49m\u001b[43m,\u001b[49m\n\u001b[1;32m    121\u001b[0m \u001b[43m        \u001b[49m\u001b[43mpost_parser\u001b[49m\u001b[38;5;241;43m=\u001b[39;49m\u001b[43mparser\u001b[49m\u001b[43m,\u001b[49m\n\u001b[1;32m    122\u001b[0m \u001b[43m    \u001b[49m\u001b[43m)\u001b[49m\u001b[43m,\u001b[49m\n\u001b[1;32m    123\u001b[0m \u001b[43m    \u001b[49m\u001b[43mcast_to\u001b[49m\u001b[38;5;241;43m=\u001b[39;49m\u001b[43mCreateEmbeddingResponse\u001b[49m\u001b[43m,\u001b[49m\n\u001b[1;32m    124\u001b[0m \u001b[43m\u001b[49m\u001b[43m)\u001b[49m\n",
      "File \u001b[0;32m~/Desktop/VelaInternship/venv/lib/python3.9/site-packages/openai/_base_client.py:1200\u001b[0m, in \u001b[0;36mSyncAPIClient.post\u001b[0;34m(self, path, cast_to, body, options, files, stream, stream_cls)\u001b[0m\n\u001b[1;32m   1186\u001b[0m \u001b[38;5;28;01mdef\u001b[39;00m \u001b[38;5;21mpost\u001b[39m(\n\u001b[1;32m   1187\u001b[0m     \u001b[38;5;28mself\u001b[39m,\n\u001b[1;32m   1188\u001b[0m     path: \u001b[38;5;28mstr\u001b[39m,\n\u001b[0;32m   (...)\u001b[0m\n\u001b[1;32m   1195\u001b[0m     stream_cls: \u001b[38;5;28mtype\u001b[39m[_StreamT] \u001b[38;5;241m|\u001b[39m \u001b[38;5;28;01mNone\u001b[39;00m \u001b[38;5;241m=\u001b[39m \u001b[38;5;28;01mNone\u001b[39;00m,\n\u001b[1;32m   1196\u001b[0m ) \u001b[38;5;241m-\u001b[39m\u001b[38;5;241m>\u001b[39m ResponseT \u001b[38;5;241m|\u001b[39m _StreamT:\n\u001b[1;32m   1197\u001b[0m     opts \u001b[38;5;241m=\u001b[39m FinalRequestOptions\u001b[38;5;241m.\u001b[39mconstruct(\n\u001b[1;32m   1198\u001b[0m         method\u001b[38;5;241m=\u001b[39m\u001b[38;5;124m\"\u001b[39m\u001b[38;5;124mpost\u001b[39m\u001b[38;5;124m\"\u001b[39m, url\u001b[38;5;241m=\u001b[39mpath, json_data\u001b[38;5;241m=\u001b[39mbody, files\u001b[38;5;241m=\u001b[39mto_httpx_files(files), \u001b[38;5;241m*\u001b[39m\u001b[38;5;241m*\u001b[39moptions\n\u001b[1;32m   1199\u001b[0m     )\n\u001b[0;32m-> 1200\u001b[0m     \u001b[38;5;28;01mreturn\u001b[39;00m cast(ResponseT, \u001b[38;5;28;43mself\u001b[39;49m\u001b[38;5;241;43m.\u001b[39;49m\u001b[43mrequest\u001b[49m\u001b[43m(\u001b[49m\u001b[43mcast_to\u001b[49m\u001b[43m,\u001b[49m\u001b[43m \u001b[49m\u001b[43mopts\u001b[49m\u001b[43m,\u001b[49m\u001b[43m \u001b[49m\u001b[43mstream\u001b[49m\u001b[38;5;241;43m=\u001b[39;49m\u001b[43mstream\u001b[49m\u001b[43m,\u001b[49m\u001b[43m \u001b[49m\u001b[43mstream_cls\u001b[49m\u001b[38;5;241;43m=\u001b[39;49m\u001b[43mstream_cls\u001b[49m\u001b[43m)\u001b[49m)\n",
      "File \u001b[0;32m~/Desktop/VelaInternship/venv/lib/python3.9/site-packages/openai/_base_client.py:889\u001b[0m, in \u001b[0;36mSyncAPIClient.request\u001b[0;34m(self, cast_to, options, remaining_retries, stream, stream_cls)\u001b[0m\n\u001b[1;32m    880\u001b[0m \u001b[38;5;28;01mdef\u001b[39;00m \u001b[38;5;21mrequest\u001b[39m(\n\u001b[1;32m    881\u001b[0m     \u001b[38;5;28mself\u001b[39m,\n\u001b[1;32m    882\u001b[0m     cast_to: Type[ResponseT],\n\u001b[0;32m   (...)\u001b[0m\n\u001b[1;32m    887\u001b[0m     stream_cls: \u001b[38;5;28mtype\u001b[39m[_StreamT] \u001b[38;5;241m|\u001b[39m \u001b[38;5;28;01mNone\u001b[39;00m \u001b[38;5;241m=\u001b[39m \u001b[38;5;28;01mNone\u001b[39;00m,\n\u001b[1;32m    888\u001b[0m ) \u001b[38;5;241m-\u001b[39m\u001b[38;5;241m>\u001b[39m ResponseT \u001b[38;5;241m|\u001b[39m _StreamT:\n\u001b[0;32m--> 889\u001b[0m     \u001b[38;5;28;01mreturn\u001b[39;00m \u001b[38;5;28;43mself\u001b[39;49m\u001b[38;5;241;43m.\u001b[39;49m\u001b[43m_request\u001b[49m\u001b[43m(\u001b[49m\n\u001b[1;32m    890\u001b[0m \u001b[43m        \u001b[49m\u001b[43mcast_to\u001b[49m\u001b[38;5;241;43m=\u001b[39;49m\u001b[43mcast_to\u001b[49m\u001b[43m,\u001b[49m\n\u001b[1;32m    891\u001b[0m \u001b[43m        \u001b[49m\u001b[43moptions\u001b[49m\u001b[38;5;241;43m=\u001b[39;49m\u001b[43moptions\u001b[49m\u001b[43m,\u001b[49m\n\u001b[1;32m    892\u001b[0m \u001b[43m        \u001b[49m\u001b[43mstream\u001b[49m\u001b[38;5;241;43m=\u001b[39;49m\u001b[43mstream\u001b[49m\u001b[43m,\u001b[49m\n\u001b[1;32m    893\u001b[0m \u001b[43m        \u001b[49m\u001b[43mstream_cls\u001b[49m\u001b[38;5;241;43m=\u001b[39;49m\u001b[43mstream_cls\u001b[49m\u001b[43m,\u001b[49m\n\u001b[1;32m    894\u001b[0m \u001b[43m        \u001b[49m\u001b[43mremaining_retries\u001b[49m\u001b[38;5;241;43m=\u001b[39;49m\u001b[43mremaining_retries\u001b[49m\u001b[43m,\u001b[49m\n\u001b[1;32m    895\u001b[0m \u001b[43m    \u001b[49m\u001b[43m)\u001b[49m\n",
      "File \u001b[0;32m~/Desktop/VelaInternship/venv/lib/python3.9/site-packages/openai/_base_client.py:980\u001b[0m, in \u001b[0;36mSyncAPIClient._request\u001b[0;34m(self, cast_to, options, remaining_retries, stream, stream_cls)\u001b[0m\n\u001b[1;32m    977\u001b[0m         err\u001b[38;5;241m.\u001b[39mresponse\u001b[38;5;241m.\u001b[39mread()\n\u001b[1;32m    979\u001b[0m     log\u001b[38;5;241m.\u001b[39mdebug(\u001b[38;5;124m\"\u001b[39m\u001b[38;5;124mRe-raising status error\u001b[39m\u001b[38;5;124m\"\u001b[39m)\n\u001b[0;32m--> 980\u001b[0m     \u001b[38;5;28;01mraise\u001b[39;00m \u001b[38;5;28mself\u001b[39m\u001b[38;5;241m.\u001b[39m_make_status_error_from_response(err\u001b[38;5;241m.\u001b[39mresponse) \u001b[38;5;28;01mfrom\u001b[39;00m \u001b[38;5;28;01mNone\u001b[39;00m\n\u001b[1;32m    982\u001b[0m \u001b[38;5;28;01mreturn\u001b[39;00m \u001b[38;5;28mself\u001b[39m\u001b[38;5;241m.\u001b[39m_process_response(\n\u001b[1;32m    983\u001b[0m     cast_to\u001b[38;5;241m=\u001b[39mcast_to,\n\u001b[1;32m    984\u001b[0m     options\u001b[38;5;241m=\u001b[39moptions,\n\u001b[0;32m   (...)\u001b[0m\n\u001b[1;32m    987\u001b[0m     stream_cls\u001b[38;5;241m=\u001b[39mstream_cls,\n\u001b[1;32m    988\u001b[0m )\n",
      "\u001b[0;31mBadRequestError\u001b[0m: Error code: 400 - {'error': {'message': \"We could not parse the JSON body of your request. (HINT: This likely means you aren't using your HTTP library correctly. The OpenAI API expects a JSON payload, but what was sent was not valid JSON. If you have trouble figuring out how to fix this, please contact us through our help center at help.openai.com.)\", 'type': 'invalid_request_error', 'param': None, 'code': None}}"
     ]
    }
   ],
   "source": [
    "merged_unsuccessful_to_use['embedding_founder_info'] = merged_unsuccessful_to_use['paragraph_x'].apply(getEmbeddings)\n",
    "\n",
    "merged_unsuccessful_to_use['embedding_startup_info_long'] = merged_unsuccessful_to_use['long_description'].apply(getEmbeddings)\n",
    "\n",
    "merged_unsuccessful_to_use['embedding_integrated'] = merged_unsuccessful_to_use['integrated_info'].apply(getEmbeddings) "
   ]
  },
  {
   "cell_type": "code",
   "execution_count": 24,
   "id": "73abeba3126f117a",
   "metadata": {
    "ExecuteTime": {
     "end_time": "2024-03-22T15:19:38.682458Z",
     "start_time": "2024-03-22T15:19:38.470948Z"
    },
    "collapsed": false
   },
   "outputs": [
    {
     "name": "stdout",
     "output_type": "stream",
     "text": [
      "<class 'pandas.core.frame.DataFrame'>\n",
      "Index: 994 entries, 0 to 993\n",
      "Data columns (total 26 columns):\n",
      " #   Column                       Non-Null Count  Dtype  \n",
      "---  ------                       --------------  -----  \n",
      " 0   founder_linkedin_url         994 non-null    object \n",
      " 1   json_string_x                994 non-null    object \n",
      " 2   structured_info_x            994 non-null    object \n",
      " 3   paragraph_x                  994 non-null    object \n",
      " 4   segment                      994 non-null    object \n",
      " 5   level                        994 non-null    float64\n",
      " 6   PFS                          994 non-null    float64\n",
      " 7   FIS                          994 non-null    float64\n",
      " 8   Unnamed: 0                   994 non-null    int64  \n",
      " 9   org_name                     994 non-null    object \n",
      " 10  org_uuid                     994 non-null    object \n",
      " 11  json_string_y                994 non-null    object \n",
      " 12  structured_info_y            994 non-null    object \n",
      " 13  paragraph_y                  994 non-null    object \n",
      " 14  domain                       994 non-null    object \n",
      " 15  status                       994 non-null    object \n",
      " 16  founded_on                   994 non-null    object \n",
      " 17  category_list                994 non-null    object \n",
      " 18  category_groups_list         994 non-null    object \n",
      " 19  country_code                 991 non-null    object \n",
      " 20  city                         991 non-null    object \n",
      " 21  short_description            994 non-null    object \n",
      " 22  long_description             994 non-null    object \n",
      " 23  integrated_info              991 non-null    object \n",
      " 24  embedding_founder_info       994 non-null    object \n",
      " 25  embedding_startup_info_long  994 non-null    object \n",
      "dtypes: float64(3), int64(1), object(22)\n",
      "memory usage: 209.7+ KB\n"
     ]
    }
   ],
   "source": [
    "merged_successful_to_use.info()"
   ]
  },
  {
   "cell_type": "code",
   "execution_count": 27,
   "id": "6bb6ab185c3ac6b9",
   "metadata": {
    "ExecuteTime": {
     "end_time": "2024-03-22T15:21:16.816449Z",
     "start_time": "2024-03-22T15:21:14.150589Z"
    },
    "collapsed": false
   },
   "outputs": [],
   "source": [
    "merged_successful_to_use.to_csv(os.path.join(DATA_DIRPATH, 'successful','Merge_successful_With_Embedding.csv'))"
   ]
  },
  {
   "cell_type": "code",
   "execution_count": 76,
   "id": "94119c757806f820",
   "metadata": {
    "ExecuteTime": {
     "end_time": "2024-03-20T03:06:25.738042Z",
     "start_time": "2024-03-20T03:06:19.979911Z"
    },
    "collapsed": false
   },
   "outputs": [],
   "source": [
    "merged_unsuccessful_to_use.to_csv('Merge_Unsuccessful_With_Embedding.csv')"
   ]
  },
  {
   "cell_type": "markdown",
   "id": "fd8357ec8684d513",
   "metadata": {
    "collapsed": false
   },
   "source": [
    "## Preprocssing Done. Let's Now Train the Model!"
   ]
  },
  {
   "cell_type": "code",
   "execution_count": 28,
   "id": "5fd7dcd1026e1464",
   "metadata": {
    "ExecuteTime": {
     "end_time": "2024-03-22T15:21:57.440516Z",
     "start_time": "2024-03-22T15:21:54.890920Z"
    },
    "collapsed": false
   },
   "outputs": [],
   "source": [
    "# Load the Data \n",
    "\n",
    "embeddings_Unsuccessful = pd.read_csv(os.path.join(DATA_DIRPATH, 'Unsuccessful', 'Merge_Unsuccessful_With_Embedding.csv'))\n",
    "embeddings_successful = pd.read_csv(os.path.join(DATA_DIRPATH, 'successful', 'Merge_successful_With_Embedding.csv'))"
   ]
  },
  {
   "cell_type": "code",
   "execution_count": 29,
   "id": "efb6a3f890ca8421",
   "metadata": {
    "ExecuteTime": {
     "end_time": "2024-03-22T15:22:00.405841Z",
     "start_time": "2024-03-22T15:22:00.392295Z"
    },
    "collapsed": false
   },
   "outputs": [
    {
     "data": {
      "text/html": [
       "<div>\n",
       "<style scoped>\n",
       "    .dataframe tbody tr th:only-of-type {\n",
       "        vertical-align: middle;\n",
       "    }\n",
       "\n",
       "    .dataframe tbody tr th {\n",
       "        vertical-align: top;\n",
       "    }\n",
       "\n",
       "    .dataframe thead th {\n",
       "        text-align: right;\n",
       "    }\n",
       "</style>\n",
       "<table border=\"1\" class=\"dataframe\">\n",
       "  <thead>\n",
       "    <tr style=\"text-align: right;\">\n",
       "      <th></th>\n",
       "      <th>Unnamed: 0.1</th>\n",
       "      <th>founder_linkedin_url</th>\n",
       "      <th>json_string_x</th>\n",
       "      <th>structured_info_x</th>\n",
       "      <th>paragraph_x</th>\n",
       "      <th>segment</th>\n",
       "      <th>level</th>\n",
       "      <th>PFS</th>\n",
       "      <th>Normalized_PFS</th>\n",
       "      <th>FIS</th>\n",
       "      <th>...</th>\n",
       "      <th>founded_on</th>\n",
       "      <th>category_list</th>\n",
       "      <th>category_groups_list</th>\n",
       "      <th>country_code</th>\n",
       "      <th>city</th>\n",
       "      <th>short_description</th>\n",
       "      <th>long_description</th>\n",
       "      <th>integrated_info</th>\n",
       "      <th>embedding_founder_info</th>\n",
       "      <th>embedding_startup_info_long</th>\n",
       "    </tr>\n",
       "  </thead>\n",
       "  <tbody>\n",
       "    <tr>\n",
       "      <th>0</th>\n",
       "      <td>0</td>\n",
       "      <td>http://www.linkedin.com/pub/pete-foley/3/753/a1a</td>\n",
       "      <td>{\"version\": 1, \"hits\": 1, \"results\": 1, \"kgver...</td>\n",
       "      <td>{'name': 'Pete Foley', 'gender': 'Male', 'birt...</td>\n",
       "      <td>Pete Foley is known for their contribution as ...</td>\n",
       "      <td>L4</td>\n",
       "      <td>4</td>\n",
       "      <td>-4</td>\n",
       "      <td>-0.8</td>\n",
       "      <td>-0.8</td>\n",
       "      <td>...</td>\n",
       "      <td>1/1/16</td>\n",
       "      <td>Analytics,Artificial Intelligence,Enterprise S...</td>\n",
       "      <td>Artificial Intelligence,Data and Analytics,Inf...</td>\n",
       "      <td>USA</td>\n",
       "      <td>Chicago</td>\n",
       "      <td>ModelOp is a software enabling enterprises to ...</td>\n",
       "      <td>ModelOp provides software, enables large enter...</td>\n",
       "      <td>Organisation's Name: ModelOp Founder's Info: P...</td>\n",
       "      <td>[0.022600729018449783, 0.07252393662929535, -0...</td>\n",
       "      <td>[-0.03800855949521065, -0.03295385092496872, -...</td>\n",
       "    </tr>\n",
       "    <tr>\n",
       "      <th>1</th>\n",
       "      <td>1</td>\n",
       "      <td>https://www.linkedin.com/in/stubaileyblox</td>\n",
       "      <td>{\"version\": 1, \"hits\": 3, \"results\": 1, \"kgver...</td>\n",
       "      <td>{'name': 'Stuart Bailey', 'gender': '', 'birth...</td>\n",
       "      <td>Stuart Bailey is known for their contribution ...</td>\n",
       "      <td>L5</td>\n",
       "      <td>5</td>\n",
       "      <td>-5</td>\n",
       "      <td>-1.0</td>\n",
       "      <td>-1.0</td>\n",
       "      <td>...</td>\n",
       "      <td>1/1/16</td>\n",
       "      <td>Analytics,Artificial Intelligence,Enterprise S...</td>\n",
       "      <td>Artificial Intelligence,Data and Analytics,Inf...</td>\n",
       "      <td>USA</td>\n",
       "      <td>Chicago</td>\n",
       "      <td>ModelOp is a software enabling enterprises to ...</td>\n",
       "      <td>ModelOp provides software, enables large enter...</td>\n",
       "      <td>Organisation's Name: ModelOp Founder's Info: S...</td>\n",
       "      <td>[-0.010810008272528648, -0.07558997720479965, ...</td>\n",
       "      <td>[-0.038014668971300125, -0.03299487382173538, ...</td>\n",
       "    </tr>\n",
       "    <tr>\n",
       "      <th>2</th>\n",
       "      <td>2</td>\n",
       "      <td>https://www.linkedin.com/in/adamellison</td>\n",
       "      <td>{\"version\": 1, \"hits\": 1, \"results\": 1, \"kgver...</td>\n",
       "      <td>{'name': 'Adam Ellison', 'gender': '', 'birthD...</td>\n",
       "      <td>Adam Ellison is known for their contribution a...</td>\n",
       "      <td>L2</td>\n",
       "      <td>2</td>\n",
       "      <td>-2</td>\n",
       "      <td>-0.4</td>\n",
       "      <td>-0.4</td>\n",
       "      <td>...</td>\n",
       "      <td>1/1/13</td>\n",
       "      <td>Industrial Automation,Manufacturing,Robotics</td>\n",
       "      <td>Hardware,Manufacturing,Science and Engineering...</td>\n",
       "      <td>USA</td>\n",
       "      <td>San Francisco</td>\n",
       "      <td>Modbot brings industrial precision and power t...</td>\n",
       "      <td>Modbot brings industrial precision and power t...</td>\n",
       "      <td>Organisation's Name: Modbot Founder's Info: Ad...</td>\n",
       "      <td>[0.04498947039246559, 0.0581250824034214, -0.0...</td>\n",
       "      <td>[-0.09164256602525711, -0.11800635606050491, -...</td>\n",
       "    </tr>\n",
       "    <tr>\n",
       "      <th>3</th>\n",
       "      <td>3</td>\n",
       "      <td>https://www.linkedin.com/in/danielpizzata</td>\n",
       "      <td>{\"version\": 1, \"hits\": 1, \"results\": 1, \"kgver...</td>\n",
       "      <td>{'name': 'Daniel Pizzata', 'gender': 'Male', '...</td>\n",
       "      <td>Daniel Pizzata is known for their contribution...</td>\n",
       "      <td>L3</td>\n",
       "      <td>3</td>\n",
       "      <td>-3</td>\n",
       "      <td>-0.6</td>\n",
       "      <td>-0.6</td>\n",
       "      <td>...</td>\n",
       "      <td>1/1/13</td>\n",
       "      <td>Industrial Automation,Manufacturing,Robotics</td>\n",
       "      <td>Hardware,Manufacturing,Science and Engineering...</td>\n",
       "      <td>USA</td>\n",
       "      <td>San Francisco</td>\n",
       "      <td>Modbot brings industrial precision and power t...</td>\n",
       "      <td>Modbot brings industrial precision and power t...</td>\n",
       "      <td>Organisation's Name: Modbot Founder's Info: Da...</td>\n",
       "      <td>[-0.04631553590297699, -0.000925999425817281, ...</td>\n",
       "      <td>[-0.09110386669635773, -0.11795486509799957, -...</td>\n",
       "    </tr>\n",
       "    <tr>\n",
       "      <th>4</th>\n",
       "      <td>4</td>\n",
       "      <td>https://www.linkedin.com/in/mguctas</td>\n",
       "      <td>{\"version\": 1, \"hits\": 1, \"results\": 1, \"kgver...</td>\n",
       "      <td>{'name': 'Melis Guctas', 'gender': '', 'birthD...</td>\n",
       "      <td>Melis Guctas is known for their contribution a...</td>\n",
       "      <td>L4</td>\n",
       "      <td>4</td>\n",
       "      <td>-4</td>\n",
       "      <td>-0.8</td>\n",
       "      <td>-0.8</td>\n",
       "      <td>...</td>\n",
       "      <td>1/1/14</td>\n",
       "      <td>E-Commerce,Fashion,Internet,Jewelry,Lifestyle,...</td>\n",
       "      <td>Clothing and Apparel,Commerce and Shopping,Com...</td>\n",
       "      <td>TUR</td>\n",
       "      <td>Istanbul</td>\n",
       "      <td>Modacruz is an online social marketplace that ...</td>\n",
       "      <td>Modacruz is a mobile social marketplace, servi...</td>\n",
       "      <td>Organisation's Name: Modacruz Founder's Info: ...</td>\n",
       "      <td>[-0.049994129687547684, 0.10702555626630783, -...</td>\n",
       "      <td>[-0.18182775378227234, 0.011309467256069183, -...</td>\n",
       "    </tr>\n",
       "  </tbody>\n",
       "</table>\n",
       "<p>5 rows × 28 columns</p>\n",
       "</div>"
      ],
      "text/plain": [
       "   Unnamed: 0.1                              founder_linkedin_url  \\\n",
       "0             0  http://www.linkedin.com/pub/pete-foley/3/753/a1a   \n",
       "1             1         https://www.linkedin.com/in/stubaileyblox   \n",
       "2             2           https://www.linkedin.com/in/adamellison   \n",
       "3             3         https://www.linkedin.com/in/danielpizzata   \n",
       "4             4               https://www.linkedin.com/in/mguctas   \n",
       "\n",
       "                                       json_string_x  \\\n",
       "0  {\"version\": 1, \"hits\": 1, \"results\": 1, \"kgver...   \n",
       "1  {\"version\": 1, \"hits\": 3, \"results\": 1, \"kgver...   \n",
       "2  {\"version\": 1, \"hits\": 1, \"results\": 1, \"kgver...   \n",
       "3  {\"version\": 1, \"hits\": 1, \"results\": 1, \"kgver...   \n",
       "4  {\"version\": 1, \"hits\": 1, \"results\": 1, \"kgver...   \n",
       "\n",
       "                                   structured_info_x  \\\n",
       "0  {'name': 'Pete Foley', 'gender': 'Male', 'birt...   \n",
       "1  {'name': 'Stuart Bailey', 'gender': '', 'birth...   \n",
       "2  {'name': 'Adam Ellison', 'gender': '', 'birthD...   \n",
       "3  {'name': 'Daniel Pizzata', 'gender': 'Male', '...   \n",
       "4  {'name': 'Melis Guctas', 'gender': '', 'birthD...   \n",
       "\n",
       "                                         paragraph_x segment  level  PFS  \\\n",
       "0  Pete Foley is known for their contribution as ...      L4      4   -4   \n",
       "1  Stuart Bailey is known for their contribution ...      L5      5   -5   \n",
       "2  Adam Ellison is known for their contribution a...      L2      2   -2   \n",
       "3  Daniel Pizzata is known for their contribution...      L3      3   -3   \n",
       "4  Melis Guctas is known for their contribution a...      L4      4   -4   \n",
       "\n",
       "   Normalized_PFS  FIS  ...  founded_on  \\\n",
       "0            -0.8 -0.8  ...      1/1/16   \n",
       "1            -1.0 -1.0  ...      1/1/16   \n",
       "2            -0.4 -0.4  ...      1/1/13   \n",
       "3            -0.6 -0.6  ...      1/1/13   \n",
       "4            -0.8 -0.8  ...      1/1/14   \n",
       "\n",
       "                                       category_list  \\\n",
       "0  Analytics,Artificial Intelligence,Enterprise S...   \n",
       "1  Analytics,Artificial Intelligence,Enterprise S...   \n",
       "2       Industrial Automation,Manufacturing,Robotics   \n",
       "3       Industrial Automation,Manufacturing,Robotics   \n",
       "4  E-Commerce,Fashion,Internet,Jewelry,Lifestyle,...   \n",
       "\n",
       "                                category_groups_list country_code  \\\n",
       "0  Artificial Intelligence,Data and Analytics,Inf...          USA   \n",
       "1  Artificial Intelligence,Data and Analytics,Inf...          USA   \n",
       "2  Hardware,Manufacturing,Science and Engineering...          USA   \n",
       "3  Hardware,Manufacturing,Science and Engineering...          USA   \n",
       "4  Clothing and Apparel,Commerce and Shopping,Com...          TUR   \n",
       "\n",
       "            city                                  short_description  \\\n",
       "0        Chicago  ModelOp is a software enabling enterprises to ...   \n",
       "1        Chicago  ModelOp is a software enabling enterprises to ...   \n",
       "2  San Francisco  Modbot brings industrial precision and power t...   \n",
       "3  San Francisco  Modbot brings industrial precision and power t...   \n",
       "4       Istanbul  Modacruz is an online social marketplace that ...   \n",
       "\n",
       "                                    long_description  \\\n",
       "0  ModelOp provides software, enables large enter...   \n",
       "1  ModelOp provides software, enables large enter...   \n",
       "2  Modbot brings industrial precision and power t...   \n",
       "3  Modbot brings industrial precision and power t...   \n",
       "4  Modacruz is a mobile social marketplace, servi...   \n",
       "\n",
       "                                     integrated_info  \\\n",
       "0  Organisation's Name: ModelOp Founder's Info: P...   \n",
       "1  Organisation's Name: ModelOp Founder's Info: S...   \n",
       "2  Organisation's Name: Modbot Founder's Info: Ad...   \n",
       "3  Organisation's Name: Modbot Founder's Info: Da...   \n",
       "4  Organisation's Name: Modacruz Founder's Info: ...   \n",
       "\n",
       "                              embedding_founder_info  \\\n",
       "0  [0.022600729018449783, 0.07252393662929535, -0...   \n",
       "1  [-0.010810008272528648, -0.07558997720479965, ...   \n",
       "2  [0.04498947039246559, 0.0581250824034214, -0.0...   \n",
       "3  [-0.04631553590297699, -0.000925999425817281, ...   \n",
       "4  [-0.049994129687547684, 0.10702555626630783, -...   \n",
       "\n",
       "                         embedding_startup_info_long  \n",
       "0  [-0.03800855949521065, -0.03295385092496872, -...  \n",
       "1  [-0.038014668971300125, -0.03299487382173538, ...  \n",
       "2  [-0.09164256602525711, -0.11800635606050491, -...  \n",
       "3  [-0.09110386669635773, -0.11795486509799957, -...  \n",
       "4  [-0.18182775378227234, 0.011309467256069183, -...  \n",
       "\n",
       "[5 rows x 28 columns]"
      ]
     },
     "execution_count": 29,
     "metadata": {},
     "output_type": "execute_result"
    }
   ],
   "source": [
    "embeddings_Unsuccessful.head()"
   ]
  },
  {
   "cell_type": "code",
   "execution_count": 31,
   "id": "a4603ac3e99652ca",
   "metadata": {
    "ExecuteTime": {
     "end_time": "2024-03-22T15:24:28.494752Z",
     "start_time": "2024-03-22T15:24:28.393124Z"
    },
    "collapsed": false
   },
   "outputs": [
    {
     "name": "stdout",
     "output_type": "stream",
     "text": [
      "<class 'pandas.core.frame.DataFrame'>\n",
      "RangeIndex: 994 entries, 0 to 993\n",
      "Data columns (total 27 columns):\n",
      " #   Column                       Non-Null Count  Dtype  \n",
      "---  ------                       --------------  -----  \n",
      " 0   Unnamed: 0.1                 994 non-null    int64  \n",
      " 1   founder_linkedin_url         994 non-null    object \n",
      " 2   json_string_x                994 non-null    object \n",
      " 3   structured_info_x            994 non-null    object \n",
      " 4   paragraph_x                  994 non-null    object \n",
      " 5   segment                      994 non-null    object \n",
      " 6   level                        994 non-null    float64\n",
      " 7   PFS                          994 non-null    float64\n",
      " 8   FIS                          994 non-null    float64\n",
      " 9   Unnamed: 0                   994 non-null    int64  \n",
      " 10  org_name                     994 non-null    object \n",
      " 11  org_uuid                     994 non-null    object \n",
      " 12  json_string_y                994 non-null    object \n",
      " 13  structured_info_y            994 non-null    object \n",
      " 14  paragraph_y                  994 non-null    object \n",
      " 15  domain                       994 non-null    object \n",
      " 16  status                       994 non-null    object \n",
      " 17  founded_on                   994 non-null    object \n",
      " 18  category_list                994 non-null    object \n",
      " 19  category_groups_list         994 non-null    object \n",
      " 20  country_code                 991 non-null    object \n",
      " 21  city                         991 non-null    object \n",
      " 22  short_description            994 non-null    object \n",
      " 23  long_description             994 non-null    object \n",
      " 24  integrated_info              991 non-null    object \n",
      " 25  embedding_founder_info       994 non-null    object \n",
      " 26  embedding_startup_info_long  994 non-null    object \n",
      "dtypes: float64(3), int64(2), object(22)\n",
      "memory usage: 209.8+ KB\n"
     ]
    }
   ],
   "source": [
    "embeddings_successful.info()"
   ]
  },
  {
   "cell_type": "code",
   "execution_count": 32,
   "id": "32590f443408d330",
   "metadata": {
    "ExecuteTime": {
     "end_time": "2024-03-22T15:29:18.849877Z",
     "start_time": "2024-03-22T15:29:16.143285Z"
    },
    "collapsed": false
   },
   "outputs": [],
   "source": [
    "# Calculate Cosine Similarity \n",
    "\n",
    "from ast import literal_eval\n",
    "from sklearn.metrics.pairwise import cosine_similarity\n",
    "import numpy as np\n",
    "\n",
    "# Convert string representations of lists back to lists\n",
    "embeddings_Unsuccessful['embedding_founder_info'] = embeddings_Unsuccessful['embedding_founder_info'].apply(literal_eval)\n",
    "embeddings_Unsuccessful['embedding_startup_info_long'] = embeddings_Unsuccessful['embedding_startup_info_long'].apply(literal_eval)\n",
    "\n",
    "embeddings_successful['embedding_founder_info'] = embeddings_successful['embedding_founder_info'].apply(literal_eval)\n",
    "embeddings_successful['embedding_startup_info_long'] = embeddings_successful['embedding_startup_info_long'].apply(literal_eval)\n",
    "\n",
    "# Function to calculate cosine similarity\n",
    "def calculate_cosine_similarity(list1, list2):\n",
    "    # Ensure inputs are numpy arrays\n",
    "    arr1 = np.array(list1).reshape(1, -1)\n",
    "    arr2 = np.array(list2).reshape(1, -1)\n",
    "    # Calculate and return cosine similarity\n",
    "    return cosine_similarity(arr1, arr2)[0][0]\n",
    "\n",
    "# Apply the function to calculate cosine similarity for each row\n",
    "embeddings_Unsuccessful['cosine_similarity'] = embeddings_Unsuccessful.apply(\n",
    "    lambda row: calculate_cosine_similarity(row['embedding_founder_info'], row['embedding_startup_info_long']), axis=1)\n",
    "\n",
    "embeddings_successful['cosine_similarity'] = embeddings_successful.apply(\n",
    "    lambda row: calculate_cosine_similarity(row['embedding_founder_info'], row['embedding_startup_info_long']), axis=1)"
   ]
  },
  {
   "cell_type": "code",
   "execution_count": 33,
   "id": "e45b5de13f064982",
   "metadata": {
    "ExecuteTime": {
     "end_time": "2024-03-22T15:29:29.217720Z",
     "start_time": "2024-03-22T15:29:29.191524Z"
    },
    "collapsed": false
   },
   "outputs": [
    {
     "name": "stdout",
     "output_type": "stream",
     "text": [
      "<class 'pandas.core.frame.DataFrame'>\n",
      "RangeIndex: 994 entries, 0 to 993\n",
      "Data columns (total 28 columns):\n",
      " #   Column                       Non-Null Count  Dtype  \n",
      "---  ------                       --------------  -----  \n",
      " 0   Unnamed: 0.1                 994 non-null    int64  \n",
      " 1   founder_linkedin_url         994 non-null    object \n",
      " 2   json_string_x                994 non-null    object \n",
      " 3   structured_info_x            994 non-null    object \n",
      " 4   paragraph_x                  994 non-null    object \n",
      " 5   segment                      994 non-null    object \n",
      " 6   level                        994 non-null    float64\n",
      " 7   PFS                          994 non-null    float64\n",
      " 8   FIS                          994 non-null    float64\n",
      " 9   Unnamed: 0                   994 non-null    int64  \n",
      " 10  org_name                     994 non-null    object \n",
      " 11  org_uuid                     994 non-null    object \n",
      " 12  json_string_y                994 non-null    object \n",
      " 13  structured_info_y            994 non-null    object \n",
      " 14  paragraph_y                  994 non-null    object \n",
      " 15  domain                       994 non-null    object \n",
      " 16  status                       994 non-null    object \n",
      " 17  founded_on                   994 non-null    object \n",
      " 18  category_list                994 non-null    object \n",
      " 19  category_groups_list         994 non-null    object \n",
      " 20  country_code                 991 non-null    object \n",
      " 21  city                         991 non-null    object \n",
      " 22  short_description            994 non-null    object \n",
      " 23  long_description             994 non-null    object \n",
      " 24  integrated_info              991 non-null    object \n",
      " 25  embedding_founder_info       994 non-null    object \n",
      " 26  embedding_startup_info_long  994 non-null    object \n",
      " 27  cosine_similarity            994 non-null    float64\n",
      "dtypes: float64(4), int64(2), object(22)\n",
      "memory usage: 217.6+ KB\n"
     ]
    }
   ],
   "source": [
    "embeddings_successful.info()"
   ]
  },
  {
   "cell_type": "code",
   "execution_count": 34,
   "id": "b0795e0ce8dc507f",
   "metadata": {
    "ExecuteTime": {
     "end_time": "2024-03-22T15:29:41.674662Z",
     "start_time": "2024-03-22T15:29:41.650791Z"
    },
    "collapsed": false
   },
   "outputs": [
    {
     "data": {
      "text/html": [
       "<div>\n",
       "<style scoped>\n",
       "    .dataframe tbody tr th:only-of-type {\n",
       "        vertical-align: middle;\n",
       "    }\n",
       "\n",
       "    .dataframe tbody tr th {\n",
       "        vertical-align: top;\n",
       "    }\n",
       "\n",
       "    .dataframe thead th {\n",
       "        text-align: right;\n",
       "    }\n",
       "</style>\n",
       "<table border=\"1\" class=\"dataframe\">\n",
       "  <thead>\n",
       "    <tr style=\"text-align: right;\">\n",
       "      <th></th>\n",
       "      <th>Unnamed: 0.1</th>\n",
       "      <th>founder_linkedin_url</th>\n",
       "      <th>json_string_x</th>\n",
       "      <th>structured_info_x</th>\n",
       "      <th>paragraph_x</th>\n",
       "      <th>segment</th>\n",
       "      <th>level</th>\n",
       "      <th>PFS</th>\n",
       "      <th>FIS</th>\n",
       "      <th>Unnamed: 0</th>\n",
       "      <th>...</th>\n",
       "      <th>category_list</th>\n",
       "      <th>category_groups_list</th>\n",
       "      <th>country_code</th>\n",
       "      <th>city</th>\n",
       "      <th>short_description</th>\n",
       "      <th>long_description</th>\n",
       "      <th>integrated_info</th>\n",
       "      <th>embedding_founder_info</th>\n",
       "      <th>embedding_startup_info_long</th>\n",
       "      <th>cosine_similarity</th>\n",
       "    </tr>\n",
       "  </thead>\n",
       "  <tbody>\n",
       "    <tr>\n",
       "      <th>0</th>\n",
       "      <td>0</td>\n",
       "      <td>https://www.linkedin.com/in/ryan-johns-sf/</td>\n",
       "      <td>{\"version\": 1, \"hits\": 2, \"results\": 1, \"kgver...</td>\n",
       "      <td>{'name': 'Ryan Johns', 'gender': 'Male', 'birt...</td>\n",
       "      <td>Ryan Johns is known for their contribution as ...</td>\n",
       "      <td>L4</td>\n",
       "      <td>4.0</td>\n",
       "      <td>2.0</td>\n",
       "      <td>0.4</td>\n",
       "      <td>2275</td>\n",
       "      <td>...</td>\n",
       "      <td>Artificial Intelligence,Logistics,SaaS,Transpo...</td>\n",
       "      <td>Artificial Intelligence,Data and Analytics,Sci...</td>\n",
       "      <td>USA</td>\n",
       "      <td>San Francisco</td>\n",
       "      <td>Motive builds technology to improve the safety...</td>\n",
       "      <td>Motive is a remote-first company that serves m...</td>\n",
       "      <td>Organisation's Name: Motive Founder's Info: Ry...</td>\n",
       "      <td>[-0.05366436392068863, 0.017745016142725945, -...</td>\n",
       "      <td>[-0.029252175241708755, -0.05603918060660362, ...</td>\n",
       "      <td>0.368949</td>\n",
       "    </tr>\n",
       "    <tr>\n",
       "      <th>1</th>\n",
       "      <td>1</td>\n",
       "      <td>http://www.linkedin.com/in/smakani</td>\n",
       "      <td>{\"version\": 1, \"hits\": 1, \"results\": 1, \"kgver...</td>\n",
       "      <td>{'name': 'Shoaib Makani', 'gender': 'Male', 'b...</td>\n",
       "      <td>Shoaib Makani is known for their contribution ...</td>\n",
       "      <td>L4</td>\n",
       "      <td>4.0</td>\n",
       "      <td>2.0</td>\n",
       "      <td>0.4</td>\n",
       "      <td>2276</td>\n",
       "      <td>...</td>\n",
       "      <td>Artificial Intelligence,Logistics,SaaS,Transpo...</td>\n",
       "      <td>Artificial Intelligence,Data and Analytics,Sci...</td>\n",
       "      <td>USA</td>\n",
       "      <td>San Francisco</td>\n",
       "      <td>Motive builds technology to improve the safety...</td>\n",
       "      <td>Motive is a remote-first company that serves m...</td>\n",
       "      <td>Organisation's Name: Motive Founder's Info: Sh...</td>\n",
       "      <td>[-0.06811872869729996, -0.0019847487565129995,...</td>\n",
       "      <td>[-0.029460152611136436, -0.05610961839556694, ...</td>\n",
       "      <td>0.568633</td>\n",
       "    </tr>\n",
       "    <tr>\n",
       "      <th>2</th>\n",
       "      <td>2</td>\n",
       "      <td>https://www.linkedin.com/in/obaid-khan-b77b4357/</td>\n",
       "      <td>{\"version\": 1, \"hits\": 1, \"results\": 1, \"kgver...</td>\n",
       "      <td>{'name': 'Obaid Khan', 'gender': 'Male', 'birt...</td>\n",
       "      <td>Obaid Khan is known for their contribution as ...</td>\n",
       "      <td>L4</td>\n",
       "      <td>4.0</td>\n",
       "      <td>2.0</td>\n",
       "      <td>0.4</td>\n",
       "      <td>2277</td>\n",
       "      <td>...</td>\n",
       "      <td>Artificial Intelligence,Logistics,SaaS,Transpo...</td>\n",
       "      <td>Artificial Intelligence,Data and Analytics,Sci...</td>\n",
       "      <td>USA</td>\n",
       "      <td>San Francisco</td>\n",
       "      <td>Motive builds technology to improve the safety...</td>\n",
       "      <td>Motive is a remote-first company that serves m...</td>\n",
       "      <td>Organisation's Name: Motive Founder's Info: Ob...</td>\n",
       "      <td>[0.05729258060455322, -0.09685449302196503, -0...</td>\n",
       "      <td>[-0.02939431555569172, -0.05580231919884682, -...</td>\n",
       "      <td>0.449735</td>\n",
       "    </tr>\n",
       "    <tr>\n",
       "      <th>3</th>\n",
       "      <td>3</td>\n",
       "      <td>https://www.linkedin.com/in/alexbuttle</td>\n",
       "      <td>{\"version\": 1, \"hits\": 1, \"results\": 1, \"kgver...</td>\n",
       "      <td>{'name': 'Alex Buttle', 'gender': 'Male', 'bir...</td>\n",
       "      <td>Alex Buttle is known for their contribution as...</td>\n",
       "      <td>L4</td>\n",
       "      <td>4.0</td>\n",
       "      <td>2.0</td>\n",
       "      <td>0.4</td>\n",
       "      <td>2278</td>\n",
       "      <td>...</td>\n",
       "      <td>Automotive,Consumer Reviews,E-Commerce,Electri...</td>\n",
       "      <td>Commerce and Shopping,Transportation</td>\n",
       "      <td>GBR</td>\n",
       "      <td>London</td>\n",
       "      <td>Motorway is an online used-car marketplace con...</td>\n",
       "      <td>With so many ways to sell your car, it can be ...</td>\n",
       "      <td>Organisation's Name: Motorway Founder's Info: ...</td>\n",
       "      <td>[-0.03633289784193039, 0.11038364470005035, -0...</td>\n",
       "      <td>[-0.011946823447942734, -0.07916532456874847, ...</td>\n",
       "      <td>0.355143</td>\n",
       "    </tr>\n",
       "    <tr>\n",
       "      <th>4</th>\n",
       "      <td>4</td>\n",
       "      <td>http://www.linkedin.com/in/jonesharry</td>\n",
       "      <td>{\"version\": 1, \"hits\": 1, \"results\": 1, \"kgver...</td>\n",
       "      <td>{'name': 'Harry Jones', 'gender': 'Male', 'bir...</td>\n",
       "      <td>Harry Jones is known for their contribution as...</td>\n",
       "      <td>L4</td>\n",
       "      <td>4.0</td>\n",
       "      <td>2.0</td>\n",
       "      <td>0.4</td>\n",
       "      <td>2279</td>\n",
       "      <td>...</td>\n",
       "      <td>Automotive,Consumer Reviews,E-Commerce,Electri...</td>\n",
       "      <td>Commerce and Shopping,Transportation</td>\n",
       "      <td>GBR</td>\n",
       "      <td>London</td>\n",
       "      <td>Motorway is an online used-car marketplace con...</td>\n",
       "      <td>With so many ways to sell your car, it can be ...</td>\n",
       "      <td>Organisation's Name: Motorway Founder's Info: ...</td>\n",
       "      <td>[-0.009560658596456051, 0.09941399842500687, -...</td>\n",
       "      <td>[-0.011936895549297333, -0.07927663624286652, ...</td>\n",
       "      <td>0.320001</td>\n",
       "    </tr>\n",
       "  </tbody>\n",
       "</table>\n",
       "<p>5 rows × 28 columns</p>\n",
       "</div>"
      ],
      "text/plain": [
       "   Unnamed: 0.1                              founder_linkedin_url  \\\n",
       "0             0        https://www.linkedin.com/in/ryan-johns-sf/   \n",
       "1             1                http://www.linkedin.com/in/smakani   \n",
       "2             2  https://www.linkedin.com/in/obaid-khan-b77b4357/   \n",
       "3             3            https://www.linkedin.com/in/alexbuttle   \n",
       "4             4             http://www.linkedin.com/in/jonesharry   \n",
       "\n",
       "                                       json_string_x  \\\n",
       "0  {\"version\": 1, \"hits\": 2, \"results\": 1, \"kgver...   \n",
       "1  {\"version\": 1, \"hits\": 1, \"results\": 1, \"kgver...   \n",
       "2  {\"version\": 1, \"hits\": 1, \"results\": 1, \"kgver...   \n",
       "3  {\"version\": 1, \"hits\": 1, \"results\": 1, \"kgver...   \n",
       "4  {\"version\": 1, \"hits\": 1, \"results\": 1, \"kgver...   \n",
       "\n",
       "                                   structured_info_x  \\\n",
       "0  {'name': 'Ryan Johns', 'gender': 'Male', 'birt...   \n",
       "1  {'name': 'Shoaib Makani', 'gender': 'Male', 'b...   \n",
       "2  {'name': 'Obaid Khan', 'gender': 'Male', 'birt...   \n",
       "3  {'name': 'Alex Buttle', 'gender': 'Male', 'bir...   \n",
       "4  {'name': 'Harry Jones', 'gender': 'Male', 'bir...   \n",
       "\n",
       "                                         paragraph_x segment  level  PFS  FIS  \\\n",
       "0  Ryan Johns is known for their contribution as ...      L4    4.0  2.0  0.4   \n",
       "1  Shoaib Makani is known for their contribution ...      L4    4.0  2.0  0.4   \n",
       "2  Obaid Khan is known for their contribution as ...      L4    4.0  2.0  0.4   \n",
       "3  Alex Buttle is known for their contribution as...      L4    4.0  2.0  0.4   \n",
       "4  Harry Jones is known for their contribution as...      L4    4.0  2.0  0.4   \n",
       "\n",
       "   Unnamed: 0  ...                                      category_list  \\\n",
       "0        2275  ...  Artificial Intelligence,Logistics,SaaS,Transpo...   \n",
       "1        2276  ...  Artificial Intelligence,Logistics,SaaS,Transpo...   \n",
       "2        2277  ...  Artificial Intelligence,Logistics,SaaS,Transpo...   \n",
       "3        2278  ...  Automotive,Consumer Reviews,E-Commerce,Electri...   \n",
       "4        2279  ...  Automotive,Consumer Reviews,E-Commerce,Electri...   \n",
       "\n",
       "                                category_groups_list country_code  \\\n",
       "0  Artificial Intelligence,Data and Analytics,Sci...          USA   \n",
       "1  Artificial Intelligence,Data and Analytics,Sci...          USA   \n",
       "2  Artificial Intelligence,Data and Analytics,Sci...          USA   \n",
       "3               Commerce and Shopping,Transportation          GBR   \n",
       "4               Commerce and Shopping,Transportation          GBR   \n",
       "\n",
       "            city                                  short_description  \\\n",
       "0  San Francisco  Motive builds technology to improve the safety...   \n",
       "1  San Francisco  Motive builds technology to improve the safety...   \n",
       "2  San Francisco  Motive builds technology to improve the safety...   \n",
       "3         London  Motorway is an online used-car marketplace con...   \n",
       "4         London  Motorway is an online used-car marketplace con...   \n",
       "\n",
       "                                    long_description  \\\n",
       "0  Motive is a remote-first company that serves m...   \n",
       "1  Motive is a remote-first company that serves m...   \n",
       "2  Motive is a remote-first company that serves m...   \n",
       "3  With so many ways to sell your car, it can be ...   \n",
       "4  With so many ways to sell your car, it can be ...   \n",
       "\n",
       "                                     integrated_info  \\\n",
       "0  Organisation's Name: Motive Founder's Info: Ry...   \n",
       "1  Organisation's Name: Motive Founder's Info: Sh...   \n",
       "2  Organisation's Name: Motive Founder's Info: Ob...   \n",
       "3  Organisation's Name: Motorway Founder's Info: ...   \n",
       "4  Organisation's Name: Motorway Founder's Info: ...   \n",
       "\n",
       "                              embedding_founder_info  \\\n",
       "0  [-0.05366436392068863, 0.017745016142725945, -...   \n",
       "1  [-0.06811872869729996, -0.0019847487565129995,...   \n",
       "2  [0.05729258060455322, -0.09685449302196503, -0...   \n",
       "3  [-0.03633289784193039, 0.11038364470005035, -0...   \n",
       "4  [-0.009560658596456051, 0.09941399842500687, -...   \n",
       "\n",
       "                         embedding_startup_info_long cosine_similarity  \n",
       "0  [-0.029252175241708755, -0.05603918060660362, ...          0.368949  \n",
       "1  [-0.029460152611136436, -0.05610961839556694, ...          0.568633  \n",
       "2  [-0.02939431555569172, -0.05580231919884682, -...          0.449735  \n",
       "3  [-0.011946823447942734, -0.07916532456874847, ...          0.355143  \n",
       "4  [-0.011936895549297333, -0.07927663624286652, ...          0.320001  \n",
       "\n",
       "[5 rows x 28 columns]"
      ]
     },
     "execution_count": 34,
     "metadata": {},
     "output_type": "execute_result"
    }
   ],
   "source": [
    "embeddings_successful.head()"
   ]
  },
  {
   "cell_type": "markdown",
   "id": "7ba00fb97655ada3",
   "metadata": {
    "collapsed": false
   },
   "source": [
    "## Now cosine similarity is calculated, let's plot the data to investagte first\n",
    "\n"
   ]
  },
  {
   "cell_type": "code",
   "execution_count": 40,
   "id": "db13c27cb9614f51",
   "metadata": {
    "ExecuteTime": {
     "end_time": "2024-03-22T15:52:51.193521Z",
     "start_time": "2024-03-22T15:52:50.765356Z"
    },
    "collapsed": false
   },
   "outputs": [
    {
     "data": {
      "image/png": "[encoded data removed]",
      "text/plain": [
       "<Figure size 1000x600 with 1 Axes>"
      ]
     },
     "metadata": {},
     "output_type": "display_data"
    }
   ],
   "source": [
    "import matplotlib.pyplot as plt\n",
    "import matplotlib.pyplot as plt\n",
    "import seaborn as sns\n",
    "\n",
    "# Assuming 'combined_data' contains both 'cosine_similarity' and 'FIS' columns\n",
    "# Let's simulate a small portion of combined_data for demonstration purposes\n",
    "combined_data = embeddings_successful[['FIS','cosine_similarity']]\n",
    "combined_data_Un = embeddings_Unsuccessful[['FIS','cosine_similarity']]\n",
    "\n",
    "# Plotting the relationship between cosine similarity and FIS\n",
    "plt.figure(figsize=(10, 6))\n",
    "sns.scatterplot(x='cosine_similarity', y='FIS', data=combined_data)\n",
    "sns.scatterplot(x='cosine_similarity', y='FIS', data=combined_data_Un)\n",
    "plt.title('Relationship between Cosine Similarity and Founder-Idea Fit Score (FIS)')\n",
    "plt.xlabel('Cosine Similarity')\n",
    "plt.ylabel('Founder-Idea Fit Score (FIS)')\n",
    "plt.savefig('plots/Relationship between Cosine Similarity and Founder-Idea Fit Score (FIS)')\n",
    "plt.show()"
   ]
  },
  {
   "cell_type": "markdown",
   "id": "b4a6c67b84193f44",
   "metadata": {
    "collapsed": false
   },
   "source": [
    "### It's not really linear. Let's investigate it further\n",
    "\n"
   ]
  },
  {
   "cell_type": "code",
   "execution_count": 39,
   "id": "5c3204fee0d3bb6b",
   "metadata": {
    "ExecuteTime": {
     "end_time": "2024-03-22T15:46:09.066386Z",
     "start_time": "2024-03-22T15:46:04.693862Z"
    },
    "collapsed": false
   },
   "outputs": [
    {
     "name": "stdout",
     "output_type": "stream",
     "text": [
      "Pearson correlation coefficient: 0.17341844059350578, p-value: 1.497518616022364e-14\n",
      "                            OLS Regression Results                            \n",
      "==============================================================================\n",
      "Dep. Variable:                    FIS   R-squared:                       0.030\n",
      "Model:                            OLS   Adj. R-squared:                  0.030\n",
      "Method:                 Least Squares   F-statistic:                     60.03\n",
      "Date:                Fri, 22 Mar 2024   Prob (F-statistic):           1.50e-14\n",
      "Time:                        15:46:09   Log-Likelihood:                -1601.4\n",
      "No. Observations:                1938   AIC:                             3207.\n",
      "Df Residuals:                    1936   BIC:                             3218.\n",
      "Df Model:                           1                                         \n",
      "Covariance Type:            nonrobust                                         \n",
      "=====================================================================================\n",
      "                        coef    std err          t      P>|t|      [0.025      0.975]\n",
      "-------------------------------------------------------------------------------------\n",
      "const                -0.4562      0.056     -8.161      0.000      -0.566      -0.347\n",
      "cosine_similarity     0.8228      0.106      7.748      0.000       0.615       1.031\n",
      "==============================================================================\n",
      "Omnibus:                    13439.810   Durbin-Watson:                   0.222\n",
      "Prob(Omnibus):                  0.000   Jarque-Bera (JB):              177.673\n",
      "Skew:                          -0.002   Prob(JB):                     2.62e-39\n",
      "Kurtosis:                       1.517   Cond. No.                         10.7\n",
      "==============================================================================\n",
      "\n",
      "Notes:\n",
      "[1] Standard Errors assume that the covariance matrix of the errors is correctly specified.\n"
     ]
    }
   ],
   "source": [
    "import statsmodels.api as sm\n",
    "from scipy.stats import pearsonr\n",
    "\n",
    "# Combine the datasets and create a binary 'success' column, 1 for successful and 0 for unsuccessful\n",
    "embeddings_Unsuccessful['success'] = 0\n",
    "embeddings_successful['success'] = 1\n",
    "combined_data_all = pd.concat([embeddings_Unsuccessful, embeddings_successful])\n",
    "\n",
    "combined_data_all.to_csv(os.path.join(DATA_DIRPATH, 'final_combined_data.csv'))\n",
    "\n",
    "# Assume X is the cosine similarity array and Y is the FIS array, already loaded and preprocessed\n",
    "X = combined_data_all['cosine_similarity']\n",
    "Y = combined_data_all['FIS']\n",
    "\n",
    "# Calculate Pearson correlation coefficient\n",
    "correlation_coef, p_value = pearsonr(X, Y)\n",
    "print(f'Pearson correlation coefficient: {correlation_coef}, p-value: {p_value}')\n",
    "\n",
    "# Fit a simple linear regression model\n",
    "X = sm.add_constant(X)  # Adds a constant term to the predictor\n",
    "model = sm.OLS(Y, X)\n",
    "results = model.fit()\n",
    "\n",
    "print(results.summary())\n",
    "\n",
    "# Check for non-linearity (optional)\n",
    "# Apply a non-linear transformation or fit a non-linear model as necessary"
   ]
  },
  {
   "cell_type": "markdown",
   "id": "1dd4c03e2596136",
   "metadata": {
    "collapsed": false
   },
   "source": [
    "## Finally let's build the model!\n",
    "\n",
    "### Structure: CNN-LSTM"
   ]
  },
  {
   "cell_type": "code",
   "execution_count": 41,
   "id": "d2bd710625145b82",
   "metadata": {
    "ExecuteTime": {
     "end_time": "2024-03-22T16:49:38.278366Z",
     "start_time": "2024-03-22T16:49:38.069887Z"
    },
    "collapsed": false
   },
   "outputs": [
    {
     "name": "stdout",
     "output_type": "stream",
     "text": [
      "<class 'pandas.core.frame.DataFrame'>\n",
      "RangeIndex: 994 entries, 0 to 993\n",
      "Data columns (total 29 columns):\n",
      " #   Column                       Non-Null Count  Dtype  \n",
      "---  ------                       --------------  -----  \n",
      " 0   Unnamed: 0.1                 994 non-null    int64  \n",
      " 1   founder_linkedin_url         994 non-null    object \n",
      " 2   json_string_x                994 non-null    object \n",
      " 3   structured_info_x            994 non-null    object \n",
      " 4   paragraph_x                  994 non-null    object \n",
      " 5   segment                      994 non-null    object \n",
      " 6   level                        994 non-null    float64\n",
      " 7   PFS                          994 non-null    float64\n",
      " 8   FIS                          994 non-null    float64\n",
      " 9   Unnamed: 0                   994 non-null    int64  \n",
      " 10  org_name                     994 non-null    object \n",
      " 11  org_uuid                     994 non-null    object \n",
      " 12  json_string_y                994 non-null    object \n",
      " 13  structured_info_y            994 non-null    object \n",
      " 14  paragraph_y                  994 non-null    object \n",
      " 15  domain                       994 non-null    object \n",
      " 16  status                       994 non-null    object \n",
      " 17  founded_on                   994 non-null    object \n",
      " 18  category_list                994 non-null    object \n",
      " 19  category_groups_list         994 non-null    object \n",
      " 20  country_code                 991 non-null    object \n",
      " 21  city                         991 non-null    object \n",
      " 22  short_description            994 non-null    object \n",
      " 23  long_description             994 non-null    object \n",
      " 24  integrated_info              991 non-null    object \n",
      " 25  embedding_founder_info       994 non-null    object \n",
      " 26  embedding_startup_info_long  994 non-null    object \n",
      " 27  cosine_similarity            994 non-null    float64\n",
      " 28  success                      994 non-null    int64  \n",
      "dtypes: float64(4), int64(3), object(22)\n",
      "memory usage: 225.3+ KB\n"
     ]
    }
   ],
   "source": [
    "embeddings_successful.info()"
   ]
  },
  {
   "cell_type": "code",
   "execution_count": 78,
   "id": "bc347a9fe4c358d0",
   "metadata": {
    "ExecuteTime": {
     "end_time": "2024-03-23T19:07:07.836743Z",
     "start_time": "2024-03-23T19:06:59.722669Z"
    },
    "collapsed": false
   },
   "outputs": [
    {
     "name": "stderr",
     "output_type": "stream",
     "text": [
      "/Users/wangxiang/Desktop/VelaInternship/venv/lib/python3.9/site-packages/keras/src/layers/core/dense.py:85: UserWarning: Do not pass an `input_shape`/`input_dim` argument to a layer. When using Sequential models, prefer using an `Input(shape)` object as the first layer in the model instead.\n",
      "  super().__init__(activity_regularizer=activity_regularizer, **kwargs)\n"
     ]
    },
    {
     "data": {
      "text/html": [
       "<pre style=\"white-space:pre;overflow-x:auto;line-height:normal;font-family:Menlo,'DejaVu Sans Mono',consolas,'Courier New',monospace\"><span style=\"font-weight: bold\">Model: \"sequential_14\"</span>\n",
       "</pre>\n"
      ],
      "text/plain": [
       "\u001b[1mModel: \"sequential_14\"\u001b[0m\n"
      ]
     },
     "metadata": {},
     "output_type": "display_data"
    },
    {
     "data": {
      "text/html": [
       "<pre style=\"white-space:pre;overflow-x:auto;line-height:normal;font-family:Menlo,'DejaVu Sans Mono',consolas,'Courier New',monospace\">┏━━━━━━━━━━━━━━━━━━━━━━━━━━━━━━━━━┳━━━━━━━━━━━━━━━━━━━━━━━━┳━━━━━━━━━━━━━━━┓\n",
       "┃<span style=\"font-weight: bold\"> Layer (type)                    </span>┃<span style=\"font-weight: bold\"> Output Shape           </span>┃<span style=\"font-weight: bold\">       Param # </span>┃\n",
       "┡━━━━━━━━━━━━━━━━━━━━━━━━━━━━━━━━━╇━━━━━━━━━━━━━━━━━━━━━━━━╇━━━━━━━━━━━━━━━┩\n",
       "│ dense_30 (<span style=\"color: #0087ff; text-decoration-color: #0087ff\">Dense</span>)                │ (<span style=\"color: #00d7ff; text-decoration-color: #00d7ff\">None</span>, <span style=\"color: #00af00; text-decoration-color: #00af00\">128</span>)            │        <span style=\"color: #00af00; text-decoration-color: #00af00\">25,856</span> │\n",
       "├─────────────────────────────────┼────────────────────────┼───────────────┤\n",
       "│ dropout_24 (<span style=\"color: #0087ff; text-decoration-color: #0087ff\">Dropout</span>)            │ (<span style=\"color: #00d7ff; text-decoration-color: #00d7ff\">None</span>, <span style=\"color: #00af00; text-decoration-color: #00af00\">128</span>)            │             <span style=\"color: #00af00; text-decoration-color: #00af00\">0</span> │\n",
       "├─────────────────────────────────┼────────────────────────┼───────────────┤\n",
       "│ dense_31 (<span style=\"color: #0087ff; text-decoration-color: #0087ff\">Dense</span>)                │ (<span style=\"color: #00d7ff; text-decoration-color: #00d7ff\">None</span>, <span style=\"color: #00af00; text-decoration-color: #00af00\">64</span>)             │         <span style=\"color: #00af00; text-decoration-color: #00af00\">8,256</span> │\n",
       "├─────────────────────────────────┼────────────────────────┼───────────────┤\n",
       "│ dropout_25 (<span style=\"color: #0087ff; text-decoration-color: #0087ff\">Dropout</span>)            │ (<span style=\"color: #00d7ff; text-decoration-color: #00d7ff\">None</span>, <span style=\"color: #00af00; text-decoration-color: #00af00\">64</span>)             │             <span style=\"color: #00af00; text-decoration-color: #00af00\">0</span> │\n",
       "├─────────────────────────────────┼────────────────────────┼───────────────┤\n",
       "│ dense_32 (<span style=\"color: #0087ff; text-decoration-color: #0087ff\">Dense</span>)                │ (<span style=\"color: #00d7ff; text-decoration-color: #00d7ff\">None</span>, <span style=\"color: #00af00; text-decoration-color: #00af00\">1</span>)              │            <span style=\"color: #00af00; text-decoration-color: #00af00\">65</span> │\n",
       "└─────────────────────────────────┴────────────────────────┴───────────────┘\n",
       "</pre>\n"
      ],
      "text/plain": [
       "┏━━━━━━━━━━━━━━━━━━━━━━━━━━━━━━━━━┳━━━━━━━━━━━━━━━━━━━━━━━━┳━━━━━━━━━━━━━━━┓\n",
       "┃\u001b[1m \u001b[0m\u001b[1mLayer (type)                   \u001b[0m\u001b[1m \u001b[0m┃\u001b[1m \u001b[0m\u001b[1mOutput Shape          \u001b[0m\u001b[1m \u001b[0m┃\u001b[1m \u001b[0m\u001b[1m      Param #\u001b[0m\u001b[1m \u001b[0m┃\n",
       "┡━━━━━━━━━━━━━━━━━━━━━━━━━━━━━━━━━╇━━━━━━━━━━━━━━━━━━━━━━━━╇━━━━━━━━━━━━━━━┩\n",
       "│ dense_30 (\u001b[38;5;33mDense\u001b[0m)                │ (\u001b[38;5;45mNone\u001b[0m, \u001b[38;5;34m128\u001b[0m)            │        \u001b[38;5;34m25,856\u001b[0m │\n",
       "├─────────────────────────────────┼────────────────────────┼───────────────┤\n",
       "│ dropout_24 (\u001b[38;5;33mDropout\u001b[0m)            │ (\u001b[38;5;45mNone\u001b[0m, \u001b[38;5;34m128\u001b[0m)            │             \u001b[38;5;34m0\u001b[0m │\n",
       "├─────────────────────────────────┼────────────────────────┼───────────────┤\n",
       "│ dense_31 (\u001b[38;5;33mDense\u001b[0m)                │ (\u001b[38;5;45mNone\u001b[0m, \u001b[38;5;34m64\u001b[0m)             │         \u001b[38;5;34m8,256\u001b[0m │\n",
       "├─────────────────────────────────┼────────────────────────┼───────────────┤\n",
       "│ dropout_25 (\u001b[38;5;33mDropout\u001b[0m)            │ (\u001b[38;5;45mNone\u001b[0m, \u001b[38;5;34m64\u001b[0m)             │             \u001b[38;5;34m0\u001b[0m │\n",
       "├─────────────────────────────────┼────────────────────────┼───────────────┤\n",
       "│ dense_32 (\u001b[38;5;33mDense\u001b[0m)                │ (\u001b[38;5;45mNone\u001b[0m, \u001b[38;5;34m1\u001b[0m)              │            \u001b[38;5;34m65\u001b[0m │\n",
       "└─────────────────────────────────┴────────────────────────┴───────────────┘\n"
      ]
     },
     "metadata": {},
     "output_type": "display_data"
    },
    {
     "data": {
      "text/html": [
       "<pre style=\"white-space:pre;overflow-x:auto;line-height:normal;font-family:Menlo,'DejaVu Sans Mono',consolas,'Courier New',monospace\"><span style=\"font-weight: bold\"> Total params: </span><span style=\"color: #00af00; text-decoration-color: #00af00\">34,177</span> (133.50 KB)\n",
       "</pre>\n"
      ],
      "text/plain": [
       "\u001b[1m Total params: \u001b[0m\u001b[38;5;34m34,177\u001b[0m (133.50 KB)\n"
      ]
     },
     "metadata": {},
     "output_type": "display_data"
    },
    {
     "data": {
      "text/html": [
       "<pre style=\"white-space:pre;overflow-x:auto;line-height:normal;font-family:Menlo,'DejaVu Sans Mono',consolas,'Courier New',monospace\"><span style=\"font-weight: bold\"> Trainable params: </span><span style=\"color: #00af00; text-decoration-color: #00af00\">34,177</span> (133.50 KB)\n",
       "</pre>\n"
      ],
      "text/plain": [
       "\u001b[1m Trainable params: \u001b[0m\u001b[38;5;34m34,177\u001b[0m (133.50 KB)\n"
      ]
     },
     "metadata": {},
     "output_type": "display_data"
    },
    {
     "data": {
      "text/html": [
       "<pre style=\"white-space:pre;overflow-x:auto;line-height:normal;font-family:Menlo,'DejaVu Sans Mono',consolas,'Courier New',monospace\"><span style=\"font-weight: bold\"> Non-trainable params: </span><span style=\"color: #00af00; text-decoration-color: #00af00\">0</span> (0.00 B)\n",
       "</pre>\n"
      ],
      "text/plain": [
       "\u001b[1m Non-trainable params: \u001b[0m\u001b[38;5;34m0\u001b[0m (0.00 B)\n"
      ]
     },
     "metadata": {},
     "output_type": "display_data"
    },
    {
     "name": "stdout",
     "output_type": "stream",
     "text": [
      "Epoch 1/10\n",
      "\u001b[1m25/25\u001b[0m \u001b[32m━━━━━━━━━━━━━━━━━━━━\u001b[0m\u001b[37m\u001b[0m \u001b[1m1s\u001b[0m 5ms/step - loss: 0.7687 - mean_squared_error: 0.7688 - val_loss: 0.1600 - val_mean_squared_error: 0.1694\n",
      "Epoch 2/10\n",
      "\u001b[1m25/25\u001b[0m \u001b[32m━━━━━━━━━━━━━━━━━━━━\u001b[0m\u001b[37m\u001b[0m \u001b[1m0s\u001b[0m 2ms/step - loss: 0.3594 - mean_squared_error: 0.3595 - val_loss: 0.1171 - val_mean_squared_error: 0.1220\n",
      "Epoch 3/10\n",
      "\u001b[1m25/25\u001b[0m \u001b[32m━━━━━━━━━━━━━━━━━━━━\u001b[0m\u001b[37m\u001b[0m \u001b[1m0s\u001b[0m 1ms/step - loss: 0.2095 - mean_squared_error: 0.2095 - val_loss: 0.0953 - val_mean_squared_error: 0.0985\n",
      "Epoch 4/10\n",
      "\u001b[1m25/25\u001b[0m \u001b[32m━━━━━━━━━━━━━━━━━━━━\u001b[0m\u001b[37m\u001b[0m \u001b[1m0s\u001b[0m 2ms/step - loss: 0.1525 - mean_squared_error: 0.1526 - val_loss: 0.0674 - val_mean_squared_error: 0.0689\n",
      "Epoch 5/10\n",
      "\u001b[1m25/25\u001b[0m \u001b[32m━━━━━━━━━━━━━━━━━━━━\u001b[0m\u001b[37m\u001b[0m \u001b[1m0s\u001b[0m 3ms/step - loss: 0.1092 - mean_squared_error: 0.1092 - val_loss: 0.0637 - val_mean_squared_error: 0.0637\n",
      "Epoch 6/10\n",
      "\u001b[1m25/25\u001b[0m \u001b[32m━━━━━━━━━━━━━━━━━━━━\u001b[0m\u001b[37m\u001b[0m \u001b[1m0s\u001b[0m 2ms/step - loss: 0.0929 - mean_squared_error: 0.0929 - val_loss: 0.0571 - val_mean_squared_error: 0.0565\n",
      "Epoch 7/10\n",
      "\u001b[1m25/25\u001b[0m \u001b[32m━━━━━━━━━━━━━━━━━━━━\u001b[0m\u001b[37m\u001b[0m \u001b[1m0s\u001b[0m 1ms/step - loss: 0.0815 - mean_squared_error: 0.0815 - val_loss: 0.0565 - val_mean_squared_error: 0.0563\n",
      "Epoch 8/10\n",
      "\u001b[1m25/25\u001b[0m \u001b[32m━━━━━━━━━━━━━━━━━━━━\u001b[0m\u001b[37m\u001b[0m \u001b[1m0s\u001b[0m 4ms/step - loss: 0.0745 - mean_squared_error: 0.0745 - val_loss: 0.0506 - val_mean_squared_error: 0.0518\n",
      "Epoch 9/10\n",
      "\u001b[1m25/25\u001b[0m \u001b[32m━━━━━━━━━━━━━━━━━━━━\u001b[0m\u001b[37m\u001b[0m \u001b[1m0s\u001b[0m 1ms/step - loss: 0.0597 - mean_squared_error: 0.0597 - val_loss: 0.0472 - val_mean_squared_error: 0.0489\n",
      "Epoch 10/10\n",
      "\u001b[1m25/25\u001b[0m \u001b[32m━━━━━━━━━━━━━━━━━━━━\u001b[0m\u001b[37m\u001b[0m \u001b[1m0s\u001b[0m 1ms/step - loss: 0.0563 - mean_squared_error: 0.0563 - val_loss: 0.0425 - val_mean_squared_error: 0.0441\n",
      "\u001b[1m7/7\u001b[0m \u001b[32m━━━━━━━━━━━━━━━━━━━━\u001b[0m\u001b[37m\u001b[0m \u001b[1m0s\u001b[0m 793us/step - loss: 0.0518 - mean_squared_error: 0.0522\n",
      "Test Loss: 0.04251987859606743, Test Mean Squared Error: 0.04413285478949547\n",
      "\u001b[1m7/7\u001b[0m \u001b[32m━━━━━━━━━━━━━━━━━━━━\u001b[0m\u001b[37m\u001b[0m \u001b[1m0s\u001b[0m 779us/step - loss: 0.0518 - mean_squared_error: 0.0522\n",
      "Test Loss: 0.04251987859606743, Test Mean Squared Error: 0.04413285478949547\n"
     ]
    }
   ],
   "source": [
    "import pandas as pd\n",
    "import numpy as np\n",
    "from ast import literal_eval\n",
    "from sklearn.model_selection import train_test_split\n",
    "from sklearn.preprocessing import StandardScaler\n",
    "from tensorflow.keras import layers, models, optimizers, regularizers\n",
    "\n",
    "# Convert embeddings to numerical format\n",
    "embeddings_successful['embedding_founder_info'] = embeddings_successful['embedding_founder_info']\n",
    "embeddings_successful['embedding_startup_info_long'] = embeddings_successful['embedding_startup_info_long']\n",
    "\n",
    "# Prepare the input features and labels\n",
    "X_embeddings = np.array(embeddings_successful['embedding_founder_info'].tolist())\n",
    "X_embeddings_2 = np.array(embeddings_successful['embedding_startup_info_long'].tolist())\n",
    "X_cosine = embeddings_successful['cosine_similarity'].values.reshape(-1, 1)\n",
    "X = np.concatenate([X_embeddings, X_embeddings_2, X_cosine], axis=1)\n",
    "\n",
    "print(X)\n",
    "\n",
    "y = embeddings_successful['FIS'].values  # Labels\n",
    "\n",
    "# Normalize features\n",
    "scaler = StandardScaler()\n",
    "X_scaled = scaler.fit_transform(X)\n",
    "\n",
    "# Split the dataset\n",
    "X_train, X_test, y_train, y_test = train_test_split(X_scaled, y, test_size=0.2, random_state=42)\n",
    "\n",
    "# Reshape input features for CNN-LSTM model\n",
    "# (samples, time steps, features per step)\n",
    "X_train_reshaped = X_train.reshape((X_train.shape[0], 1, X_train.shape[1]))\n",
    "X_test_reshaped = X_test.reshape((X_test.shape[0], 1, X_test.shape[1]))\n",
    "\n",
    "# Define a simple fully connected neural network architecture\n",
    "model = models.Sequential()\n",
    "\n",
    "# Input Dense Layer\n",
    "model.add(layers.Dense(128, activation='relu', input_dim=X_train.shape[1]))\n",
    "model.add(layers.Dropout(0.2))\n",
    "\n",
    "# Additional Dense Layers\n",
    "model.add(layers.Dense(64, activation='relu'))\n",
    "model.add(layers.Dropout(0.2))\n",
    "\n",
    "# Output Layer - predicts the continuous FIS\n",
    "model.add(layers.Dense(1, activation=None))  # For regression, no activation function is used in the output layer.\n",
    "\n",
    "# Compile the model\n",
    "model.compile(optimizer='adam', loss='mean_squared_error', metrics=['mean_squared_error'])\n",
    "\n",
    "# Print the model summary to verify the architecture\n",
    "model.summary()\n",
    "\n",
    "# Train the model with the training data\n",
    "history = model.fit(X_train, y_train, validation_data=(X_test, y_test), epochs=10, batch_size=32)\n",
    "\n",
    "# Evaluate the model with the test data\n",
    "performance = model.evaluate(X_test, y_test)\n",
    "print(f'Test Loss: {performance[0]}, Test Mean Squared Error: {performance[1]}')\n",
    "# Evaluate the model with the test data\n",
    "performance = model.evaluate(X_test, y_test)\n",
    "print(f'Test Loss: {performance[0]}, Test Mean Squared Error: {performance[1]}')"
   ]
  },
  {
   "cell_type": "code",
   "execution_count": 53,
   "id": "4c1ce5fae5314f34",
   "metadata": {
    "ExecuteTime": {
     "end_time": "2024-03-22T21:30:57.479991Z",
     "start_time": "2024-03-22T21:30:57.450017Z"
    },
    "collapsed": false
   },
   "outputs": [
    {
     "data": {
      "text/plain": [
       "float"
      ]
     },
     "execution_count": 53,
     "metadata": {},
     "output_type": "execute_result"
    }
   ],
   "source": [
    "type(embeddings_successful['embedding_startup_info_long'][1][1])"
   ]
  },
  {
   "cell_type": "code",
   "execution_count": 1,
   "id": "f7ef8381ae3b807d",
   "metadata": {
    "ExecuteTime": {
     "end_time": "2024-04-04T13:38:06.310102Z",
     "start_time": "2024-04-04T13:38:02.833678Z"
    },
    "collapsed": false
   },
   "outputs": [
    {
     "ename": "NameError",
     "evalue": "name 'embeddings_successful' is not defined",
     "output_type": "error",
     "traceback": [
      "\u001b[0;31m---------------------------------------------------------------------------\u001b[0m",
      "\u001b[0;31mNameError\u001b[0m                                 Traceback (most recent call last)",
      "Cell \u001b[0;32mIn[1], line 8\u001b[0m\n\u001b[1;32m      5\u001b[0m \u001b[38;5;28;01mfrom\u001b[39;00m \u001b[38;5;21;01mtensorflow\u001b[39;00m\u001b[38;5;21;01m.\u001b[39;00m\u001b[38;5;21;01mkeras\u001b[39;00m \u001b[38;5;28;01mimport\u001b[39;00m layers, models, optimizers\n\u001b[1;32m      7\u001b[0m \u001b[38;5;66;03m# Convert embeddings to numerical format\u001b[39;00m\n\u001b[0;32m----> 8\u001b[0m embeddings_successful[\u001b[38;5;124m'\u001b[39m\u001b[38;5;124membedding_founder_info\u001b[39m\u001b[38;5;124m'\u001b[39m] \u001b[38;5;241m=\u001b[39m \u001b[43membeddings_successful\u001b[49m[\u001b[38;5;124m'\u001b[39m\u001b[38;5;124membedding_founder_info\u001b[39m\u001b[38;5;124m'\u001b[39m]\n\u001b[1;32m      9\u001b[0m embeddings_successful[\u001b[38;5;124m'\u001b[39m\u001b[38;5;124membedding_startup_info_long\u001b[39m\u001b[38;5;124m'\u001b[39m] \u001b[38;5;241m=\u001b[39m embeddings_successful[\u001b[38;5;124m'\u001b[39m\u001b[38;5;124membedding_startup_info_long\u001b[39m\u001b[38;5;124m'\u001b[39m]\n\u001b[1;32m     11\u001b[0m \u001b[38;5;66;03m# Prepare the input features and labels\u001b[39;00m\n",
      "\u001b[0;31mNameError\u001b[0m: name 'embeddings_successful' is not defined"
     ]
    }
   ],
   "source": [
    "import pandas as pd\n",
    "import numpy as np\n",
    "from sklearn.model_selection import train_test_split\n",
    "from sklearn.preprocessing import StandardScaler\n",
    "from tensorflow.keras import layers, models, optimizers\n",
    "\n",
    "# Convert embeddings to numerical format\n",
    "embeddings_successful['embedding_founder_info'] = embeddings_successful['embedding_founder_info']\n",
    "embeddings_successful['embedding_startup_info_long'] = embeddings_successful['embedding_startup_info_long']\n",
    "\n",
    "# Prepare the input features and labels\n",
    "X_embeddings = np.array(embeddings_successful['embedding_founder_info'].tolist())\n",
    "X_embeddings_2 = np.array(embeddings_successful['embedding_startup_info_long'].tolist())\n",
    "X_cosine = embeddings_successful['cosine_similarity'].values.reshape(-1, 1)\n",
    "X = np.concatenate([X_embeddings, X_embeddings_2, X_cosine], axis=1)\n",
    "\n",
    "y = embeddings_successful['FIS'].values  # Labels\n",
    "\n",
    "# Normalize features\n",
    "#scaler = StandardScaler()\n",
    "#X_scaled = scaler.fit_transform(X)\n",
    "\n",
    "print(X)\n",
    "\n",
    "# Split the dataset\n",
    "X_train, X_test, y_train, y_test = train_test_split(X, y, test_size=0.2, random_state=42)\n",
    "\n",
    "# Define a simple fully connected neural network architecture\n",
    "model = models.Sequential()\n",
    "\n",
    "# Input layer specifying the shape of the input data\n",
    "model.add(layers.Input(shape=(X_train.shape[1],)))\n",
    "\n",
    "# Input Dense Layer without specifying input_dim or input_shape\n",
    "model.add(layers.Dense(128, activation='relu'))\n",
    "model.add(layers.Dropout(0.2))\n",
    "\n",
    "# Additional Dense Layers\n",
    "model.add(layers.Dense(64, activation='relu'))\n",
    "model.add(layers.Dropout(0.3))\n",
    "\n",
    "# Output Layer - predicts the continuous FIS\n",
    "model.add(layers.Dense(1))  # For regression, no activation function is used in the output layer.\n",
    "\n",
    "# Compile the model\n",
    "model.compile(optimizer='adam', loss='mean_squared_error', metrics=['mean_squared_error'])\n",
    "\n",
    "# Print the model summary to verify the architecture\n",
    "model.summary()\n",
    "\n",
    "# Train the model with the training data\n",
    "history = model.fit(X_train, y_train, validation_data=(X_test, y_test), epochs=15, batch_size=32)\n",
    "\n",
    "# Evaluate the model with the test data\n",
    "performance = model.evaluate(X_test, y_test)\n",
    "print(f'Test Loss: {performance[0]}, Test Mean Squared Error: {performance[1]}')"
   ]
  },
  {
   "cell_type": "code",
   "execution_count": 97,
   "id": "1bf362c73d0b5ab1",
   "metadata": {
    "ExecuteTime": {
     "end_time": "2024-03-24T18:22:40.295978Z",
     "start_time": "2024-03-24T18:22:39.759121Z"
    },
    "collapsed": false
   },
   "outputs": [
    {
     "data": {
      "image/png": "[encoded data removed]",
      "text/plain": [
       "<Figure size 640x480 with 1 Axes>"
      ]
     },
     "metadata": {},
     "output_type": "display_data"
    }
   ],
   "source": [
    "import matplotlib.pyplot as plt\n",
    "\n",
    "# Plotting\n",
    "plt.plot(history.history['loss'], label='Training Loss')\n",
    "plt.plot(history.history['val_loss'], label='Validation Loss')\n",
    "plt.title('Model Loss Over Epochs')\n",
    "plt.ylabel('Loss')\n",
    "plt.xlabel('Epoch')\n",
    "plt.legend()\n",
    "plt.savefig('plots/Model_Neural_network.png')\n",
    "plt.show()"
   ]
  },
  {
   "cell_type": "code",
   "execution_count": 98,
   "id": "3f878333ba1e32aa",
   "metadata": {
    "ExecuteTime": {
     "end_time": "2024-03-24T18:23:39.290014Z",
     "start_time": "2024-03-24T18:23:38.975350Z"
    },
    "collapsed": false
   },
   "outputs": [],
   "source": [
    "# Save the Keras model to HDF5 file\n",
    "model.save('models/neural_network.keras')"
   ]
  },
  {
   "cell_type": "code",
   "execution_count": 101,
   "id": "54adb3ee43e1ae0f",
   "metadata": {
    "ExecuteTime": {
     "end_time": "2024-03-24T18:41:45.215296Z",
     "start_time": "2024-03-24T18:41:41.395851Z"
    },
    "collapsed": false
   },
   "outputs": [
    {
     "ename": "KeyError",
     "evalue": "'categories'",
     "output_type": "error",
     "traceback": [
      "\u001b[0;31m---------------------------------------------------------------------------\u001b[0m",
      "\u001b[0;31mKeyError\u001b[0m                                  Traceback (most recent call last)",
      "File \u001b[0;32m~/Desktop/VelaInternship/venv/lib/python3.9/site-packages/pandas/core/indexes/base.py:3805\u001b[0m, in \u001b[0;36mIndex.get_loc\u001b[0;34m(self, key)\u001b[0m\n\u001b[1;32m   3804\u001b[0m \u001b[38;5;28;01mtry\u001b[39;00m:\n\u001b[0;32m-> 3805\u001b[0m     \u001b[38;5;28;01mreturn\u001b[39;00m \u001b[38;5;28;43mself\u001b[39;49m\u001b[38;5;241;43m.\u001b[39;49m\u001b[43m_engine\u001b[49m\u001b[38;5;241;43m.\u001b[39;49m\u001b[43mget_loc\u001b[49m\u001b[43m(\u001b[49m\u001b[43mcasted_key\u001b[49m\u001b[43m)\u001b[49m\n\u001b[1;32m   3806\u001b[0m \u001b[38;5;28;01mexcept\u001b[39;00m \u001b[38;5;167;01mKeyError\u001b[39;00m \u001b[38;5;28;01mas\u001b[39;00m err:\n",
      "File \u001b[0;32mindex.pyx:167\u001b[0m, in \u001b[0;36mpandas._libs.index.IndexEngine.get_loc\u001b[0;34m()\u001b[0m\n",
      "File \u001b[0;32mindex.pyx:196\u001b[0m, in \u001b[0;36mpandas._libs.index.IndexEngine.get_loc\u001b[0;34m()\u001b[0m\n",
      "File \u001b[0;32mpandas/_libs/hashtable_class_helper.pxi:7081\u001b[0m, in \u001b[0;36mpandas._libs.hashtable.PyObjectHashTable.get_item\u001b[0;34m()\u001b[0m\n",
      "File \u001b[0;32mpandas/_libs/hashtable_class_helper.pxi:7089\u001b[0m, in \u001b[0;36mpandas._libs.hashtable.PyObjectHashTable.get_item\u001b[0;34m()\u001b[0m\n",
      "\u001b[0;31mKeyError\u001b[0m: 'categories'",
      "\nThe above exception was the direct cause of the following exception:\n",
      "\u001b[0;31mKeyError\u001b[0m                                  Traceback (most recent call last)",
      "Cell \u001b[0;32mIn[101], line 1\u001b[0m\n\u001b[0;32m----> 1\u001b[0m \u001b[38;5;28mtype\u001b[39m(\u001b[43membeddings_successful\u001b[49m\u001b[43m[\u001b[49m\u001b[38;5;124;43m'\u001b[39;49m\u001b[38;5;124;43mcategories\u001b[39;49m\u001b[38;5;124;43m'\u001b[39;49m\u001b[43m]\u001b[49m)\n",
      "File \u001b[0;32m~/Desktop/VelaInternship/venv/lib/python3.9/site-packages/pandas/core/frame.py:4090\u001b[0m, in \u001b[0;36mDataFrame.__getitem__\u001b[0;34m(self, key)\u001b[0m\n\u001b[1;32m   4088\u001b[0m \u001b[38;5;28;01mif\u001b[39;00m \u001b[38;5;28mself\u001b[39m\u001b[38;5;241m.\u001b[39mcolumns\u001b[38;5;241m.\u001b[39mnlevels \u001b[38;5;241m>\u001b[39m \u001b[38;5;241m1\u001b[39m:\n\u001b[1;32m   4089\u001b[0m     \u001b[38;5;28;01mreturn\u001b[39;00m \u001b[38;5;28mself\u001b[39m\u001b[38;5;241m.\u001b[39m_getitem_multilevel(key)\n\u001b[0;32m-> 4090\u001b[0m indexer \u001b[38;5;241m=\u001b[39m \u001b[38;5;28;43mself\u001b[39;49m\u001b[38;5;241;43m.\u001b[39;49m\u001b[43mcolumns\u001b[49m\u001b[38;5;241;43m.\u001b[39;49m\u001b[43mget_loc\u001b[49m\u001b[43m(\u001b[49m\u001b[43mkey\u001b[49m\u001b[43m)\u001b[49m\n\u001b[1;32m   4091\u001b[0m \u001b[38;5;28;01mif\u001b[39;00m is_integer(indexer):\n\u001b[1;32m   4092\u001b[0m     indexer \u001b[38;5;241m=\u001b[39m [indexer]\n",
      "File \u001b[0;32m~/Desktop/VelaInternship/venv/lib/python3.9/site-packages/pandas/core/indexes/base.py:3812\u001b[0m, in \u001b[0;36mIndex.get_loc\u001b[0;34m(self, key)\u001b[0m\n\u001b[1;32m   3807\u001b[0m     \u001b[38;5;28;01mif\u001b[39;00m \u001b[38;5;28misinstance\u001b[39m(casted_key, \u001b[38;5;28mslice\u001b[39m) \u001b[38;5;129;01mor\u001b[39;00m (\n\u001b[1;32m   3808\u001b[0m         \u001b[38;5;28misinstance\u001b[39m(casted_key, abc\u001b[38;5;241m.\u001b[39mIterable)\n\u001b[1;32m   3809\u001b[0m         \u001b[38;5;129;01mand\u001b[39;00m \u001b[38;5;28many\u001b[39m(\u001b[38;5;28misinstance\u001b[39m(x, \u001b[38;5;28mslice\u001b[39m) \u001b[38;5;28;01mfor\u001b[39;00m x \u001b[38;5;129;01min\u001b[39;00m casted_key)\n\u001b[1;32m   3810\u001b[0m     ):\n\u001b[1;32m   3811\u001b[0m         \u001b[38;5;28;01mraise\u001b[39;00m InvalidIndexError(key)\n\u001b[0;32m-> 3812\u001b[0m     \u001b[38;5;28;01mraise\u001b[39;00m \u001b[38;5;167;01mKeyError\u001b[39;00m(key) \u001b[38;5;28;01mfrom\u001b[39;00m \u001b[38;5;21;01merr\u001b[39;00m\n\u001b[1;32m   3813\u001b[0m \u001b[38;5;28;01mexcept\u001b[39;00m \u001b[38;5;167;01mTypeError\u001b[39;00m:\n\u001b[1;32m   3814\u001b[0m     \u001b[38;5;66;03m# If we have a listlike key, _check_indexing_error will raise\u001b[39;00m\n\u001b[1;32m   3815\u001b[0m     \u001b[38;5;66;03m#  InvalidIndexError. Otherwise we fall through and re-raise\u001b[39;00m\n\u001b[1;32m   3816\u001b[0m     \u001b[38;5;66;03m#  the TypeError.\u001b[39;00m\n\u001b[1;32m   3817\u001b[0m     \u001b[38;5;28mself\u001b[39m\u001b[38;5;241m.\u001b[39m_check_indexing_error(key)\n",
      "\u001b[0;31mKeyError\u001b[0m: 'categories'"
     ]
    }
   ],
   "source": []
  },
  {
   "cell_type": "code",
   "execution_count": 95,
   "id": "5bce9f1485959696",
   "metadata": {
    "ExecuteTime": {
     "end_time": "2024-03-24T18:20:58.419725Z",
     "start_time": "2024-03-24T18:20:56.494365Z"
    },
    "collapsed": false
   },
   "outputs": [
    {
     "ename": "ValueError",
     "evalue": "malformed node or string: [-0.05366436392068863, 0.017745016142725945, -0.08322985470294952, -0.23583699762821198, -0.16623073816299438, -0.057098884135484695, 0.06119168549776077, 0.004736774601042271, -0.09971554577350616, 0.14665398001670837, -0.06004684790968895, -0.08695058524608612, 0.05575369670987129, 0.0861491933465004, 0.057270608842372894, -0.012206854298710823, -0.10933219641447067, 0.08666437119245529, -0.14985953271389008, -0.05191848427057266, 0.1677190214395523, -0.005284151062369347, 0.03211275488138199, 0.03202689439058304, 0.05618301406502724, 0.005262685474008322, -0.0019927367102354765, -0.006221488583832979, -0.16749006509780884, -0.013423246331512928, 0.11849091947078705, 0.11236602813005447, -0.026817871257662773, 0.027662191540002823, 0.04659498110413551, -0.03165481984615326, 0.09490721672773361, -0.024685608223080635, -0.023383352905511856, -0.04401908814907074, 0.07716219872236252, -0.024413708597421646, -0.021766265854239464, 0.016285346820950508, 0.1172315925359726, -0.0004152280162088573, -0.05360712110996246, -0.02680356055498123, -0.09502170234918594, -0.0653703510761261, 0.016829144209623337, 0.061306171119213104, 0.0022664249408990145, 0.04496358335018158, 0.1278786063194275, -0.07040764391422272, 0.14825674891471863, 0.14436429738998413, 0.0011439453810453415, -0.007298353593796492, -0.023826977238059044, 0.019519519060850143, 0.0031161108054220676, -0.12742066383361816, 0.26812148094177246, -0.010010193102061749, 0.2678925096988678, 0.3205551505088806, -0.10853081196546555, 0.11585778743028641, -0.07172421365976334, 0.021694714203476906, 0.1442498117685318, 0.14596706628799438, 0.049514319747686386, -0.08271467685699463, -0.0027869693003594875, 0.041443198919296265, 0.08964095264673233, 0.07721944153308868, 0.11894885450601578, 0.01704380288720131, -0.05478058382868767, -0.09622378647327423, -0.12982483208179474, -0.004815482534468174, 0.005480920430272818, -0.27705124020576477, 0.1538664698600769, 0.037836953997612, 0.08861059695482254, 0.15375198423862457, -0.05452299490571022, -0.051775380969047546, 0.16852042078971863, 0.05432264879345894, 0.09004165232181549, -0.03322897478938103, -0.0021590963006019592, -0.016986560076475143]",
     "output_type": "error",
     "traceback": [
      "\u001b[0;31m---------------------------------------------------------------------------\u001b[0m",
      "\u001b[0;31mValueError\u001b[0m                                Traceback (most recent call last)",
      "Cell \u001b[0;32mIn[95], line 4\u001b[0m\n\u001b[1;32m      1\u001b[0m \u001b[38;5;66;03m# Assuming 'embeddings_successful' is your original DataFrame\u001b[39;00m\n\u001b[1;32m      2\u001b[0m \n\u001b[1;32m      3\u001b[0m \u001b[38;5;66;03m# Extract the first row for founder and startup embeddings and cosine similarity\u001b[39;00m\n\u001b[0;32m----> 4\u001b[0m first_founder_embedding \u001b[38;5;241m=\u001b[39m np\u001b[38;5;241m.\u001b[39marray(\u001b[43mliteral_eval\u001b[49m\u001b[43m(\u001b[49m\u001b[43membeddings_successful\u001b[49m\u001b[38;5;241;43m.\u001b[39;49m\u001b[43miloc\u001b[49m\u001b[43m[\u001b[49m\u001b[38;5;241;43m0\u001b[39;49m\u001b[43m]\u001b[49m\u001b[43m[\u001b[49m\u001b[38;5;124;43m'\u001b[39;49m\u001b[38;5;124;43membedding_founder_info\u001b[39;49m\u001b[38;5;124;43m'\u001b[39;49m\u001b[43m]\u001b[49m\u001b[43m)\u001b[49m)\n\u001b[1;32m      5\u001b[0m first_startup_embedding \u001b[38;5;241m=\u001b[39m np\u001b[38;5;241m.\u001b[39marray(literal_eval(embeddings_successful\u001b[38;5;241m.\u001b[39miloc[\u001b[38;5;241m0\u001b[39m][\u001b[38;5;124m'\u001b[39m\u001b[38;5;124membedding_startup_info_long\u001b[39m\u001b[38;5;124m'\u001b[39m]))\n\u001b[1;32m      6\u001b[0m first_cosine_similarity \u001b[38;5;241m=\u001b[39m np\u001b[38;5;241m.\u001b[39marray([embeddings_successful\u001b[38;5;241m.\u001b[39miloc[\u001b[38;5;241m0\u001b[39m][\u001b[38;5;124m'\u001b[39m\u001b[38;5;124mcosine_similarity\u001b[39m\u001b[38;5;124m'\u001b[39m]])\u001b[38;5;241m.\u001b[39mreshape(\u001b[38;5;241m-\u001b[39m\u001b[38;5;241m1\u001b[39m, \u001b[38;5;241m1\u001b[39m)\n",
      "File \u001b[0;32m/Library/Frameworks/Python.framework/Versions/3.9/lib/python3.9/ast.py:105\u001b[0m, in \u001b[0;36mliteral_eval\u001b[0;34m(node_or_string)\u001b[0m\n\u001b[1;32m    103\u001b[0m                 \u001b[38;5;28;01mreturn\u001b[39;00m left \u001b[38;5;241m-\u001b[39m right\n\u001b[1;32m    104\u001b[0m     \u001b[38;5;28;01mreturn\u001b[39;00m _convert_signed_num(node)\n\u001b[0;32m--> 105\u001b[0m \u001b[38;5;28;01mreturn\u001b[39;00m \u001b[43m_convert\u001b[49m\u001b[43m(\u001b[49m\u001b[43mnode_or_string\u001b[49m\u001b[43m)\u001b[49m\n",
      "File \u001b[0;32m/Library/Frameworks/Python.framework/Versions/3.9/lib/python3.9/ast.py:104\u001b[0m, in \u001b[0;36mliteral_eval.<locals>._convert\u001b[0;34m(node)\u001b[0m\n\u001b[1;32m    102\u001b[0m         \u001b[38;5;28;01melse\u001b[39;00m:\n\u001b[1;32m    103\u001b[0m             \u001b[38;5;28;01mreturn\u001b[39;00m left \u001b[38;5;241m-\u001b[39m right\n\u001b[0;32m--> 104\u001b[0m \u001b[38;5;28;01mreturn\u001b[39;00m \u001b[43m_convert_signed_num\u001b[49m\u001b[43m(\u001b[49m\u001b[43mnode\u001b[49m\u001b[43m)\u001b[49m\n",
      "File \u001b[0;32m/Library/Frameworks/Python.framework/Versions/3.9/lib/python3.9/ast.py:78\u001b[0m, in \u001b[0;36mliteral_eval.<locals>._convert_signed_num\u001b[0;34m(node)\u001b[0m\n\u001b[1;32m     76\u001b[0m     \u001b[38;5;28;01melse\u001b[39;00m:\n\u001b[1;32m     77\u001b[0m         \u001b[38;5;28;01mreturn\u001b[39;00m \u001b[38;5;241m-\u001b[39m operand\n\u001b[0;32m---> 78\u001b[0m \u001b[38;5;28;01mreturn\u001b[39;00m \u001b[43m_convert_num\u001b[49m\u001b[43m(\u001b[49m\u001b[43mnode\u001b[49m\u001b[43m)\u001b[49m\n",
      "File \u001b[0;32m/Library/Frameworks/Python.framework/Versions/3.9/lib/python3.9/ast.py:69\u001b[0m, in \u001b[0;36mliteral_eval.<locals>._convert_num\u001b[0;34m(node)\u001b[0m\n\u001b[1;32m     67\u001b[0m \u001b[38;5;28;01mdef\u001b[39;00m \u001b[38;5;21m_convert_num\u001b[39m(node):\n\u001b[1;32m     68\u001b[0m     \u001b[38;5;28;01mif\u001b[39;00m \u001b[38;5;129;01mnot\u001b[39;00m \u001b[38;5;28misinstance\u001b[39m(node, Constant) \u001b[38;5;129;01mor\u001b[39;00m \u001b[38;5;28mtype\u001b[39m(node\u001b[38;5;241m.\u001b[39mvalue) \u001b[38;5;129;01mnot\u001b[39;00m \u001b[38;5;129;01min\u001b[39;00m (\u001b[38;5;28mint\u001b[39m, \u001b[38;5;28mfloat\u001b[39m, \u001b[38;5;28mcomplex\u001b[39m):\n\u001b[0;32m---> 69\u001b[0m         \u001b[43m_raise_malformed_node\u001b[49m\u001b[43m(\u001b[49m\u001b[43mnode\u001b[49m\u001b[43m)\u001b[49m\n\u001b[1;32m     70\u001b[0m     \u001b[38;5;28;01mreturn\u001b[39;00m node\u001b[38;5;241m.\u001b[39mvalue\n",
      "File \u001b[0;32m/Library/Frameworks/Python.framework/Versions/3.9/lib/python3.9/ast.py:66\u001b[0m, in \u001b[0;36mliteral_eval.<locals>._raise_malformed_node\u001b[0;34m(node)\u001b[0m\n\u001b[1;32m     65\u001b[0m \u001b[38;5;28;01mdef\u001b[39;00m \u001b[38;5;21m_raise_malformed_node\u001b[39m(node):\n\u001b[0;32m---> 66\u001b[0m     \u001b[38;5;28;01mraise\u001b[39;00m \u001b[38;5;167;01mValueError\u001b[39;00m(\u001b[38;5;124mf\u001b[39m\u001b[38;5;124m'\u001b[39m\u001b[38;5;124mmalformed node or string: \u001b[39m\u001b[38;5;132;01m{\u001b[39;00mnode\u001b[38;5;132;01m!r}\u001b[39;00m\u001b[38;5;124m'\u001b[39m)\n",
      "\u001b[0;31mValueError\u001b[0m: malformed node or string: [-0.05366436392068863, 0.017745016142725945, -0.08322985470294952, -0.23583699762821198, -0.16623073816299438, -0.057098884135484695, 0.06119168549776077, 0.004736774601042271, -0.09971554577350616, 0.14665398001670837, -0.06004684790968895, -0.08695058524608612, 0.05575369670987129, 0.0861491933465004, 0.057270608842372894, -0.012206854298710823, -0.10933219641447067, 0.08666437119245529, -0.14985953271389008, -0.05191848427057266, 0.1677190214395523, -0.005284151062369347, 0.03211275488138199, 0.03202689439058304, 0.05618301406502724, 0.005262685474008322, -0.0019927367102354765, -0.006221488583832979, -0.16749006509780884, -0.013423246331512928, 0.11849091947078705, 0.11236602813005447, -0.026817871257662773, 0.027662191540002823, 0.04659498110413551, -0.03165481984615326, 0.09490721672773361, -0.024685608223080635, -0.023383352905511856, -0.04401908814907074, 0.07716219872236252, -0.024413708597421646, -0.021766265854239464, 0.016285346820950508, 0.1172315925359726, -0.0004152280162088573, -0.05360712110996246, -0.02680356055498123, -0.09502170234918594, -0.0653703510761261, 0.016829144209623337, 0.061306171119213104, 0.0022664249408990145, 0.04496358335018158, 0.1278786063194275, -0.07040764391422272, 0.14825674891471863, 0.14436429738998413, 0.0011439453810453415, -0.007298353593796492, -0.023826977238059044, 0.019519519060850143, 0.0031161108054220676, -0.12742066383361816, 0.26812148094177246, -0.010010193102061749, 0.2678925096988678, 0.3205551505088806, -0.10853081196546555, 0.11585778743028641, -0.07172421365976334, 0.021694714203476906, 0.1442498117685318, 0.14596706628799438, 0.049514319747686386, -0.08271467685699463, -0.0027869693003594875, 0.041443198919296265, 0.08964095264673233, 0.07721944153308868, 0.11894885450601578, 0.01704380288720131, -0.05478058382868767, -0.09622378647327423, -0.12982483208179474, -0.004815482534468174, 0.005480920430272818, -0.27705124020576477, 0.1538664698600769, 0.037836953997612, 0.08861059695482254, 0.15375198423862457, -0.05452299490571022, -0.051775380969047546, 0.16852042078971863, 0.05432264879345894, 0.09004165232181549, -0.03322897478938103, -0.0021590963006019592, -0.016986560076475143]"
     ]
    }
   ],
   "source": [
    "# Assuming 'embeddings_successful' is your original DataFrame\n",
    "\n",
    "# Extract the first row for founder and startup embeddings and cosine similarity\n",
    "first_founder_embedding = np.array(literal_eval(embeddings_successful.iloc[0]['embedding_founder_info']))\n",
    "first_startup_embedding = np.array(literal_eval(embeddings_successful.iloc[0]['embedding_startup_info_long']))\n",
    "first_cosine_similarity = np.array([embeddings_successful.iloc[0]['cosine_similarity']]).reshape(-1, 1)\n",
    "\n",
    "# Combine into a single array\n",
    "first_instance_features = np.concatenate([first_founder_embedding, first_startup_embedding, first_cosine_similarity], axis=1)\n",
    "\n",
    "# Note: Ensure that 'literal_eval' is necessary and correct based on how your embeddings are stored in the DataFrame.\n",
    "# If embeddings are already in an appropriate numerical format, you might not need 'literal_eval'.\n"
   ]
  },
  {
   "cell_type": "code",
   "execution_count": 50,
   "id": "abe87c301a70a895",
   "metadata": {
    "ExecuteTime": {
     "end_time": "2024-03-22T21:30:26.319846Z",
     "start_time": "2024-03-22T21:30:26.316588Z"
    },
    "collapsed": false
   },
   "outputs": [],
   "source": []
  },
  {
   "cell_type": "code",
   "execution_count": 50,
   "id": "69a338bbdcbf55b7",
   "metadata": {
    "ExecuteTime": {
     "end_time": "2024-03-22T21:30:26.340639Z",
     "start_time": "2024-03-22T21:30:26.338523Z"
    },
    "collapsed": false
   },
   "outputs": [],
   "source": []
  },
  {
   "cell_type": "code",
   "execution_count": 50,
   "id": "54e4f243da4cfe77",
   "metadata": {
    "ExecuteTime": {
     "end_time": "2024-03-22T21:30:26.373864Z",
     "start_time": "2024-03-22T21:30:26.372196Z"
    },
    "collapsed": false
   },
   "outputs": [],
   "source": []
  },
  {
   "cell_type": "code",
   "execution_count": 50,
   "id": "c2c05cc0d73b6b5b",
   "metadata": {
    "ExecuteTime": {
     "end_time": "2024-03-22T21:30:26.387700Z",
     "start_time": "2024-03-22T21:30:26.385974Z"
    },
    "collapsed": false
   },
   "outputs": [],
   "source": []
  },
  {
   "cell_type": "code",
   "execution_count": 50,
   "id": "2a32039d0c4565b9",
   "metadata": {
    "ExecuteTime": {
     "end_time": "2024-03-22T21:30:26.392137Z",
     "start_time": "2024-03-22T21:30:26.390423Z"
    },
    "collapsed": false
   },
   "outputs": [],
   "source": []
  },
  {
   "cell_type": "code",
   "execution_count": null,
   "id": "41694522de023afb",
   "metadata": {
    "collapsed": false
   },
   "outputs": [],
   "source": []
  }
 ],
 "metadata": {
  "kernelspec": {
   "display_name": "Python 3",
   "language": "python",
   "name": "python3"
  },
  "language_info": {
   "codemirror_mode": {
    "name": "ipython",
    "version": 2
   },
   "file_extension": ".py",
   "mimetype": "text/x-python",
   "name": "python",
   "nbconvert_exporter": "python",
   "pygments_lexer": "ipython2",
   "version": "2.7.6"
  }
 },
 "nbformat": 4,
 "nbformat_minor": 5
}
