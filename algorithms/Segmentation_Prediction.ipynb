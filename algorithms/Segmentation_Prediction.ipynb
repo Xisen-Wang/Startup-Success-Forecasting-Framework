{
 "cells": [
  {
   "cell_type": "code",
   "execution_count": 2,
   "id": "initial_id",
   "metadata": {
    "collapsed": true,
    "ExecuteTime": {
     "end_time": "2024-03-13T22:59:42.328985Z",
     "start_time": "2024-03-13T22:59:41.841084Z"
    }
   },
   "outputs": [],
   "source": [
    "import pandas as pd\n",
    "import numpy as np\n",
    "import os"
   ]
  },
  {
   "cell_type": "code",
   "outputs": [],
   "source": [
    "DATA_PATH = os.path.join(os.getcwd(), 'data', 'successful')\n",
    "segmented_enriched_linkedin_profiles = pd.read_csv(os.path.join(DATA_PATH, 'success_enriched_linkedin_profiles.csv'))\n",
    "successful_profiles = pd.read_csv(os.path.join(DATA_PATH, 'successful_profiles.csv'))\n",
    "segmented_successful_profiles = pd.read_csv(os.path.join(DATA_PATH, 'segmented_successful_profiles_gpt-3.5-turbo_4.csv'))\n",
    "long_company_descriptions = pd.read_csv(os.path.join(DATA_PATH, \"Moneyball 1.1_ Success - Long company descriptions.csv\"))"
   ],
   "metadata": {
    "collapsed": false,
    "ExecuteTime": {
     "end_time": "2024-03-13T23:01:13.688531Z",
     "start_time": "2024-03-13T23:01:07.702408Z"
    }
   },
   "id": "eabc4f48d634bd77",
   "execution_count": 11
  },
  {
   "cell_type": "code",
   "outputs": [
    {
     "name": "stdout",
     "output_type": "stream",
     "text": [
      "      org_name                              org_uuid  \\\n",
      "0  10X Banking  a2323b6c-29b9-4750-905c-cdcbd9ce92b8   \n",
      "\n",
      "                                    long_description  \n",
      "0  10x Banking (10x), a financial services techno...  \n",
      "0    Ryan Johns is known for their contribution as ...\n",
      "Name: paragraph, dtype: object\n"
     ]
    }
   ],
   "source": [
    "#segmented_enriched_linkedin_profiles.head()\n",
    "print(long_company_descriptions.head()[:1])\n",
    "print(segmented_successful_profiles['paragraph'][:1])"
   ],
   "metadata": {
    "collapsed": false,
    "ExecuteTime": {
     "end_time": "2024-03-13T23:02:29.717396Z",
     "start_time": "2024-03-13T23:02:29.711397Z"
    }
   },
   "id": "98db905156e9db65",
   "execution_count": 21
  },
  {
   "cell_type": "code",
   "outputs": [],
   "source": [
    "import pandas as pd\n",
    "from gensim.models import Word2Vec, KeyedVectors\n",
    "from sklearn.neighbors import KNeighborsClassifier\n",
    "from sklearn.preprocessing import LabelEncoder\n",
    "from sklearn.model_selection import train_test_split\n",
    "import numpy as np"
   ],
   "metadata": {
    "collapsed": false,
    "ExecuteTime": {
     "end_time": "2024-03-13T19:27:35.701573Z",
     "start_time": "2024-03-13T19:27:33.612143Z"
    }
   },
   "id": "2a7402596e640baa",
   "execution_count": 16
  },
  {
   "cell_type": "code",
   "outputs": [
    {
     "name": "stdout",
     "output_type": "stream",
     "text": [
      "Collecting gensim\r\n",
      "  Obtaining dependency information for gensim from https://files.pythonhosted.org/packages/db/af/18b551ae8d26b8731dbe5923565fdf96502bb9aca88a37f241d510c62dc2/gensim-4.3.2-cp39-cp39-macosx_11_0_arm64.whl.metadata\r\n",
      "  Downloading gensim-4.3.2-cp39-cp39-macosx_11_0_arm64.whl.metadata (8.5 kB)\r\n",
      "Requirement already satisfied: numpy>=1.18.5 in ./venv/lib/python3.9/site-packages (from gensim) (1.26.4)\r\n",
      "Requirement already satisfied: scipy>=1.7.0 in ./venv/lib/python3.9/site-packages (from gensim) (1.12.0)\r\n",
      "Collecting smart-open>=1.8.1 (from gensim)\r\n",
      "  Obtaining dependency information for smart-open>=1.8.1 from https://files.pythonhosted.org/packages/ad/08/dcd19850b79f72e3717c98b2088f8a24b549b29ce66849cd6b7f44679683/smart_open-7.0.1-py3-none-any.whl.metadata\r\n",
      "  Downloading smart_open-7.0.1-py3-none-any.whl.metadata (23 kB)\r\n",
      "Requirement already satisfied: wrapt in ./venv/lib/python3.9/site-packages (from smart-open>=1.8.1->gensim) (1.16.0)\r\n",
      "Downloading gensim-4.3.2-cp39-cp39-macosx_11_0_arm64.whl (24.0 MB)\r\n",
      "\u001B[2K   \u001B[90m━━━━━━━━━━━━━━━━━━━━━━━━━━━━━━━━━━━━━━━━\u001B[0m \u001B[32m24.0/24.0 MB\u001B[0m \u001B[31m3.6 MB/s\u001B[0m eta \u001B[36m0:00:00\u001B[0m00:01\u001B[0m00:01\u001B[0m\r\n",
      "\u001B[?25hDownloading smart_open-7.0.1-py3-none-any.whl (60 kB)\r\n",
      "\u001B[2K   \u001B[90m━━━━━━━━━━━━━━━━━━━━━━━━━━━━━━━━━━━━━━━━\u001B[0m \u001B[32m60.8/60.8 kB\u001B[0m \u001B[31m2.3 MB/s\u001B[0m eta \u001B[36m0:00:00\u001B[0m\r\n",
      "\u001B[?25hInstalling collected packages: smart-open, gensim\r\n",
      "Successfully installed gensim-4.3.2 smart-open-7.0.1\r\n",
      "\r\n",
      "\u001B[1m[\u001B[0m\u001B[34;49mnotice\u001B[0m\u001B[1;39;49m]\u001B[0m\u001B[39;49m A new release of pip is available: \u001B[0m\u001B[31;49m23.2.1\u001B[0m\u001B[39;49m -> \u001B[0m\u001B[32;49m24.0\u001B[0m\r\n",
      "\u001B[1m[\u001B[0m\u001B[34;49mnotice\u001B[0m\u001B[1;39;49m]\u001B[0m\u001B[39;49m To update, run: \u001B[0m\u001B[32;49mpip install --upgrade pip\u001B[0m\r\n"
     ]
    }
   ],
   "source": [
    "!pip install gensim"
   ],
   "metadata": {
    "collapsed": false,
    "ExecuteTime": {
     "end_time": "2024-03-13T19:26:57.573763Z",
     "start_time": "2024-03-13T19:26:48.821703Z"
    }
   },
   "id": "157040e206134410",
   "execution_count": 15
  },
  {
   "cell_type": "code",
   "outputs": [],
   "source": [
    "def load_data_and_pretrained_model(dataset_path, word2vec_model_path):\n",
    "    # Load dataset\n",
    "    df = pd.read_csv(dataset_path)\n",
    "    # Load pre-trained Word2Vec model\n",
    "    model = KeyedVectors.load_word2vec_format(word2vec_model_path, binary=True)\n",
    "    return df, model\n",
    "\n",
    "def document_vector(doc, model):\n",
    "    # Remove out-of-vocabulary words\n",
    "    doc = [word for word in doc if word in model.key_to_index]\n",
    "    if not doc:\n",
    "        return np.zeros(model.vector_size)\n",
    "    return np.mean(model[doc], axis=0)\n",
    "\n",
    "def prepare_embeddings(df, model):\n",
    "    # Tokenize the paragraphs\n",
    "    X = df['paragraph'].apply(lambda x: x.split())  # Simple tokenization\n",
    "    # Compute document vectors\n",
    "    X = np.array([document_vector(doc, model) for doc in X])\n",
    "    return X\n",
    "\n",
    "def encode_labels(df):\n",
    "    # Encode segment labels to integers\n",
    "    le = LabelEncoder()\n",
    "    y = le.fit_transform(df['segment'])\n",
    "    return y, le\n",
    "\n",
    "def train_knn_classifier(X, y):\n",
    "    # Split the data\n",
    "    X_train, X_test, y_train, y_test = train_test_split(X, y, test_size=0.2, random_state=42)\n",
    "    # Train KNN classifier\n",
    "    knn = KNeighborsClassifier(n_neighbors=5)\n",
    "    knn.fit(X_train, y_train)\n",
    "    return knn\n",
    "\n",
    "def predict_level(description, model, knn_classifier, label_encoder):\n",
    "    # Convert input description to embeddings\n",
    "    embedding = document_vector(description.split(), model)\n",
    "    # Reshape for a single sample\n",
    "    embedding = embedding.reshape(1, -1)\n",
    "    # Predict\n",
    "    prediction = knn_classifier.predict(embedding)\n",
    "    # Decode label\n",
    "    level = label_encoder.inverse_transform(prediction)[0]\n",
    "    return level"
   ],
   "metadata": {
    "collapsed": false,
    "ExecuteTime": {
     "end_time": "2024-03-13T19:56:14.946928Z",
     "start_time": "2024-03-13T19:56:14.884209Z"
    }
   },
   "id": "6d1a5179aee761fd",
   "execution_count": 18
  },
  {
   "cell_type": "code",
   "outputs": [],
   "source": [
    "# Example usage\n",
    "dataset_path = os.path.join(DATA_PATH, 'segmented_successful_profiles_gpt-3.5-turbo_4.csv')\n",
    "word2vec_model_path = 'GoogleNews-vectors-negative300.bin'  # Path to Google's pre-trained Word2Vec model\n",
    "df, w2v_model = load_data_and_pretrained_model(dataset_path, word2vec_model_path)\n",
    "X = prepare_embeddings(df, w2v_model)\n",
    "y, le = encode_labels(df)\n",
    "knn_classifier = train_knn_classifier(X, y)\n",
    "\n",
    "# Predict the level for a new founder description\n",
    "new_description = \"Your founder description here.\"\n",
    "predicted_level = predict_level(new_description, w2v_model, knn_classifier, le)\n",
    "print(f\"Predicted level: {predicted_level}\")"
   ],
   "metadata": {
    "collapsed": false
   },
   "id": "8015deabe2fe32d7"
  }
 ],
 "metadata": {
  "kernelspec": {
   "display_name": "Python 3",
   "language": "python",
   "name": "python3"
  },
  "language_info": {
   "codemirror_mode": {
    "name": "ipython",
    "version": 2
   },
   "file_extension": ".py",
   "mimetype": "text/x-python",
   "name": "python",
   "nbconvert_exporter": "python",
   "pygments_lexer": "ipython2",
   "version": "2.7.6"
  }
 },
 "nbformat": 4,
 "nbformat_minor": 5
}
