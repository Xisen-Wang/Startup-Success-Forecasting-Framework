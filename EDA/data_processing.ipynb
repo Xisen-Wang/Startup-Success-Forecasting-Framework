{
 "cells": [
  {
   "cell_type": "code",
   "execution_count": 90,
   "id": "initial_id",
   "metadata": {
    "collapsed": true,
    "ExecuteTime": {
     "end_time": "2024-03-15T01:22:07.376805Z",
     "start_time": "2024-03-15T01:22:07.255918Z"
    }
   },
   "outputs": [
    {
     "data": {
      "text/plain": "  segment\n0      L4\n1      L4\n2      L4\n3      L4\n4      L4",
      "text/html": "<div>\n<style scoped>\n    .dataframe tbody tr th:only-of-type {\n        vertical-align: middle;\n    }\n\n    .dataframe tbody tr th {\n        vertical-align: top;\n    }\n\n    .dataframe thead th {\n        text-align: right;\n    }\n</style>\n<table border=\"1\" class=\"dataframe\">\n  <thead>\n    <tr style=\"text-align: right;\">\n      <th></th>\n      <th>segment</th>\n    </tr>\n  </thead>\n  <tbody>\n    <tr>\n      <th>0</th>\n      <td>L4</td>\n    </tr>\n    <tr>\n      <th>1</th>\n      <td>L4</td>\n    </tr>\n    <tr>\n      <th>2</th>\n      <td>L4</td>\n    </tr>\n    <tr>\n      <th>3</th>\n      <td>L4</td>\n    </tr>\n    <tr>\n      <th>4</th>\n      <td>L4</td>\n    </tr>\n  </tbody>\n</table>\n</div>"
     },
     "execution_count": 90,
     "metadata": {},
     "output_type": "execute_result"
    }
   ],
   "source": [
    "import pandas as pd\n",
    "import os \n",
    "\n",
    "results = pd.read_excel(os.path.join('/Users/wangxiang/Desktop/VelaInternship/data/successful','Previous Results.xlsx'))\n",
    "\n",
    "results.head()\n",
    "\n",
    "results.value_counts()\n",
    "\n",
    "clean_results = results.map(lambda x: x.strip())\n",
    "clean_results = clean_results.map(lambda x: x.strip(\"'\"))\n",
    "clean_results.value_counts()\n",
    "\n",
    "clean_results.head()"
   ]
  },
  {
   "cell_type": "code",
   "outputs": [
    {
     "data": {
      "text/plain": "                               founder_linkedin_url  \\\n0        https://www.linkedin.com/in/ryan-johns-sf/   \n1                http://www.linkedin.com/in/smakani   \n2  https://www.linkedin.com/in/obaid-khan-b77b4357/   \n3            https://www.linkedin.com/in/alexbuttle   \n4             http://www.linkedin.com/in/jonesharry   \n\n                                         json_string  \\\n0  {\"version\": 1, \"hits\": 2, \"results\": 1, \"kgver...   \n1  {\"version\": 1, \"hits\": 1, \"results\": 1, \"kgver...   \n2  {\"version\": 1, \"hits\": 1, \"results\": 1, \"kgver...   \n3  {\"version\": 1, \"hits\": 1, \"results\": 1, \"kgver...   \n4  {\"version\": 1, \"hits\": 1, \"results\": 1, \"kgver...   \n\n                                     structured_info  \\\n0  {'name': 'Ryan Johns', 'gender': 'Male', 'birt...   \n1  {'name': 'Shoaib Makani', 'gender': 'Male', 'b...   \n2  {'name': 'Obaid Khan', 'gender': 'Male', 'birt...   \n3  {'name': 'Alex Buttle', 'gender': 'Male', 'bir...   \n4  {'name': 'Harry Jones', 'gender': 'Male', 'bir...   \n\n                                           paragraph segment  \n0  Ryan Johns is known for their contribution as ...      L4  \n1  Shoaib Makani is known for their contribution ...      L4  \n2  Obaid Khan is known for their contribution as ...      L4  \n3  Alex Buttle is known for their contribution as...      L4  \n4  Harry Jones is known for their contribution as...      L4  ",
      "text/html": "<div>\n<style scoped>\n    .dataframe tbody tr th:only-of-type {\n        vertical-align: middle;\n    }\n\n    .dataframe tbody tr th {\n        vertical-align: top;\n    }\n\n    .dataframe thead th {\n        text-align: right;\n    }\n</style>\n<table border=\"1\" class=\"dataframe\">\n  <thead>\n    <tr style=\"text-align: right;\">\n      <th></th>\n      <th>founder_linkedin_url</th>\n      <th>json_string</th>\n      <th>structured_info</th>\n      <th>paragraph</th>\n      <th>segment</th>\n    </tr>\n  </thead>\n  <tbody>\n    <tr>\n      <th>0</th>\n      <td>https://www.linkedin.com/in/ryan-johns-sf/</td>\n      <td>{\"version\": 1, \"hits\": 2, \"results\": 1, \"kgver...</td>\n      <td>{'name': 'Ryan Johns', 'gender': 'Male', 'birt...</td>\n      <td>Ryan Johns is known for their contribution as ...</td>\n      <td>L4</td>\n    </tr>\n    <tr>\n      <th>1</th>\n      <td>http://www.linkedin.com/in/smakani</td>\n      <td>{\"version\": 1, \"hits\": 1, \"results\": 1, \"kgver...</td>\n      <td>{'name': 'Shoaib Makani', 'gender': 'Male', 'b...</td>\n      <td>Shoaib Makani is known for their contribution ...</td>\n      <td>L4</td>\n    </tr>\n    <tr>\n      <th>2</th>\n      <td>https://www.linkedin.com/in/obaid-khan-b77b4357/</td>\n      <td>{\"version\": 1, \"hits\": 1, \"results\": 1, \"kgver...</td>\n      <td>{'name': 'Obaid Khan', 'gender': 'Male', 'birt...</td>\n      <td>Obaid Khan is known for their contribution as ...</td>\n      <td>L4</td>\n    </tr>\n    <tr>\n      <th>3</th>\n      <td>https://www.linkedin.com/in/alexbuttle</td>\n      <td>{\"version\": 1, \"hits\": 1, \"results\": 1, \"kgver...</td>\n      <td>{'name': 'Alex Buttle', 'gender': 'Male', 'bir...</td>\n      <td>Alex Buttle is known for their contribution as...</td>\n      <td>L4</td>\n    </tr>\n    <tr>\n      <th>4</th>\n      <td>http://www.linkedin.com/in/jonesharry</td>\n      <td>{\"version\": 1, \"hits\": 1, \"results\": 1, \"kgver...</td>\n      <td>{'name': 'Harry Jones', 'gender': 'Male', 'bir...</td>\n      <td>Harry Jones is known for their contribution as...</td>\n      <td>L4</td>\n    </tr>\n  </tbody>\n</table>\n</div>"
     },
     "execution_count": 91,
     "metadata": {},
     "output_type": "execute_result"
    }
   ],
   "source": [
    "path = '/Users/wangxiang/Desktop/VelaInternship/data/successful/successful_profiles.csv'\n",
    "original_data = pd.read_csv(path)\n",
    "original_data.head()\n",
    "original_data['segment'] = clean_results\n",
    "original_data.head()"
   ],
   "metadata": {
    "collapsed": false,
    "ExecuteTime": {
     "end_time": "2024-03-15T01:23:54.685088Z",
     "start_time": "2024-03-15T01:23:51.630227Z"
    }
   },
   "id": "47064ab1b79b9c09",
   "execution_count": 91
  },
  {
   "cell_type": "markdown",
   "source": [
    "Now that the first 800+ data are safe"
   ],
   "metadata": {
    "collapsed": false
   },
   "id": "d639291a7b21a438"
  },
  {
   "cell_type": "code",
   "outputs": [
    {
     "name": "stdout",
     "output_type": "stream",
     "text": [
      "https://www.linkedin.com/in/sanket-hattimattur-7162334/\n",
      "(153, 5)\n",
      "https://www.linkedin.com/in/amitavasaha73\n",
      "[848]\n"
     ]
    }
   ],
   "source": [
    "#Check Original_Data\n",
    "\n",
    "original_data.shape\n",
    "\n",
    "print(original_data['founder_linkedin_url'][847])\n",
    "\n",
    "#Load the last 152 data \n",
    "\n",
    "the_other_data = pd.read_csv('/Users/wangxiang/Desktop/VelaInternship/data/successful/segmented_successful_profiles_gpt-4_8.csv')\n",
    "\n",
    "print(the_other_data.shape)\n",
    "print(the_other_data['founder_linkedin_url'][0])\n",
    "\n",
    "# To find indices where the value in 'column_name' is 'value2'\n",
    "indices = original_data.index[original_data['founder_linkedin_url'] == the_other_data['founder_linkedin_url'][0]].tolist()\n",
    "\n",
    "print(indices)\n"
   ],
   "metadata": {
    "collapsed": false,
    "ExecuteTime": {
     "end_time": "2024-03-15T01:24:37.266509Z",
     "start_time": "2024-03-15T01:24:37.047217Z"
    }
   },
   "id": "f8154873118becfb",
   "execution_count": 92
  },
  {
   "cell_type": "code",
   "outputs": [
    {
     "data": {
      "text/plain": "                               founder_linkedin_url  \\\n0        https://www.linkedin.com/in/ryan-johns-sf/   \n1                http://www.linkedin.com/in/smakani   \n2  https://www.linkedin.com/in/obaid-khan-b77b4357/   \n3            https://www.linkedin.com/in/alexbuttle   \n4             http://www.linkedin.com/in/jonesharry   \n\n                                         json_string  \\\n0  {\"version\": 1, \"hits\": 2, \"results\": 1, \"kgver...   \n1  {\"version\": 1, \"hits\": 1, \"results\": 1, \"kgver...   \n2  {\"version\": 1, \"hits\": 1, \"results\": 1, \"kgver...   \n3  {\"version\": 1, \"hits\": 1, \"results\": 1, \"kgver...   \n4  {\"version\": 1, \"hits\": 1, \"results\": 1, \"kgver...   \n\n                                     structured_info  \\\n0  {'name': 'Ryan Johns', 'gender': 'Male', 'birt...   \n1  {'name': 'Shoaib Makani', 'gender': 'Male', 'b...   \n2  {'name': 'Obaid Khan', 'gender': 'Male', 'birt...   \n3  {'name': 'Alex Buttle', 'gender': 'Male', 'bir...   \n4  {'name': 'Harry Jones', 'gender': 'Male', 'bir...   \n\n                                           paragraph segment  \n0  Ryan Johns is known for their contribution as ...      L4  \n1  Shoaib Makani is known for their contribution ...      L4  \n2  Obaid Khan is known for their contribution as ...      L4  \n3  Alex Buttle is known for their contribution as...      L4  \n4  Harry Jones is known for their contribution as...      L3  ",
      "text/html": "<div>\n<style scoped>\n    .dataframe tbody tr th:only-of-type {\n        vertical-align: middle;\n    }\n\n    .dataframe tbody tr th {\n        vertical-align: top;\n    }\n\n    .dataframe thead th {\n        text-align: right;\n    }\n</style>\n<table border=\"1\" class=\"dataframe\">\n  <thead>\n    <tr style=\"text-align: right;\">\n      <th></th>\n      <th>founder_linkedin_url</th>\n      <th>json_string</th>\n      <th>structured_info</th>\n      <th>paragraph</th>\n      <th>segment</th>\n    </tr>\n  </thead>\n  <tbody>\n    <tr>\n      <th>0</th>\n      <td>https://www.linkedin.com/in/ryan-johns-sf/</td>\n      <td>{\"version\": 1, \"hits\": 2, \"results\": 1, \"kgver...</td>\n      <td>{'name': 'Ryan Johns', 'gender': 'Male', 'birt...</td>\n      <td>Ryan Johns is known for their contribution as ...</td>\n      <td>L4</td>\n    </tr>\n    <tr>\n      <th>1</th>\n      <td>http://www.linkedin.com/in/smakani</td>\n      <td>{\"version\": 1, \"hits\": 1, \"results\": 1, \"kgver...</td>\n      <td>{'name': 'Shoaib Makani', 'gender': 'Male', 'b...</td>\n      <td>Shoaib Makani is known for their contribution ...</td>\n      <td>L4</td>\n    </tr>\n    <tr>\n      <th>2</th>\n      <td>https://www.linkedin.com/in/obaid-khan-b77b4357/</td>\n      <td>{\"version\": 1, \"hits\": 1, \"results\": 1, \"kgver...</td>\n      <td>{'name': 'Obaid Khan', 'gender': 'Male', 'birt...</td>\n      <td>Obaid Khan is known for their contribution as ...</td>\n      <td>L4</td>\n    </tr>\n    <tr>\n      <th>3</th>\n      <td>https://www.linkedin.com/in/alexbuttle</td>\n      <td>{\"version\": 1, \"hits\": 1, \"results\": 1, \"kgver...</td>\n      <td>{'name': 'Alex Buttle', 'gender': 'Male', 'bir...</td>\n      <td>Alex Buttle is known for their contribution as...</td>\n      <td>L4</td>\n    </tr>\n    <tr>\n      <th>4</th>\n      <td>http://www.linkedin.com/in/jonesharry</td>\n      <td>{\"version\": 1, \"hits\": 1, \"results\": 1, \"kgver...</td>\n      <td>{'name': 'Harry Jones', 'gender': 'Male', 'bir...</td>\n      <td>Harry Jones is known for their contribution as...</td>\n      <td>L3</td>\n    </tr>\n  </tbody>\n</table>\n</div>"
     },
     "execution_count": 44,
     "metadata": {},
     "output_type": "execute_result"
    }
   ],
   "source": [
    "# Now let's concat\n",
    "# Concatenate the two datasets along the rows (axis=0)\n",
    "merged_dataset = pd.concat([original_data, the_other_data], axis=0, ignore_index=True)\n",
    "\n",
    "# Drop duplicates in the 'segment' column, keeping the first occurrence\n",
    "merged_dataset = merged_dataset.drop_duplicates(subset='founder_linkedin_url', keep='first')\n",
    "\n",
    "merged_dataset.head()"
   ],
   "metadata": {
    "collapsed": false,
    "ExecuteTime": {
     "end_time": "2024-03-15T00:13:03.065138Z",
     "start_time": "2024-03-15T00:13:01.365660Z"
    }
   },
   "id": "6201131058f613db",
   "execution_count": 44
  },
  {
   "cell_type": "code",
   "outputs": [
    {
     "data": {
      "text/plain": "nan"
     },
     "execution_count": 48,
     "metadata": {},
     "output_type": "execute_result"
    }
   ],
   "source": [
    "merged_dataset.shape\n",
    "merged_dataset['segment'][900]\n",
    "#Failed"
   ],
   "metadata": {
    "collapsed": false,
    "ExecuteTime": {
     "end_time": "2024-03-15T00:14:25.972727Z",
     "start_time": "2024-03-15T00:14:25.962628Z"
    }
   },
   "id": "820319e432fc60ca",
   "execution_count": 48
  },
  {
   "cell_type": "code",
   "outputs": [
    {
     "name": "stdout",
     "output_type": "stream",
     "text": [
      "151    https://www.linkedin.com/in/serkan-borancili-a...\n",
      "Name: founder_linkedin_url, dtype: object\n",
      "999    https://www.linkedin.com/in/serkan-borancili-a...\n",
      "Name: founder_linkedin_url, dtype: object\n"
     ]
    }
   ],
   "source": [
    "the_other_data.shape\n",
    "print(the_other_data['founder_linkedin_url'][151:152])\n",
    "print(original_data['founder_linkedin_url'][848+151:848+152])"
   ],
   "metadata": {
    "collapsed": false,
    "ExecuteTime": {
     "end_time": "2024-03-15T00:17:43.440818Z",
     "start_time": "2024-03-15T00:17:43.407277Z"
    }
   },
   "id": "8bd47ef2d7681189",
   "execution_count": 51
  },
  {
   "cell_type": "code",
   "outputs": [
    {
     "name": "stderr",
     "output_type": "stream",
     "text": [
      "/var/folders/fv/lkh46jcn57d1dj9hwqd535kw0000gq/T/ipykernel_35086/1690023494.py:1: FutureWarning: ChainedAssignmentError: behaviour will change in pandas 3.0!\n",
      "You are setting values through chained assignment. Currently this works in certain cases, but when using Copy-on-Write (which will become the default behaviour in pandas 3.0) this will never work to update the original DataFrame or Series, because the intermediate object on which we are setting values will behave as a copy.\n",
      "A typical example is when you are setting values in a column of a DataFrame, like:\n",
      "\n",
      "df[\"col\"][row_indexer] = value\n",
      "\n",
      "Use `df.loc[row_indexer, \"col\"] = values` instead, to perform the assignment in a single step and ensure this keeps updating the original `df`.\n",
      "\n",
      "See the caveats in the documentation: https://pandas.pydata.org/pandas-docs/stable/user_guide/indexing.html#returning-a-view-versus-a-copy\n",
      "\n",
      "  original_data['segment'][848:848+152]=the_other_data['segment'][0:152]\n"
     ]
    }
   ],
   "source": [
    "original_data['segment'][848:848+152]=the_other_data['segment'][0:152]"
   ],
   "metadata": {
    "collapsed": false,
    "ExecuteTime": {
     "end_time": "2024-03-15T00:18:21.557351Z",
     "start_time": "2024-03-15T00:18:21.480477Z"
    }
   },
   "id": "74c6df801c08944c",
   "execution_count": 52
  },
  {
   "cell_type": "markdown",
   "source": [
    "### Systematic Way to Do Data Migration"
   ],
   "metadata": {
    "collapsed": false
   },
   "id": "24073d5ab2337d9d"
  },
  {
   "cell_type": "code",
   "outputs": [],
   "source": [
    "# Calculate the range for the_other_data\n",
    "start_index_the_other_data = 0\n",
    "end_index_the_other_data = 152  # Adjust according to your data\n",
    "\n",
    "# Calculate the corresponding range for original_data\n",
    "start_index_original_data = 848\n",
    "end_index_original_data = 848 + 152  # Adjust according to your data\n",
    "\n",
    "# Perform the update using .loc for a single-step assignment\n",
    "original_data.loc[start_index_original_data:end_index_original_data, 'segment'] = the_other_data.loc[start_index_the_other_data:end_index_the_other_data, 'segment'].values\n",
    "\n",
    "# This line directly assigns the segment values from the_other_data to original_data for the specified indices"
   ],
   "metadata": {
    "collapsed": false,
    "ExecuteTime": {
     "end_time": "2024-03-15T01:25:08.878504Z",
     "start_time": "2024-03-15T01:25:08.849239Z"
    }
   },
   "id": "52f518daaf04417b",
   "execution_count": 93
  },
  {
   "cell_type": "code",
   "outputs": [],
   "source": [
    "#Show the data\n",
    "#original_data['segment'][1000]\n",
    "original_data.to_csv(os.path.join(os.getcwd(),'data/successful/processed_segmented_data_successful_gpt4_1000.csv'), index=False)"
   ],
   "metadata": {
    "collapsed": false,
    "ExecuteTime": {
     "end_time": "2024-03-15T01:25:16.665431Z",
     "start_time": "2024-03-15T01:25:11.119351Z"
    }
   },
   "id": "da2542caf5cbeb26",
   "execution_count": 94
  },
  {
   "cell_type": "code",
   "outputs": [
    {
     "name": "stdout",
     "output_type": "stream",
     "text": [
      "Collecting openpyxl\r\n",
      "  Obtaining dependency information for openpyxl from https://files.pythonhosted.org/packages/6a/94/a59521de836ef0da54aaf50da6c4da8fb4072fb3053fa71f052fd9399e7a/openpyxl-3.1.2-py2.py3-none-any.whl.metadata\r\n",
      "  Downloading openpyxl-3.1.2-py2.py3-none-any.whl.metadata (2.5 kB)\r\n",
      "Collecting et-xmlfile (from openpyxl)\r\n",
      "  Obtaining dependency information for et-xmlfile from https://files.pythonhosted.org/packages/96/c2/3dd434b0108730014f1b96fd286040dc3bcb70066346f7e01ec2ac95865f/et_xmlfile-1.1.0-py3-none-any.whl.metadata\r\n",
      "  Downloading et_xmlfile-1.1.0-py3-none-any.whl.metadata (1.8 kB)\r\n",
      "Downloading openpyxl-3.1.2-py2.py3-none-any.whl (249 kB)\r\n",
      "\u001B[2K   \u001B[90m━━━━━━━━━━━━━━━━━━━━━━━━━━━━━━━━━━━━━━━━\u001B[0m \u001B[32m250.0/250.0 kB\u001B[0m \u001B[31m3.8 MB/s\u001B[0m eta \u001B[36m0:00:00\u001B[0ma \u001B[36m0:00:01\u001B[0m\r\n",
      "\u001B[?25hDownloading et_xmlfile-1.1.0-py3-none-any.whl (4.7 kB)\r\n",
      "Installing collected packages: et-xmlfile, openpyxl\r\n",
      "Successfully installed et-xmlfile-1.1.0 openpyxl-3.1.2\r\n",
      "\r\n",
      "\u001B[1m[\u001B[0m\u001B[34;49mnotice\u001B[0m\u001B[1;39;49m]\u001B[0m\u001B[39;49m A new release of pip is available: \u001B[0m\u001B[31;49m23.2.1\u001B[0m\u001B[39;49m -> \u001B[0m\u001B[32;49m24.0\u001B[0m\r\n",
      "\u001B[1m[\u001B[0m\u001B[34;49mnotice\u001B[0m\u001B[1;39;49m]\u001B[0m\u001B[39;49m To update, run: \u001B[0m\u001B[32;49mpip install --upgrade pip\u001B[0m\r\n"
     ]
    }
   ],
   "source": [
    "!pip install openpyxl"
   ],
   "metadata": {
    "collapsed": false,
    "ExecuteTime": {
     "end_time": "2024-03-14T13:48:50.292055Z",
     "start_time": "2024-03-14T13:48:48.308857Z"
    }
   },
   "id": "8f7955808ba2e161",
   "execution_count": 3
  },
  {
   "cell_type": "markdown",
   "source": [
    "### Let's test & merge the unsuccessful ones\n",
    "\n"
   ],
   "metadata": {
    "collapsed": false
   },
   "id": "21ef840e12371217"
  },
  {
   "cell_type": "code",
   "outputs": [
    {
     "name": "stdout",
     "output_type": "stream",
     "text": [
      "                               founder_linkedin_url  \\\n",
      "0  http://www.linkedin.com/pub/pete-foley/3/753/a1a   \n",
      "1         https://www.linkedin.com/in/stubaileyblox   \n",
      "2           https://www.linkedin.com/in/adamellison   \n",
      "3         https://www.linkedin.com/in/danielpizzata   \n",
      "4               https://www.linkedin.com/in/mguctas   \n",
      "\n",
      "                                         json_string  \\\n",
      "0  {\"version\": 1, \"hits\": 1, \"results\": 1, \"kgver...   \n",
      "1  {\"version\": 1, \"hits\": 3, \"results\": 1, \"kgver...   \n",
      "2  {\"version\": 1, \"hits\": 1, \"results\": 1, \"kgver...   \n",
      "3  {\"version\": 1, \"hits\": 1, \"results\": 1, \"kgver...   \n",
      "4  {\"version\": 1, \"hits\": 1, \"results\": 1, \"kgver...   \n",
      "\n",
      "                                     structured_info  \\\n",
      "0  {'name': 'Pete Foley', 'gender': 'Male', 'birt...   \n",
      "1  {'name': 'Stuart Bailey', 'gender': '', 'birth...   \n",
      "2  {'name': 'Adam Ellison', 'gender': '', 'birthD...   \n",
      "3  {'name': 'Daniel Pizzata', 'gender': 'Male', '...   \n",
      "4  {'name': 'Melis Guctas', 'gender': '', 'birthD...   \n",
      "\n",
      "                                           paragraph segment  \n",
      "0  Pete Foley is known for their contribution as ...      L4  \n",
      "1  Stuart Bailey is known for their contribution ...      L5  \n",
      "2  Adam Ellison is known for their contribution a...      L2  \n",
      "3  Daniel Pizzata is known for their contribution...      L3  \n",
      "4  Melis Guctas is known for their contribution a...      L3  \n",
      "[]\n"
     ]
    }
   ],
   "source": [
    "unsuccessful_df_4_7 = pd.read_csv('/Users/wangxiang/Desktop/VelaInternship/data/Unsuccessful/segmented_unsuccessful_profiles_gpt-4_7.csv')\n",
    "\n",
    "print(unsuccessful_df_4_7['segment'].shape)\n",
    "\n",
    "# This is for the last ones\n",
    "unsuccessful_df_4_7.head()\n",
    "\n",
    "unsuccessful_df_original = pd.read_csv('/Users/wangxiang/Desktop/VelaInternship/data/Unsuccessful/segmented_unsuccessful_profiles.csv')\n",
    "\n",
    "#print(unsuccessful_df_original.head())\n",
    "\n",
    "# To find indices \n",
    "indices = unsuccessful_df_original.index[unsuccessful_df_original['founder_linkedin_url'] == unsuccessful_df_4_7['founder_linkedin_url'][0]].tolist()\n",
    "\n",
    "print(indices)"
   ],
   "metadata": {
    "collapsed": false,
    "ExecuteTime": {
     "end_time": "2024-03-15T00:47:31.661410Z",
     "start_time": "2024-03-15T00:47:31.431038Z"
    }
   },
   "id": "235ef338dcf91682",
   "execution_count": 74
  },
  {
   "cell_type": "code",
   "outputs": [
    {
     "data": {
      "text/plain": "                          founder_linkedin_url  \\\n0     https://www.linkedin.com/in/jeff-grundey   \n1      http://www.linkedin.com/in/artemfedyaev   \n2      https://www.linkedin.com/in/guyabelsohn   \n3  https://www.linkedin.com/in/benjamingillman   \n4         https://www.linkedin.com/in/sunilrao   \n\n                                         json_string  \\\n0  {\"version\": 1, \"hits\": 2, \"results\": 1, \"kgver...   \n1  {\"version\": 1, \"hits\": 1, \"results\": 1, \"kgver...   \n2  {\"version\": 1, \"hits\": 1, \"results\": 1, \"kgver...   \n3  {\"version\": 1, \"hits\": 1, \"results\": 1, \"kgver...   \n4  {\"version\": 1, \"hits\": 2, \"results\": 1, \"kgver...   \n\n                                     structured_info  \\\n0  {'name': 'Jeff Grundey', 'gender': 'Male', 'bi...   \n1  {'name': 'Artem Fedyaev', 'gender': '', 'birth...   \n2  {'name': 'Guy Abelsohn', 'gender': 'Male', 'bi...   \n3  {'name': 'Benjamin Gillman', 'gender': 'Male',...   \n4  {'name': 'Sunil Rao', 'gender': '', 'birthDate...   \n\n                                           paragraph  \\\n0  Jeff Grundey is known for their contribution a...   \n1  Artem Fedyaev is known for their contribution ...   \n2  Guy Abelsohn is known for their contribution a...   \n3  Benjamin Gillman is known for their contributi...   \n4  Sunil Rao is known for their contribution as F...   \n\n                                             segment  \n0                                                 L3  \n1                                                 L4  \n2                                                 L1  \n3                                                 L2  \n4  Without more information on the success of Myg...  ",
      "text/html": "<div>\n<style scoped>\n    .dataframe tbody tr th:only-of-type {\n        vertical-align: middle;\n    }\n\n    .dataframe tbody tr th {\n        vertical-align: top;\n    }\n\n    .dataframe thead th {\n        text-align: right;\n    }\n</style>\n<table border=\"1\" class=\"dataframe\">\n  <thead>\n    <tr style=\"text-align: right;\">\n      <th></th>\n      <th>founder_linkedin_url</th>\n      <th>json_string</th>\n      <th>structured_info</th>\n      <th>paragraph</th>\n      <th>segment</th>\n    </tr>\n  </thead>\n  <tbody>\n    <tr>\n      <th>0</th>\n      <td>https://www.linkedin.com/in/jeff-grundey</td>\n      <td>{\"version\": 1, \"hits\": 2, \"results\": 1, \"kgver...</td>\n      <td>{'name': 'Jeff Grundey', 'gender': 'Male', 'bi...</td>\n      <td>Jeff Grundey is known for their contribution a...</td>\n      <td>L3</td>\n    </tr>\n    <tr>\n      <th>1</th>\n      <td>http://www.linkedin.com/in/artemfedyaev</td>\n      <td>{\"version\": 1, \"hits\": 1, \"results\": 1, \"kgver...</td>\n      <td>{'name': 'Artem Fedyaev', 'gender': '', 'birth...</td>\n      <td>Artem Fedyaev is known for their contribution ...</td>\n      <td>L4</td>\n    </tr>\n    <tr>\n      <th>2</th>\n      <td>https://www.linkedin.com/in/guyabelsohn</td>\n      <td>{\"version\": 1, \"hits\": 1, \"results\": 1, \"kgver...</td>\n      <td>{'name': 'Guy Abelsohn', 'gender': 'Male', 'bi...</td>\n      <td>Guy Abelsohn is known for their contribution a...</td>\n      <td>L1</td>\n    </tr>\n    <tr>\n      <th>3</th>\n      <td>https://www.linkedin.com/in/benjamingillman</td>\n      <td>{\"version\": 1, \"hits\": 1, \"results\": 1, \"kgver...</td>\n      <td>{'name': 'Benjamin Gillman', 'gender': 'Male',...</td>\n      <td>Benjamin Gillman is known for their contributi...</td>\n      <td>L2</td>\n    </tr>\n    <tr>\n      <th>4</th>\n      <td>https://www.linkedin.com/in/sunilrao</td>\n      <td>{\"version\": 1, \"hits\": 2, \"results\": 1, \"kgver...</td>\n      <td>{'name': 'Sunil Rao', 'gender': '', 'birthDate...</td>\n      <td>Sunil Rao is known for their contribution as F...</td>\n      <td>Without more information on the success of Myg...</td>\n    </tr>\n  </tbody>\n</table>\n</div>"
     },
     "execution_count": 75,
     "metadata": {},
     "output_type": "execute_result"
    }
   ],
   "source": [
    "unsuccessful_df_4_7.head()"
   ],
   "metadata": {
    "collapsed": false,
    "ExecuteTime": {
     "end_time": "2024-03-15T00:50:36.948182Z",
     "start_time": "2024-03-15T00:50:36.865581Z"
    }
   },
   "id": "394339792a9c3cec",
   "execution_count": 75
  },
  {
   "cell_type": "code",
   "outputs": [
    {
     "data": {
      "text/plain": "segment\nL3    5\nL2    3\nL4    1\nL5    1\nName: count, dtype: int64"
     },
     "execution_count": 63,
     "metadata": {},
     "output_type": "execute_result"
    }
   ],
   "source": [
    "unsuccessful_df_4_5 = pd.read_csv('/Users/wangxiang/Desktop/VelaInternship/data/Unsuccessful/segmented_unsuccessful_profiles_gpt-4_5.csv')\n",
    "unsuccessful_df_4_5['segment'].value_counts()"
   ],
   "metadata": {
    "collapsed": false,
    "ExecuteTime": {
     "end_time": "2024-03-15T00:43:13.578129Z",
     "start_time": "2024-03-15T00:43:13.480645Z"
    }
   },
   "id": "1b87c1c3362e725e",
   "execution_count": 63
  },
  {
   "cell_type": "code",
   "outputs": [
    {
     "data": {
      "text/plain": "  segment\n0      L4\n1      L5\n2      L2\n3      L3\n4      L4\n5      L3\n6      L3\n7      L3\n8      L3\n9      L2",
      "text/html": "<div>\n<style scoped>\n    .dataframe tbody tr th:only-of-type {\n        vertical-align: middle;\n    }\n\n    .dataframe tbody tr th {\n        vertical-align: top;\n    }\n\n    .dataframe thead th {\n        text-align: right;\n    }\n</style>\n<table border=\"1\" class=\"dataframe\">\n  <thead>\n    <tr style=\"text-align: right;\">\n      <th></th>\n      <th>segment</th>\n    </tr>\n  </thead>\n  <tbody>\n    <tr>\n      <th>0</th>\n      <td>L4</td>\n    </tr>\n    <tr>\n      <th>1</th>\n      <td>L5</td>\n    </tr>\n    <tr>\n      <th>2</th>\n      <td>L2</td>\n    </tr>\n    <tr>\n      <th>3</th>\n      <td>L3</td>\n    </tr>\n    <tr>\n      <th>4</th>\n      <td>L4</td>\n    </tr>\n    <tr>\n      <th>5</th>\n      <td>L3</td>\n    </tr>\n    <tr>\n      <th>6</th>\n      <td>L3</td>\n    </tr>\n    <tr>\n      <th>7</th>\n      <td>L3</td>\n    </tr>\n    <tr>\n      <th>8</th>\n      <td>L3</td>\n    </tr>\n    <tr>\n      <th>9</th>\n      <td>L2</td>\n    </tr>\n  </tbody>\n</table>\n</div>"
     },
     "execution_count": 86,
     "metadata": {},
     "output_type": "execute_result"
    }
   ],
   "source": [
    "# Start Loading\n",
    "\n",
    "original_380 = pd.read_excel('/Users/wangxiang/Desktop/VelaInternship/data/Unsuccessful/original_data_380.xlsx')\n",
    "original_380.head(10)"
   ],
   "metadata": {
    "collapsed": false,
    "ExecuteTime": {
     "end_time": "2024-03-15T01:18:47.870898Z",
     "start_time": "2024-03-15T01:18:47.796578Z"
    }
   },
   "id": "30da91f66eb9016c",
   "execution_count": 86
  },
  {
   "cell_type": "code",
   "outputs": [
    {
     "data": {
      "text/plain": "                                founder_linkedin_url  \\\n0   http://www.linkedin.com/pub/pete-foley/3/753/a1a   \n1          https://www.linkedin.com/in/stubaileyblox   \n2            https://www.linkedin.com/in/adamellison   \n3          https://www.linkedin.com/in/danielpizzata   \n4                https://www.linkedin.com/in/mguctas   \n5  https://www.linkedin.com/in/chris-retzler-a601...   \n6    https://www.linkedin.com/in/clark-lin-71382649/   \n7    https://www.linkedin.com/in/greg-chen-95082649/   \n8  https://www.linkedin.com/in/joel-jackson-49813725   \n9  https://www.linkedin.com/in/morgane-guinot-403...   \n\n                                         json_string  \\\n0  {\"version\": 1, \"hits\": 1, \"results\": 1, \"kgver...   \n1  {\"version\": 1, \"hits\": 3, \"results\": 1, \"kgver...   \n2  {\"version\": 1, \"hits\": 1, \"results\": 1, \"kgver...   \n3  {\"version\": 1, \"hits\": 1, \"results\": 1, \"kgver...   \n4  {\"version\": 1, \"hits\": 1, \"results\": 1, \"kgver...   \n5  {\"version\": 1, \"hits\": 1, \"results\": 1, \"kgver...   \n6  {\"version\": 1, \"hits\": 1, \"results\": 1, \"kgver...   \n7  {\"version\": 1, \"hits\": 1, \"results\": 1, \"kgver...   \n8  {\"version\": 1, \"hits\": 1, \"results\": 1, \"kgver...   \n9  {\"version\": 1, \"hits\": 1, \"results\": 1, \"kgver...   \n\n                                     structured_info  \\\n0  {'name': 'Pete Foley', 'gender': 'Male', 'birt...   \n1  {'name': 'Stuart Bailey', 'gender': '', 'birth...   \n2  {'name': 'Adam Ellison', 'gender': '', 'birthD...   \n3  {'name': 'Daniel Pizzata', 'gender': 'Male', '...   \n4  {'name': 'Melis Guctas', 'gender': '', 'birthD...   \n5  {'name': 'Chris Retzler', 'gender': '', 'birth...   \n6  {'name': 'Clark Lin', 'gender': 'Male', 'birth...   \n7  {'name': 'Greg Chen', 'gender': 'Female', 'bir...   \n8  {'name': 'Joel Jackson', 'gender': '', 'birthD...   \n9  {'name': 'Morgane GUINOT', 'gender': '', 'birt...   \n\n                                           paragraph segment  \n0  Pete Foley is known for their contribution as ...      L4  \n1  Stuart Bailey is known for their contribution ...      L5  \n2  Adam Ellison is known for their contribution a...      L2  \n3  Daniel Pizzata is known for their contribution...      L3  \n4  Melis Guctas is known for their contribution a...      L3  \n5  Chris Retzler is known for their contribution ...      L3  \n6  Clark Lin is known for their contribution as C...      L3  \n7  Greg Chen is known for their contribution as C...      L3  \n8  Joel Jackson is known for their contribution a...      L4  \n9  Morgane GUINOT is known for their contribution...      L3  ",
      "text/html": "<div>\n<style scoped>\n    .dataframe tbody tr th:only-of-type {\n        vertical-align: middle;\n    }\n\n    .dataframe tbody tr th {\n        vertical-align: top;\n    }\n\n    .dataframe thead th {\n        text-align: right;\n    }\n</style>\n<table border=\"1\" class=\"dataframe\">\n  <thead>\n    <tr style=\"text-align: right;\">\n      <th></th>\n      <th>founder_linkedin_url</th>\n      <th>json_string</th>\n      <th>structured_info</th>\n      <th>paragraph</th>\n      <th>segment</th>\n    </tr>\n  </thead>\n  <tbody>\n    <tr>\n      <th>0</th>\n      <td>http://www.linkedin.com/pub/pete-foley/3/753/a1a</td>\n      <td>{\"version\": 1, \"hits\": 1, \"results\": 1, \"kgver...</td>\n      <td>{'name': 'Pete Foley', 'gender': 'Male', 'birt...</td>\n      <td>Pete Foley is known for their contribution as ...</td>\n      <td>L4</td>\n    </tr>\n    <tr>\n      <th>1</th>\n      <td>https://www.linkedin.com/in/stubaileyblox</td>\n      <td>{\"version\": 1, \"hits\": 3, \"results\": 1, \"kgver...</td>\n      <td>{'name': 'Stuart Bailey', 'gender': '', 'birth...</td>\n      <td>Stuart Bailey is known for their contribution ...</td>\n      <td>L5</td>\n    </tr>\n    <tr>\n      <th>2</th>\n      <td>https://www.linkedin.com/in/adamellison</td>\n      <td>{\"version\": 1, \"hits\": 1, \"results\": 1, \"kgver...</td>\n      <td>{'name': 'Adam Ellison', 'gender': '', 'birthD...</td>\n      <td>Adam Ellison is known for their contribution a...</td>\n      <td>L2</td>\n    </tr>\n    <tr>\n      <th>3</th>\n      <td>https://www.linkedin.com/in/danielpizzata</td>\n      <td>{\"version\": 1, \"hits\": 1, \"results\": 1, \"kgver...</td>\n      <td>{'name': 'Daniel Pizzata', 'gender': 'Male', '...</td>\n      <td>Daniel Pizzata is known for their contribution...</td>\n      <td>L3</td>\n    </tr>\n    <tr>\n      <th>4</th>\n      <td>https://www.linkedin.com/in/mguctas</td>\n      <td>{\"version\": 1, \"hits\": 1, \"results\": 1, \"kgver...</td>\n      <td>{'name': 'Melis Guctas', 'gender': '', 'birthD...</td>\n      <td>Melis Guctas is known for their contribution a...</td>\n      <td>L3</td>\n    </tr>\n    <tr>\n      <th>5</th>\n      <td>https://www.linkedin.com/in/chris-retzler-a601...</td>\n      <td>{\"version\": 1, \"hits\": 1, \"results\": 1, \"kgver...</td>\n      <td>{'name': 'Chris Retzler', 'gender': '', 'birth...</td>\n      <td>Chris Retzler is known for their contribution ...</td>\n      <td>L3</td>\n    </tr>\n    <tr>\n      <th>6</th>\n      <td>https://www.linkedin.com/in/clark-lin-71382649/</td>\n      <td>{\"version\": 1, \"hits\": 1, \"results\": 1, \"kgver...</td>\n      <td>{'name': 'Clark Lin', 'gender': 'Male', 'birth...</td>\n      <td>Clark Lin is known for their contribution as C...</td>\n      <td>L3</td>\n    </tr>\n    <tr>\n      <th>7</th>\n      <td>https://www.linkedin.com/in/greg-chen-95082649/</td>\n      <td>{\"version\": 1, \"hits\": 1, \"results\": 1, \"kgver...</td>\n      <td>{'name': 'Greg Chen', 'gender': 'Female', 'bir...</td>\n      <td>Greg Chen is known for their contribution as C...</td>\n      <td>L3</td>\n    </tr>\n    <tr>\n      <th>8</th>\n      <td>https://www.linkedin.com/in/joel-jackson-49813725</td>\n      <td>{\"version\": 1, \"hits\": 1, \"results\": 1, \"kgver...</td>\n      <td>{'name': 'Joel Jackson', 'gender': '', 'birthD...</td>\n      <td>Joel Jackson is known for their contribution a...</td>\n      <td>L4</td>\n    </tr>\n    <tr>\n      <th>9</th>\n      <td>https://www.linkedin.com/in/morgane-guinot-403...</td>\n      <td>{\"version\": 1, \"hits\": 1, \"results\": 1, \"kgver...</td>\n      <td>{'name': 'Morgane GUINOT', 'gender': '', 'birt...</td>\n      <td>Morgane GUINOT is known for their contribution...</td>\n      <td>L3</td>\n    </tr>\n  </tbody>\n</table>\n</div>"
     },
     "execution_count": 87,
     "metadata": {},
     "output_type": "execute_result"
    }
   ],
   "source": [
    "unsuccessful_profiles = pd.read_csv('/Users/wangxiang/Desktop/VelaInternship/data/Unsuccessful/segmented_unsuccessful_profiles.csv')\n",
    "unsuccessful_profiles.head(10)"
   ],
   "metadata": {
    "collapsed": false,
    "ExecuteTime": {
     "end_time": "2024-03-15T01:18:50.629374Z",
     "start_time": "2024-03-15T01:18:50.529840Z"
    }
   },
   "id": "8c8de45877b0f74b",
   "execution_count": 87
  },
  {
   "cell_type": "code",
   "outputs": [
    {
     "data": {
      "text/plain": "                               founder_linkedin_url  \\\n0  http://www.linkedin.com/pub/pete-foley/3/753/a1a   \n1         https://www.linkedin.com/in/stubaileyblox   \n2           https://www.linkedin.com/in/adamellison   \n3         https://www.linkedin.com/in/danielpizzata   \n4               https://www.linkedin.com/in/mguctas   \n\n                                         json_string  \\\n0  {\"version\": 1, \"hits\": 1, \"results\": 1, \"kgver...   \n1  {\"version\": 1, \"hits\": 3, \"results\": 1, \"kgver...   \n2  {\"version\": 1, \"hits\": 1, \"results\": 1, \"kgver...   \n3  {\"version\": 1, \"hits\": 1, \"results\": 1, \"kgver...   \n4  {\"version\": 1, \"hits\": 1, \"results\": 1, \"kgver...   \n\n                                     structured_info  \\\n0  {'name': 'Pete Foley', 'gender': 'Male', 'birt...   \n1  {'name': 'Stuart Bailey', 'gender': '', 'birth...   \n2  {'name': 'Adam Ellison', 'gender': '', 'birthD...   \n3  {'name': 'Daniel Pizzata', 'gender': 'Male', '...   \n4  {'name': 'Melis Guctas', 'gender': '', 'birthD...   \n\n                                           paragraph segment  \n0  Pete Foley is known for their contribution as ...      L4  \n1  Stuart Bailey is known for their contribution ...      L5  \n2  Adam Ellison is known for their contribution a...      L2  \n3  Daniel Pizzata is known for their contribution...      L3  \n4  Melis Guctas is known for their contribution a...      L4  ",
      "text/html": "<div>\n<style scoped>\n    .dataframe tbody tr th:only-of-type {\n        vertical-align: middle;\n    }\n\n    .dataframe tbody tr th {\n        vertical-align: top;\n    }\n\n    .dataframe thead th {\n        text-align: right;\n    }\n</style>\n<table border=\"1\" class=\"dataframe\">\n  <thead>\n    <tr style=\"text-align: right;\">\n      <th></th>\n      <th>founder_linkedin_url</th>\n      <th>json_string</th>\n      <th>structured_info</th>\n      <th>paragraph</th>\n      <th>segment</th>\n    </tr>\n  </thead>\n  <tbody>\n    <tr>\n      <th>0</th>\n      <td>http://www.linkedin.com/pub/pete-foley/3/753/a1a</td>\n      <td>{\"version\": 1, \"hits\": 1, \"results\": 1, \"kgver...</td>\n      <td>{'name': 'Pete Foley', 'gender': 'Male', 'birt...</td>\n      <td>Pete Foley is known for their contribution as ...</td>\n      <td>L4</td>\n    </tr>\n    <tr>\n      <th>1</th>\n      <td>https://www.linkedin.com/in/stubaileyblox</td>\n      <td>{\"version\": 1, \"hits\": 3, \"results\": 1, \"kgver...</td>\n      <td>{'name': 'Stuart Bailey', 'gender': '', 'birth...</td>\n      <td>Stuart Bailey is known for their contribution ...</td>\n      <td>L5</td>\n    </tr>\n    <tr>\n      <th>2</th>\n      <td>https://www.linkedin.com/in/adamellison</td>\n      <td>{\"version\": 1, \"hits\": 1, \"results\": 1, \"kgver...</td>\n      <td>{'name': 'Adam Ellison', 'gender': '', 'birthD...</td>\n      <td>Adam Ellison is known for their contribution a...</td>\n      <td>L2</td>\n    </tr>\n    <tr>\n      <th>3</th>\n      <td>https://www.linkedin.com/in/danielpizzata</td>\n      <td>{\"version\": 1, \"hits\": 1, \"results\": 1, \"kgver...</td>\n      <td>{'name': 'Daniel Pizzata', 'gender': 'Male', '...</td>\n      <td>Daniel Pizzata is known for their contribution...</td>\n      <td>L3</td>\n    </tr>\n    <tr>\n      <th>4</th>\n      <td>https://www.linkedin.com/in/mguctas</td>\n      <td>{\"version\": 1, \"hits\": 1, \"results\": 1, \"kgver...</td>\n      <td>{'name': 'Melis Guctas', 'gender': '', 'birthD...</td>\n      <td>Melis Guctas is known for their contribution a...</td>\n      <td>L4</td>\n    </tr>\n  </tbody>\n</table>\n</div>"
     },
     "execution_count": 116,
     "metadata": {},
     "output_type": "execute_result"
    }
   ],
   "source": [
    "unsuccessful_profiles = pd.read_csv('/Users/wangxiang/Desktop/VelaInternship/data/Unsuccessful/unsuccessful_profiles.csv')\n",
    "unsuccessful_profiles['segment'] = original_380\n",
    "unsuccessful_profiles.head() "
   ],
   "metadata": {
    "collapsed": false,
    "ExecuteTime": {
     "end_time": "2024-03-15T03:46:02.839196Z",
     "start_time": "2024-03-15T03:45:57.934232Z"
    }
   },
   "id": "b0d08a13ec1dc841",
   "execution_count": 116
  },
  {
   "cell_type": "markdown",
   "source": [
    "### Let's explore the limits"
   ],
   "metadata": {
    "collapsed": false
   },
   "id": "fb0f79ac781d5c4c"
  },
  {
   "cell_type": "code",
   "outputs": [
    {
     "data": {
      "text/plain": "founder_linkedin_url    https://www.linkedin.com/in/rakesh-sharma-5333...\njson_string             {\"version\": 1, \"hits\": 1, \"results\": 1, \"kgver...\nstructured_info         {'name': 'Rakesh Sharma', 'gender': '', 'birth...\nparagraph               Rakesh Sharma is known for their contribution ...\nsegment                                                                L3\nName: 379, dtype: object"
     },
     "execution_count": 117,
     "metadata": {},
     "output_type": "execute_result"
    }
   ],
   "source": [
    "unsuccessful_profiles.loc[379]"
   ],
   "metadata": {
    "collapsed": false,
    "ExecuteTime": {
     "end_time": "2024-03-15T03:46:10.810349Z",
     "start_time": "2024-03-15T03:46:10.689169Z"
    }
   },
   "id": "6648b74e933d2368",
   "execution_count": 117
  },
  {
   "cell_type": "code",
   "outputs": [
    {
     "name": "stdout",
     "output_type": "stream",
     "text": [
      "segment\n",
      "L3                                                                                                                                                                                                                                                                                                                                                                                                                273\n",
      "L4                                                                                                                                                                                                                                                                                                                                                                                                                153\n",
      "L2                                                                                                                                                                                                                                                                                                                                                                                                                135\n",
      "L1                                                                                                                                                                                                                                                                                                                                                                                                                 52\n",
      "L5                                                                                                                                                                                                                                                                                                                                                                                                                  5\n",
      "The provided information does not clearly identify which level Sunil Rao fits as it does not mention about the financial success of his venture Mygubbi, if there was an exit, how much experience he has had aside from the vague \"Co-Founder at Mygubbi\", and whether he was connected with tech circles or big tech companies. Therefore, without additional information, Sunil Rao is categorised as L1.        1\n",
      "Without more detailed information about Masahiro Yamachis well-documented achievements in the technology/entrepreneur sector, such as size of funds raised, successful veteran exit, years of experience, record in any leading technology company or pedigree, its not possible to accurately evaluate his level from L1 to L5. Therefore, further information is required to provide a valid classification.      1\n",
      "Name: count, dtype: int64\n",
      "segment\n",
      "L3    273\n",
      "L4    153\n",
      "L2    135\n",
      "L1     54\n",
      "L5      5\n",
      "Name: count, dtype: int64\n",
      "Indexes of unusual segments: [424, 472]\n"
     ]
    }
   ],
   "source": [
    "# Load the rest of the data\n",
    "\n",
    "rest_unsuccessful_profiles = pd.read_csv('/Users/wangxiang/Desktop/VelaInternship/data/Unsuccessful/segmented_unsuccessful_profiles_gpt-4_13_380_620.csv')\n",
    "\n",
    "#Print the counts of segments\n",
    "print(rest_unsuccessful_profiles.value_counts('segment'))\n",
    "\n",
    "# Identify unusual segments by their length or specific content\n",
    "# Here, I'm assuming any segment longer than 3 characters is unusual for simplicity\n",
    "unusual_segments_mask = rest_unsuccessful_profiles['segment'].str.len() > 3\n",
    "\n",
    "# You can also identify them by checking if they contain specific keywords\n",
    "# unusual_segments_mask = rest_unsuccessful_profiles['segment'].str.contains('information does not clearly identify')\n",
    "\n",
    "# Replace unusual segments with a default value, e.g., 'L1' for these two in particular\n",
    "rest_unsuccessful_profiles.loc[unusual_segments_mask, 'segment'] = 'L1'\n",
    "\n",
    "# Verify the changes\n",
    "print(rest_unsuccessful_profiles['segment'].value_counts())\n",
    "\n",
    "# If you need to identify the indexes of the unusual segments explicitly\n",
    "unusual_segment_indexes = rest_unsuccessful_profiles.index[unusual_segments_mask].tolist()\n",
    "print(\"Indexes of unusual segments:\", unusual_segment_indexes)"
   ],
   "metadata": {
    "collapsed": false,
    "ExecuteTime": {
     "end_time": "2024-03-15T04:12:44.884633Z",
     "start_time": "2024-03-15T04:12:44.161379Z"
    }
   },
   "id": "1b6dd505baf29667",
   "execution_count": 135
  },
  {
   "cell_type": "markdown",
   "source": [
    "### Let's now merge"
   ],
   "metadata": {
    "collapsed": false
   },
   "id": "27e9bf876fe7e668"
  },
  {
   "cell_type": "raw",
   "source": [],
   "metadata": {
    "collapsed": false
   },
   "id": "2327e475d6be7d2b"
  },
  {
   "cell_type": "code",
   "outputs": [
    {
     "data": {
      "text/plain": "                                  founder_linkedin_url  \\\n380     https://www.linkedin.com/in/kansasbioengineer/   \n381  https://www.linkedin.com/in/lisa-stehno-bittel...   \n382  https://www.linkedin.com/in/eric-blaser-a9a57b56/   \n383  https://www.linkedin.com/in/andrew-johnson-036...   \n384  https://www.linkedin.com/in/bradley-blaser-b58...   \n\n                                           json_string  \\\n380  {\"version\": 1, \"hits\": 1, \"results\": 1, \"kgver...   \n381  {\"version\": 1, \"hits\": 1, \"results\": 1, \"kgver...   \n382  {\"version\": 1, \"hits\": 1, \"results\": 1, \"kgver...   \n383  {\"version\": 1, \"hits\": 1, \"results\": 1, \"kgver...   \n384  {\"version\": 1, \"hits\": 1, \"results\": 1, \"kgver...   \n\n                                       structured_info  \\\n380  {'name': 'Karthik Ramachandran', 'gender': 'Ma...   \n381  {'name': 'Lisa Stehno-Bittel', 'gender': 'Fema...   \n382  {'name': 'Eric Blaser', 'gender': 'Male', 'bir...   \n383  {'name': 'Andrew Johnson', 'gender': 'Male', '...   \n384  {'name': 'Bradley Blaser', 'gender': 'Male', '...   \n\n                                             paragraph segment  \n380  Karthik Ramachandran is known for their contri...      L3  \n381  Lisa Stehno-Bittel is known for their contribu...      L3  \n382  Eric Blaser is known for their contribution as...      L2  \n383  Andrew Johnson is known for their contribution...      L1  \n384  Bradley Blaser is known for their contribution...      L2  ",
      "text/html": "<div>\n<style scoped>\n    .dataframe tbody tr th:only-of-type {\n        vertical-align: middle;\n    }\n\n    .dataframe tbody tr th {\n        vertical-align: top;\n    }\n\n    .dataframe thead th {\n        text-align: right;\n    }\n</style>\n<table border=\"1\" class=\"dataframe\">\n  <thead>\n    <tr style=\"text-align: right;\">\n      <th></th>\n      <th>founder_linkedin_url</th>\n      <th>json_string</th>\n      <th>structured_info</th>\n      <th>paragraph</th>\n      <th>segment</th>\n    </tr>\n  </thead>\n  <tbody>\n    <tr>\n      <th>380</th>\n      <td>https://www.linkedin.com/in/kansasbioengineer/</td>\n      <td>{\"version\": 1, \"hits\": 1, \"results\": 1, \"kgver...</td>\n      <td>{'name': 'Karthik Ramachandran', 'gender': 'Ma...</td>\n      <td>Karthik Ramachandran is known for their contri...</td>\n      <td>L3</td>\n    </tr>\n    <tr>\n      <th>381</th>\n      <td>https://www.linkedin.com/in/lisa-stehno-bittel...</td>\n      <td>{\"version\": 1, \"hits\": 1, \"results\": 1, \"kgver...</td>\n      <td>{'name': 'Lisa Stehno-Bittel', 'gender': 'Fema...</td>\n      <td>Lisa Stehno-Bittel is known for their contribu...</td>\n      <td>L3</td>\n    </tr>\n    <tr>\n      <th>382</th>\n      <td>https://www.linkedin.com/in/eric-blaser-a9a57b56/</td>\n      <td>{\"version\": 1, \"hits\": 1, \"results\": 1, \"kgver...</td>\n      <td>{'name': 'Eric Blaser', 'gender': 'Male', 'bir...</td>\n      <td>Eric Blaser is known for their contribution as...</td>\n      <td>L2</td>\n    </tr>\n    <tr>\n      <th>383</th>\n      <td>https://www.linkedin.com/in/andrew-johnson-036...</td>\n      <td>{\"version\": 1, \"hits\": 1, \"results\": 1, \"kgver...</td>\n      <td>{'name': 'Andrew Johnson', 'gender': 'Male', '...</td>\n      <td>Andrew Johnson is known for their contribution...</td>\n      <td>L1</td>\n    </tr>\n    <tr>\n      <th>384</th>\n      <td>https://www.linkedin.com/in/bradley-blaser-b58...</td>\n      <td>{\"version\": 1, \"hits\": 1, \"results\": 1, \"kgver...</td>\n      <td>{'name': 'Bradley Blaser', 'gender': 'Male', '...</td>\n      <td>Bradley Blaser is known for their contribution...</td>\n      <td>L2</td>\n    </tr>\n  </tbody>\n</table>\n</div>"
     },
     "execution_count": 122,
     "metadata": {},
     "output_type": "execute_result"
    }
   ],
   "source": [
    "unsuccessful_profiles.loc[380:].head()"
   ],
   "metadata": {
    "collapsed": false,
    "ExecuteTime": {
     "end_time": "2024-03-15T03:50:24.284141Z",
     "start_time": "2024-03-15T03:50:24.112807Z"
    }
   },
   "id": "e9536849117219c2",
   "execution_count": 122
  },
  {
   "cell_type": "code",
   "outputs": [
    {
     "data": {
      "text/plain": "                                founder_linkedin_url  \\\n0     https://www.linkedin.com/in/kansasbioengineer/   \n1  https://www.linkedin.com/in/lisa-stehno-bittel...   \n2  https://www.linkedin.com/in/eric-blaser-a9a57b56/   \n3  https://www.linkedin.com/in/andrew-johnson-036...   \n4  https://www.linkedin.com/in/bradley-blaser-b58...   \n\n                                         json_string  \\\n0  {\"version\": 1, \"hits\": 1, \"results\": 1, \"kgver...   \n1  {\"version\": 1, \"hits\": 1, \"results\": 1, \"kgver...   \n2  {\"version\": 1, \"hits\": 1, \"results\": 1, \"kgver...   \n3  {\"version\": 1, \"hits\": 1, \"results\": 1, \"kgver...   \n4  {\"version\": 1, \"hits\": 1, \"results\": 1, \"kgver...   \n\n                                     structured_info  \\\n0  {'name': 'Karthik Ramachandran', 'gender': 'Ma...   \n1  {'name': 'Lisa Stehno-Bittel', 'gender': 'Fema...   \n2  {'name': 'Eric Blaser', 'gender': 'Male', 'bir...   \n3  {'name': 'Andrew Johnson', 'gender': 'Male', '...   \n4  {'name': 'Bradley Blaser', 'gender': 'Male', '...   \n\n                                           paragraph segment  \n0  Karthik Ramachandran is known for their contri...      L3  \n1  Lisa Stehno-Bittel is known for their contribu...      L3  \n2  Eric Blaser is known for their contribution as...      L2  \n3  Andrew Johnson is known for their contribution...      L1  \n4  Bradley Blaser is known for their contribution...      L2  ",
      "text/html": "<div>\n<style scoped>\n    .dataframe tbody tr th:only-of-type {\n        vertical-align: middle;\n    }\n\n    .dataframe tbody tr th {\n        vertical-align: top;\n    }\n\n    .dataframe thead th {\n        text-align: right;\n    }\n</style>\n<table border=\"1\" class=\"dataframe\">\n  <thead>\n    <tr style=\"text-align: right;\">\n      <th></th>\n      <th>founder_linkedin_url</th>\n      <th>json_string</th>\n      <th>structured_info</th>\n      <th>paragraph</th>\n      <th>segment</th>\n    </tr>\n  </thead>\n  <tbody>\n    <tr>\n      <th>0</th>\n      <td>https://www.linkedin.com/in/kansasbioengineer/</td>\n      <td>{\"version\": 1, \"hits\": 1, \"results\": 1, \"kgver...</td>\n      <td>{'name': 'Karthik Ramachandran', 'gender': 'Ma...</td>\n      <td>Karthik Ramachandran is known for their contri...</td>\n      <td>L3</td>\n    </tr>\n    <tr>\n      <th>1</th>\n      <td>https://www.linkedin.com/in/lisa-stehno-bittel...</td>\n      <td>{\"version\": 1, \"hits\": 1, \"results\": 1, \"kgver...</td>\n      <td>{'name': 'Lisa Stehno-Bittel', 'gender': 'Fema...</td>\n      <td>Lisa Stehno-Bittel is known for their contribu...</td>\n      <td>L3</td>\n    </tr>\n    <tr>\n      <th>2</th>\n      <td>https://www.linkedin.com/in/eric-blaser-a9a57b56/</td>\n      <td>{\"version\": 1, \"hits\": 1, \"results\": 1, \"kgver...</td>\n      <td>{'name': 'Eric Blaser', 'gender': 'Male', 'bir...</td>\n      <td>Eric Blaser is known for their contribution as...</td>\n      <td>L2</td>\n    </tr>\n    <tr>\n      <th>3</th>\n      <td>https://www.linkedin.com/in/andrew-johnson-036...</td>\n      <td>{\"version\": 1, \"hits\": 1, \"results\": 1, \"kgver...</td>\n      <td>{'name': 'Andrew Johnson', 'gender': 'Male', '...</td>\n      <td>Andrew Johnson is known for their contribution...</td>\n      <td>L1</td>\n    </tr>\n    <tr>\n      <th>4</th>\n      <td>https://www.linkedin.com/in/bradley-blaser-b58...</td>\n      <td>{\"version\": 1, \"hits\": 1, \"results\": 1, \"kgver...</td>\n      <td>{'name': 'Bradley Blaser', 'gender': 'Male', '...</td>\n      <td>Bradley Blaser is known for their contribution...</td>\n      <td>L2</td>\n    </tr>\n  </tbody>\n</table>\n</div>"
     },
     "execution_count": 123,
     "metadata": {},
     "output_type": "execute_result"
    }
   ],
   "source": [
    "rest_unsuccessful_profiles.loc[0:].head()"
   ],
   "metadata": {
    "collapsed": false,
    "ExecuteTime": {
     "end_time": "2024-03-15T03:50:27.460590Z",
     "start_time": "2024-03-15T03:50:27.437645Z"
    }
   },
   "id": "4dc1902dd59480a5",
   "execution_count": 123
  },
  {
   "cell_type": "code",
   "outputs": [],
   "source": [
    "#unsuccessful_profiles.loc[380:] = rest_unsuccessful_profiles.loc[0:]\n",
    "# Assuming that the index in rest_unsuccessful_profiles should match with\n",
    "# the index in original_data starting from 848:\n",
    "num_rows_to_update = rest_unsuccessful_profiles.shape[0]\n",
    "\n",
    "# Update the 'segment' in original_data starting from index 848\n",
    "unsuccessful_profiles.loc[380:379+num_rows_to_update, 'segment'] = rest_unsuccessful_profiles.loc[0:num_rows_to_update-1, 'segment'].values\n"
   ],
   "metadata": {
    "collapsed": false,
    "ExecuteTime": {
     "end_time": "2024-03-15T03:49:24.065667Z",
     "start_time": "2024-03-15T03:49:24.003777Z"
    }
   },
   "id": "e8e6d337f590828e",
   "execution_count": 120
  },
  {
   "cell_type": "markdown",
   "source": [
    "### All merged. Let's do the presentation!"
   ],
   "metadata": {
    "collapsed": false
   },
   "id": "f0c2a9192312cc4c"
  },
  {
   "cell_type": "code",
   "outputs": [],
   "source": [],
   "metadata": {
    "collapsed": false
   },
   "id": "68e1f1250bab9ed2"
  },
  {
   "cell_type": "code",
   "outputs": [
    {
     "data": {
      "text/plain": "379      L3\n380      L3\n381      L3\n382      L2\n383      L1\nName: segment, dtype: object"
     },
     "execution_count": 124,
     "metadata": {},
     "output_type": "execute_result"
    }
   ],
   "source": [
    "unsuccessful_profiles['segment'][379:384]\n",
    "# Sense Check"
   ],
   "metadata": {
    "collapsed": false,
    "ExecuteTime": {
     "end_time": "2024-03-15T03:51:22.410724Z",
     "start_time": "2024-03-15T03:51:22.351822Z"
    }
   },
   "id": "c7c24d6bbc30bed5",
   "execution_count": 124
  },
  {
   "cell_type": "code",
   "outputs": [
    {
     "name": "stdout",
     "output_type": "stream",
     "text": [
      "segment\n",
      "nan    4997\n",
      "L3      445\n",
      "L4      249\n",
      "L2      223\n",
      "L1       75\n",
      "L5        8\n",
      "Name: count, dtype: int64\n",
      "segment\n",
      "L3    445\n",
      "L4    249\n",
      "L2    223\n",
      "L1     75\n",
      "L5      8\n",
      "Name: count, dtype: int64\n"
     ]
    }
   ],
   "source": [
    "unsuccessful_profiles['segment'].value_counts()\n",
    "\n",
    "\n",
    "# Now, check the value counts again\n",
    "unsuccessful_profiles['segment'] = unsuccessful_profiles['segment'].astype(str)\n",
    "\n",
    "cleaned_value_counts = unsuccessful_profiles['segment'].value_counts()\n",
    "# Ensure 'segment' column is treated as a string, then replace single quotes with nothing\n",
    "unsuccessful_profiles['segment'] = unsuccessful_profiles['segment'].astype(str).str.replace(\"'\", \"\")\n",
    "unsuccessful_profiles['segment'] = unsuccessful_profiles['segment'].astype(str).str.replace(\"  \", \"\")\n",
    "\n",
    "#  drop rows with NaN values\n",
    "unsuccessful_profiles.dropna(subset=['segment'], inplace=True)\n",
    "\n",
    "print(cleaned_value_counts)\n",
    "\n",
    "#Extract the top 1000 \n",
    "print(unsuccessful_profiles['segment'].loc[:999].value_counts())\n",
    "\n",
    "finalised_segmented_profiles_unsuccessful = unsuccessful_profiles.loc[:999]\n",
    "finalised_segmented_profiles_unsuccessful.to_csv(os.path.join(os.getcwd(),'data','Unsuccessful','finalised_segmented_profiles_unsuccessful.csv'), index=False)"
   ],
   "metadata": {
    "collapsed": false,
    "ExecuteTime": {
     "end_time": "2024-03-15T04:09:00.767041Z",
     "start_time": "2024-03-15T04:08:58.256637Z"
    }
   },
   "id": "60bc359d76006bab",
   "execution_count": 134
  },
  {
   "cell_type": "code",
   "outputs": [
    {
     "name": "stdout",
     "output_type": "stream",
     "text": [
      "segment\n",
      "L4    514\n",
      "L3    287\n",
      "L5     93\n",
      "L2     83\n",
      "L1     24\n",
      "Name: count, dtype: int64\n",
      "Indexes of unusual segments: [954, 968, 975]\n"
     ]
    }
   ],
   "source": [
    "# Let's inspect the successful dataset\n",
    "original_data['segment'].value_counts()\n",
    "\n",
    "unusual_segments_mask = original_data['segment'].str.len() > 3\n",
    "\n",
    "# You can also identify them by checking if they contain specific keywords\n",
    "# unusual_segments_mask = rest_unsuccessful_profiles['segment'].str.contains('information does not clearly identify')\n",
    "\n",
    "# Replace unusual segments with a default value, e.g., 'L3' for these \n",
    "original_data.loc[unusual_segments_mask, 'segment'] = 'L3'\n",
    "\n",
    "# Verify the changes\n",
    "print(original_data['segment'].value_counts())\n",
    "\n",
    "# If you need to identify the indexes of the unusual segments explicitly\n",
    "unusual_segment_indexes = original_data.index[unusual_segments_mask].tolist()\n",
    "print(\"Indexes of unusual segments:\", unusual_segment_indexes)"
   ],
   "metadata": {
    "collapsed": false,
    "ExecuteTime": {
     "end_time": "2024-03-15T03:54:52.194334Z",
     "start_time": "2024-03-15T03:54:52.040811Z"
    }
   },
   "id": "9151991ef729ec74",
   "execution_count": 126
  },
  {
   "cell_type": "code",
   "outputs": [],
   "source": [
    "# Let's save the processed ver for successful one\n",
    "\n",
    "original_data['segment'].value_counts()\n",
    "\n",
    "original_data.to_csv(os.path.join(os.getcwd(),'data','successful','finalised_segmented_profiles_successful.csv'), index=False)"
   ],
   "metadata": {
    "collapsed": false,
    "ExecuteTime": {
     "end_time": "2024-03-15T04:16:01.108078Z",
     "start_time": "2024-03-15T04:15:47.625740Z"
    }
   },
   "id": "221da604320ffe8d",
   "execution_count": 137
  },
  {
   "cell_type": "code",
   "outputs": [],
   "source": [],
   "metadata": {
    "collapsed": false
   },
   "id": "dfd4e5c2146101ba"
  }
 ],
 "metadata": {
  "kernelspec": {
   "display_name": "Python 3",
   "language": "python",
   "name": "python3"
  },
  "language_info": {
   "codemirror_mode": {
    "name": "ipython",
    "version": 2
   },
   "file_extension": ".py",
   "mimetype": "text/x-python",
   "name": "python",
   "nbconvert_exporter": "python",
   "pygments_lexer": "ipython2",
   "version": "2.7.6"
  }
 },
 "nbformat": 4,
 "nbformat_minor": 5
}
